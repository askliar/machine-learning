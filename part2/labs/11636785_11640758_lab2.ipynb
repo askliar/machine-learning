{
 "cells": [
  {
   "cell_type": "markdown",
   "metadata": {},
   "source": [
    "### Authors:\n",
    "Gabriele Bani 11640758\n",
    "\n",
    "Andrii Skliar 11636785"
   ]
  },
  {
   "cell_type": "markdown",
   "metadata": {
    "deletable": false,
    "editable": false,
    "nbgrader": {
     "checksum": "96a94c5280b3796c2e3bda8d652f9ee1",
     "grade": false,
     "grade_id": "cell-66ada6339bda77a6",
     "locked": true,
     "schema_version": 1,
     "solution": false
    }
   },
   "source": [
    "# Lab 2: Inference in Graphical Models\n",
    "\n",
    "### Machine Learning 2 (2017/2018)\n",
    "\n",
    "* The lab exercises should be made in groups of two people.\n",
    "* The deadline is Thursday, 29.04, 23:59.\n",
    "* Assignment should be submitted through BlackBoard! Make sure to include your and your teammates' names with the submission.\n",
    "* Attach the .IPYNB (IPython Notebook) file containing your code and answers. Naming of the file should be \"studentid1\\_studentid2\\_lab#\", for example, the attached file should be \"12345\\_12346\\_lab1.ipynb\". Only use underscores (\"\\_\") to connect ids, otherwise the files cannot be parsed.\n",
    "\n",
    "Notes on implementation:\n",
    "\n",
    "* You should write your code and answers in an IPython Notebook: http://ipython.org/notebook.html. If you have problems, please ask.\n",
    "* Use __one cell__ for code and markdown answers only!\n",
    "    * Put all code in the cell with the ```# YOUR CODE HERE``` comment and overwrite the ```raise NotImplementedError()``` line.\n",
    "    * For theoretical questions, put your solution using LaTeX style formatting in the YOUR ANSWER HERE cell.\n",
    "* Among the first lines of your notebook should be \"%pylab inline\". This imports all required modules, and your plots will appear inline.\n",
    "* Large parts of you notebook will be graded automatically. Therefore it is important that your notebook can be run completely without errors and within a reasonable time limit. To test your notebook before submission, select Kernel -> Restart \\& Run All."
   ]
  },
  {
   "cell_type": "markdown",
   "metadata": {
    "deletable": false,
    "editable": false,
    "nbgrader": {
     "checksum": "2a0482dac028fae34551f9e75cc82068",
     "grade": false,
     "grade_id": "cell-7c4914def40aeb03",
     "locked": true,
     "schema_version": 1,
     "solution": false
    }
   },
   "source": [
    "### Introduction\n",
    "In this assignment, we will implement the sum-product and max-sum algorithms for factor graphs over discrete variables. The relevant theory is covered in chapter 8 of Bishop's PRML book, in particular section 8.4. Read this chapter carefuly before continuing!\n",
    "\n",
    "We will implement sum-product and max-sum and apply it to a poly-tree structured medical diagnosis example.\n",
    "\n",
    "For this assignment you should use numpy ndarrays (constructed with np.array, np.zeros, np.ones, etc.). We need n-dimensional arrays in order to store conditional distributions with more than one conditioning variable. If you want to perform matrix multiplication on arrays, use the np.dot function; all infix operators including *, +, -, work element-wise on arrays."
   ]
  },
  {
   "cell_type": "markdown",
   "metadata": {
    "deletable": false,
    "editable": false,
    "nbgrader": {
     "checksum": "b85b4dd3e9c765f6ed0d81b98161f0cd",
     "grade": false,
     "grade_id": "cell-7f9d339abedb92d3",
     "locked": true,
     "schema_version": 1,
     "solution": false
    }
   },
   "source": [
    "## Part 0: Doing the math (5 points)\n",
    "We start with a set of three Bernoulli distributed variables X, Y, Z. Calculate the marginals $p(Y=1)$ and $p(Y=0)$ using only the sum and product rule where,\n",
    "\n",
    "$$\n",
    "p(X=1) = 0.05 \\\\\\\\\n",
    "p(Z=1) = 0.2 \\\\\\\\\n",
    "$$\n",
    "$$\n",
    "p(Y = 1 | X = 1, Z = 1) = 0.99 \\\\\\\\\n",
    "p(Y = 1 | X = 1, Z = 0) = 0.9 \\\\\\\\\n",
    "p(Y = 1 | X = 0, Z = 1) = 0.7 \\\\\\\\\n",
    "p(Y = 1 | X = 0, Z = 0) = 0.0001 \\\\\\\\\n",
    "$$\n",
    "\n",
    "While implementing the message passing algorithms you should be able to use the results of this question as a guidance."
   ]
  },
  {
   "cell_type": "markdown",
   "metadata": {
    "deletable": false,
    "nbgrader": {
     "checksum": "cafc6734ba3ef70e630191e714f3c0b3",
     "grade": true,
     "grade_id": "cell-653065eb00c64d46",
     "locked": false,
     "points": 5,
     "schema_version": 1,
     "solution": true
    }
   },
   "source": [
    "\\begin{align*}\n",
    "p(Y=1) &= p(Y=1|X=1,Z=1)\\cdot p(X=1)\\cdot p(Z=1) + p(Y=1|X=1,Z=0)\\cdot p(X=1)\\cdot p(Z=0)\\\\\n",
    "&+ p(Y=1|X=0,Z=1)\\cdotp(X=0)\\cdotp(Z=1) + p(Y=1|X=0,Z=0)\\cdot p(X=0)\\cdot p(Z=0) \\\\\n",
    "&= p(Y=1|X=1,Z=1)\\cdot p(X=1)\\cdot p(Z=1) + p(Y=1|X=1,Z=0)\\cdot p(X=1)\\cdot (1 - p(Z=1))\\\\\n",
    "&+ p(Y=1|X=0,Z=1)\\cdot (1 - p(X=1)) \\cdot p(Z=1) + p(Y=1|X=0,Z=0)\\cdot (1 - p(X=1))\\cdot (1 - p(Z=1)) \\\\\n",
    "&= 0.99 \\cdot 0.05 \\cdot 0.2 + 0.9 \\cdot 0.05 \\cdot 0.8 + 0.7 \\cdot 0.95 \\cdot 0.2 + 0.0001 \\cdot 0.95 \\cdot 0.8 = 0.178976\\\\\n",
    "p(Y=0) &= (1 - p(Y=1)) = (1 - 0.178976) = 0.821024\n",
    "\\end{align*}"
   ]
  },
  {
   "cell_type": "code",
   "execution_count": 1,
   "metadata": {},
   "outputs": [
    {
     "name": "stdout",
     "output_type": "stream",
     "text": [
      "joint -> y=0, x=0, z=0, 0.759924\n",
      "joint -> y=0, x=0, z=1, 0.057\n",
      "joint -> y=1, x=0, z=0, 7.6e-05\n",
      "joint -> y=1, x=0, z=1, 0.133\n",
      "joint -> y=0, x=1, z=0, 0.004\n",
      "joint -> y=0, x=1, z=1, 0.0001\n",
      "joint -> y=1, x=1, z=0, 0.036\n",
      "joint -> y=1, x=1, z=1, 0.0099\n",
      "marginal for y\n",
      "[0.821024 0.178976]\n",
      "marginal for x (given)\n",
      "[0.95 0.05]\n",
      "marginal for z (given)\n",
      "[0.8 0.2]\n"
     ]
    }
   ],
   "source": [
    "# Calculate marginals for all the variables\n",
    "# this is not required, we added it for double checking\n",
    "import numpy as np\n",
    "px = np.array([0.95, 0.05])\n",
    "pz = np.array([0.80, 0.20])\n",
    "m = np.array([\n",
    "    [\n",
    "        [0.9999, 0.3], \n",
    "        [0.1, 0.01]\n",
    "    ], \n",
    "    [\n",
    "        [0.0001, 0.7], \n",
    "        [0.9, 0.99]\n",
    "    ]\n",
    "])\n",
    "\n",
    "joint = np.zeros(m.shape)\n",
    "for x in range(2):\n",
    "    for y in range(2):\n",
    "        for z in range(2):\n",
    "            joint[x, y, z] = np.around(m[y, x, z] * px[x]*pz[z], 6)\n",
    "            print(f'joint -> y={y}, x={x}, z={z}, {joint[x, y, z]}')\n",
    "print('marginal for y')\n",
    "print(joint.sum(0).sum(1))\n",
    "print('marginal for x (given)')\n",
    "print(joint.sum(1).sum(1))\n",
    "print('marginal for z (given)')\n",
    "print(joint.sum(0).sum(0))"
   ]
  },
  {
   "cell_type": "markdown",
   "metadata": {
    "deletable": false,
    "editable": false,
    "nbgrader": {
     "checksum": "28024e8ece48c8b90f5fa0fdd0c13a6e",
     "grade": false,
     "grade_id": "cell-9afa97d7b5de1808",
     "locked": true,
     "schema_version": 1,
     "solution": false
    }
   },
   "source": [
    "## Part 1: The sum-product algorithm\n",
    "\n",
    "We will implement a data structure to store a factor graph and to facilitate computations on this graph. Recall that a factor graph consists of two types of nodes, factors and variables. Below you will find some classes for these node types to get you started. Carefully inspect this code and make sure you understand what it does. Step by step will update its functionality."
   ]
  },
  {
   "cell_type": "code",
   "execution_count": 2,
   "metadata": {
    "deletable": false,
    "editable": false,
    "nbgrader": {
     "checksum": "1affe45cf22d1acc9bdb7a7994d07c6a",
     "grade": false,
     "grade_id": "cell-70843f7b3041a417",
     "locked": true,
     "schema_version": 1,
     "solution": false
    }
   },
   "outputs": [
    {
     "name": "stdout",
     "output_type": "stream",
     "text": [
      "Populating the interactive namespace from numpy and matplotlib\n"
     ]
    }
   ],
   "source": [
    "%pylab inline\n",
    "\n",
    "class Node(object):\n",
    "    \"\"\"\n",
    "    Base-class for Nodes in a factor graph. Only instantiate sub-classes of Node.\n",
    "    \"\"\"\n",
    "    def __init__(self, name):\n",
    "        # A name for this Node, for printing purposes\n",
    "        self.name = name\n",
    "        \n",
    "        # Neighbours in the graph, identified with their index in this list.\n",
    "        # i.e. self.neighbours contains neighbour 0 through len(self.neighbours) - 1.\n",
    "        self.neighbours = []\n",
    "        \n",
    "        # Reset the node-state (not the graph topology)\n",
    "        self.reset()\n",
    "        \n",
    "    def reset(self):\n",
    "        # Incomming messages; a dictionary mapping neighbours to messages.\n",
    "        # That is, it maps  Node -> np.ndarray.\n",
    "        self.in_msgs = {}\n",
    "        \n",
    "        # A set of neighbours for which this node has pending messages.\n",
    "        # We use a python set object so we don't have to worry about duplicates.\n",
    "        self.pending = set([])\n",
    "\n",
    "    def add_neighbour(self, nb):\n",
    "        self.neighbours.append(nb)\n",
    "\n",
    "    def send_sp_msg(self, other):\n",
    "        # To be implemented in subclass.\n",
    "        raise Exception('Method send_sp_msg not implemented in base-class Node')\n",
    "   \n",
    "    def send_ms_msg(self, other):\n",
    "        # To be implemented in subclass.\n",
    "        raise Exception('Method send_ms_msg not implemented in base-class Node')\n",
    "    \n",
    "    def receive_msg(self, other, msg):\n",
    "        # Store the incomming message, replacing previous messages from the same node\n",
    "        self.in_msgs[other] = msg\n",
    "\n",
    "        # TODO: add pending messages\n",
    "        # self.pending.update(...)\n",
    "    \n",
    "    def __str__(self):\n",
    "        # This is printed when using 'print node_instance'\n",
    "        return self.name\n",
    "\n",
    "\n",
    "class Variable(Node):\n",
    "    def __init__(self, name, num_states):\n",
    "        \"\"\"\n",
    "        Variable node constructor.\n",
    "        Args:\n",
    "            name: a name string for this node. Used for printing. \n",
    "            num_states: the number of states this variable can take.\n",
    "            Allowable states run from 0 through (num_states - 1).\n",
    "            For example, for a binary variable num_states=2,\n",
    "            and the allowable states are 0, 1.\n",
    "        \"\"\"\n",
    "        self.num_states = num_states\n",
    "        \n",
    "        # Call the base-class constructor\n",
    "        super(Variable, self).__init__(name)\n",
    "    \n",
    "    def set_observed(self, observed_state):\n",
    "        \"\"\"\n",
    "        Set this variable to an observed state.\n",
    "        Args:\n",
    "            observed_state: an integer value in [0, self.num_states - 1].\n",
    "        \"\"\"\n",
    "        # Observed state is represented as a 1-of-N variable\n",
    "        # Set all-but-one states to a very low probability;\n",
    "        # (a bit of a hack to avoid -inf values when taking logs)\n",
    "        self.observed_state[:] = 1e-10\n",
    "        self.observed_state[observed_state] = 1.0\n",
    "        \n",
    "    def set_latent(self):\n",
    "        \"\"\"\n",
    "        Erase an observed state for this variable and consider it latent again.\n",
    "        \"\"\"\n",
    "        # No state is preferred, so set all entries of observed_state to 1.0\n",
    "        # Using this representation we need not differentiate observed an latent\n",
    "        # variables when sending messages.\n",
    "        self.observed_state[:] = 1.0\n",
    "        \n",
    "    def reset(self):\n",
    "        super(Variable, self).reset()\n",
    "        self.observed_state = np.ones(self.num_states)\n",
    "        \n",
    "    def marginal(self):\n",
    "        \"\"\"\n",
    "        Compute the marginal distribution of this Variable.\n",
    "        It is assumed that message passing has completed when this function is called.\n",
    "        \"\"\"\n",
    "        # TODO: compute marginal\n",
    "        return None\n",
    "    \n",
    "    def unnormalized_log_marginal(self):\n",
    "        \"\"\"\n",
    "        Compute the unnormalized log marginal distribution of this Variable.\n",
    "        It is assumed that message passing has completed when this function is called.\n",
    "        \"\"\"\n",
    "        # TODO: compute unnormalized log marginal\n",
    "        return None\n",
    "    \n",
    "    def send_sp_msg(self, other):\n",
    "        # TODO: implement Variable -> Factor message for sum-product\n",
    "        pass\n",
    "   \n",
    "    def send_ms_msg(self, other):\n",
    "        # TODO: implement Variable -> Factor message for max-sum\n",
    "        pass\n",
    "\n",
    "class Factor(Node):\n",
    "    def __init__(self, name, f, neighbours):\n",
    "        \"\"\"\n",
    "        Factor node constructor.\n",
    "        Args:\n",
    "            name: a name string for this node. Used for printing\n",
    "            f: a numpy.ndarray with N axes, where N is the number of neighbours.\n",
    "               That is, the axes of f correspond to variables, and the index along that axes corresponds to a value of that variable.\n",
    "               Each axis of the array should have as many entries as the corresponding neighbour variable has states.\n",
    "            neighbours: a list of neighbouring Variables. Bi-directional connections are created.\n",
    "        \"\"\"\n",
    "        # Call the base-class constructor\n",
    "        super(Factor, self).__init__(name)\n",
    "        \n",
    "        f = np.array(f)  # For convenience, accept lists (of lists (of numbers or potentially lists of ...))\n",
    "        \n",
    "        assert len(neighbours) == f.ndim, 'Factor function f should accept as many arguments as this Factor node has neighbours'\n",
    "        \n",
    "        for nb_ind in range(len(neighbours)):\n",
    "            nb = neighbours[nb_ind]\n",
    "            assert f.shape[nb_ind] == nb.num_states, 'The range of the factor function f is invalid for input %i %s' % (nb_ind, nb.name)\n",
    "            self.add_neighbour(nb)\n",
    "            nb.add_neighbour(self)\n",
    "\n",
    "        self.f = f\n",
    "        \n",
    "    def send_sp_msg(self, other):\n",
    "        # TODO: implement Factor -> Variable message for sum-product\n",
    "        pass\n",
    "   \n",
    "    def send_ms_msg(self, other):\n",
    "        # TODO: implement Factor -> Variable message for max-sum\n",
    "        pass\n"
   ]
  },
  {
   "cell_type": "markdown",
   "metadata": {
    "deletable": false,
    "editable": false,
    "nbgrader": {
     "checksum": "24aa9afccd84106fdc0727236c1cb186",
     "grade": false,
     "grade_id": "cell-e0ada624a5583fce",
     "locked": true,
     "schema_version": 1,
     "solution": false
    }
   },
   "source": [
    "### 1.1. Initialize the graph (5 points)\n",
    "The equations in Part 0 can be represented by a factor graph. Instantiate this graph by creating Variable and Factor instances and linking them according to the graph structure. \n",
    "To instantiate the factor graph, first create the Variable nodes and then create Factor nodes, passing a list of neighbour Variables to each Factor. To get you started, we initialize the variable node for $X$ and the factor node corresponding to the prior $p(X)$."
   ]
  },
  {
   "cell_type": "code",
   "execution_count": 3,
   "metadata": {
    "collapsed": true,
    "deletable": false,
    "nbgrader": {
     "checksum": "e8e1e5033150190f7ba288f5a2b004b4",
     "grade": false,
     "grade_id": "cell-85011c26139bed2e",
     "locked": false,
     "schema_version": 1,
     "solution": true
    }
   },
   "outputs": [],
   "source": [
    "X = Variable(name='X', num_states=2)\n",
    "X_prior = Factor(name='p(X)',\n",
    "                 f=np.array([0.95, 0.05]),\n",
    "                 neighbours=[X])\n",
    "\n",
    "# Please stick to the naming convention used below, otherwise the test functionality throughout the lab won't work\n",
    "Z = Variable(name='Z', num_states=2)\n",
    "Z_prior = Factor(name='p(Z)',\n",
    "                 f=np.array([0.80, 0.20]),\n",
    "                 neighbours=[Z])\n",
    "                 \n",
    "Y = Variable(name='Y', num_states=2)\n",
    "Y_cond = Factor(name='p(Y | X, Z)',\n",
    "                 f=np.array([\n",
    "                 [[0.9999, 0.3], [0.1, 0.01]],\n",
    "                 [[0.0001, 0.7], [0.9, 0.99]],\n",
    "                 ]),\n",
    "                 neighbours=[Y, X, Z])  "
   ]
  },
  {
   "cell_type": "code",
   "execution_count": 4,
   "metadata": {
    "collapsed": true,
    "deletable": false,
    "editable": false,
    "nbgrader": {
     "checksum": "1d247840a0cad095db98f369d0531275",
     "grade": true,
     "grade_id": "cell-1bf4d184d405f181",
     "locked": true,
     "points": 5,
     "schema_version": 1,
     "solution": false
    }
   },
   "outputs": [],
   "source": [
    "### Test test test\n",
    "assert Z_prior.f.shape == (2,)\n",
    "assert Y_cond.f.shape == (2, 2, 2)\n",
    "\n"
   ]
  },
  {
   "cell_type": "markdown",
   "metadata": {
    "deletable": false,
    "editable": false,
    "nbgrader": {
     "checksum": "09f3f672778ffb77e22ba8702e9a2911",
     "grade": false,
     "grade_id": "cell-af817385e2927300",
     "locked": true,
     "schema_version": 1,
     "solution": false
    }
   },
   "source": [
    "We will be doing a lot of marginalizations, i.e. obtain the distribution of a *single* variable from a distribution over multiple variables. Let's first write a function `marginalize` for that."
   ]
  },
  {
   "cell_type": "code",
   "execution_count": 5,
   "metadata": {
    "deletable": false,
    "nbgrader": {
     "checksum": "d81924d48029a907c55cea627ae5b56f",
     "grade": false,
     "grade_id": "cell-74ecd6f85f99a2d5",
     "locked": false,
     "schema_version": 1,
     "solution": true
    }
   },
   "outputs": [
    {
     "name": "stdout",
     "output_type": "stream",
     "text": [
      "[0.57354891 0.42645109]\n",
      "[0.42323629 0.20899062 0.36777309]\n",
      "[0.23683897 0.16852547 0.3175838  0.27705176]\n"
     ]
    }
   ],
   "source": [
    "# To marginalize, we sum over all variables except for the one, that we are interested in\n",
    "def marginalize(P, dim):\n",
    "    n_dims = len(P.shape)\n",
    "    indexes = tuple(i for i in range(n_dims) if i != dim)\n",
    "    return np.sum(P, indexes)\n",
    "\n",
    "# Lets try it\n",
    "test_P = np.random.rand(2, 3, 4)\n",
    "test_P = test_P / test_P.sum()  # Normalize for proper distribution\n",
    "\n",
    "# Do the marginal distributions look like you expect?\n",
    "print (marginalize(test_P, 0))\n",
    "print (marginalize(test_P, 1))\n",
    "print (marginalize(test_P, 2))\n"
   ]
  },
  {
   "cell_type": "markdown",
   "metadata": {
    "deletable": false,
    "editable": false,
    "nbgrader": {
     "checksum": "83cf7c2b9bf87fc4a0268c36436195f6",
     "grade": false,
     "grade_id": "cell-56015dc94e6caaf4",
     "locked": true,
     "schema_version": 1,
     "solution": false
    }
   },
   "source": [
    "### 1.2 Factor to variable messages (20 points)\n",
    "Write a method `send_sp_msg(self, other)` for the Factor class, that checks if all the information required to pass a message to `Variable` `other` is present, computes the message and sends it to `other`. \"Sending\" here simply means calling the `receive_msg` function of the receiving node (we will implement this later). The message itself should be represented as a numpy array (np.array) whose length is equal to the number of states of the variable.\n",
    "\n",
    "In the very end of 1.2 below we overwrite `send_sp_msg(self, other)` for the Factor class. In general, this is considered bad practise but in this lab it saves us from scrolling up and down all the time.\n",
    "\n",
    "You will implement a function `send_sp_msg` that sends a message from a factor to a variable for the max-sum algorith. This function implements Equation 8.66 from Bishop. The message should be a numpy array (np.array) whose length is equal to the number of states of the variable.\n",
    "\n",
    "It is a good idea to write a number of helper functions to implement these equations.\n",
    "\n",
    "Since it is always a good idea to include checks, you should first write a method `can_send_message` that checks whether a node `node` has all the information required to pass a message to `other`. This should work for both variable and factor nodes."
   ]
  },
  {
   "cell_type": "code",
   "execution_count": 6,
   "metadata": {
    "deletable": false,
    "nbgrader": {
     "checksum": "8b75b5269753ba1861f6c7dbd41fa1a5",
     "grade": false,
     "grade_id": "cell-4164822e95a6b68a",
     "locked": false,
     "schema_version": 1,
     "solution": true
    }
   },
   "outputs": [
    {
     "name": "stdout",
     "output_type": "stream",
     "text": [
      "False\n",
      "True\n"
     ]
    }
   ],
   "source": [
    "# We check if all the messages for a receiver have been received\n",
    "# If there is at least one message missing - we return False\n",
    "def can_send_message(sender, receiver):\n",
    "    for neighbour in sender.neighbours:\n",
    "        if neighbour == receiver:\n",
    "            continue\n",
    "        if neighbour not in sender.in_msgs.keys():\n",
    "            return False\n",
    "    \n",
    "    return True\n",
    "\n",
    "\n",
    "\n",
    "# Do the results make sense?\n",
    "print (can_send_message(X, X_prior))\n",
    "print (can_send_message(X_prior, X))\n"
   ]
  },
  {
   "cell_type": "markdown",
   "metadata": {
    "deletable": false,
    "editable": false,
    "nbgrader": {
     "checksum": "15c446225bb0473c69caa2219f4c80bd",
     "grade": false,
     "grade_id": "cell-816ded386be1b608",
     "locked": true,
     "schema_version": 1,
     "solution": false
    }
   },
   "source": [
    "\n",
    "In Eq. 8.66, Bishop writes $f(x, x_1, ..., x_M)$, where $x$ corresponds to the variable that will receive the message. For now, assume this variable is the `index`-th neighbour of the factor. In order to ease implementation, it may be a good idea to write a function that rearanges the dimensions of `f` to comply with this notation, i.e. moves the dimension `index` to the front. Make sure to return a copy and keep all other dimensions in order! Use `np.moveaxis`."
   ]
  },
  {
   "cell_type": "code",
   "execution_count": 7,
   "metadata": {
    "collapsed": true,
    "deletable": false,
    "nbgrader": {
     "checksum": "296bbf4e2783a797fe753c30c7ad7877",
     "grade": false,
     "grade_id": "cell-702210e632c423bd",
     "locked": false,
     "schema_version": 1,
     "solution": true
    }
   },
   "outputs": [],
   "source": [
    "def move_dimension_first(f, index):\n",
    "    moved = np.moveaxis(f, index, 0)\n",
    "    return moved\n",
    "    "
   ]
  },
  {
   "cell_type": "markdown",
   "metadata": {},
   "source": [
    "You should calculate the product of the incoming messages of all neighbours of the sending node except the receiving node. Therefore it may be useful to write a function `get_neighbour_messages` that gathers these messages in a list. If you want to not make things complicated, make sure the order of the messages in the list corresponds to the order of the variables in `neighbours`."
   ]
  },
  {
   "cell_type": "code",
   "execution_count": 8,
   "metadata": {
    "collapsed": true,
    "deletable": false,
    "nbgrader": {
     "checksum": "aec4aebe3b5cc9ee35ae118c1763ff26",
     "grade": false,
     "grade_id": "cell-9e7f7986263e1543",
     "locked": false,
     "schema_version": 1,
     "solution": true
    }
   },
   "outputs": [],
   "source": [
    "# We get messages from all the neighbours except for the receiver\n",
    "# We do an additional check to ensure that the message from a specified neighbour is actually in the list of incoming messages\n",
    "def get_neighbour_messages(sender, receiver):\n",
    "    l = [sender.in_msgs[n] for n in sender.neighbours if n != receiver and n in sender.in_msgs]\n",
    "    return l"
   ]
  },
  {
   "cell_type": "markdown",
   "metadata": {},
   "source": [
    "Before marginalizing, we need to calculate $\\prod_{m\\in\\text{ne}(f_s)\\setminus x} \\mu_{x_m\\rightarrow f_s}(x_m)$ (Eq. 8.66) for all possible combinations of $x_1, ..., x_M$ (values of the neighbour nodes except the receiving node). An elegant and efficient way to calculate these is using the n-way outer product of vectors. This product takes n vectors $\\mathbf{x}^{(1)}, \\ldots, \\mathbf{x}^{(n)}$ and computes a $n$-dimensional tensor (ndarray) whose element $i_0,i_1,...,i_n$ is given by $\\prod_j \\mathbf{x}^{(j)}_{i_j}$. In python, this is realized as `np.multiply.reduce(np.ix_(*vectors))` for a python list `vectors` of 1D numpy arrays. Try to figure out how this statement works -- it contains some useful functional programming techniques. What should `vectors` be? Try to see the link between the result and Eq. 8.66."
   ]
  },
  {
   "cell_type": "code",
   "execution_count": 9,
   "metadata": {
    "collapsed": true,
    "deletable": false,
    "nbgrader": {
     "checksum": "e5e5d3c0d6252b785451adf1c41bd5fc",
     "grade": false,
     "grade_id": "cell-67269e06a554035c",
     "locked": false,
     "schema_version": 1,
     "solution": true
    }
   },
   "outputs": [],
   "source": [
    "def calc_other_neighbour_msg_prod(sender, receiver):\n",
    "    messages = get_neighbour_messages(sender, receiver)\n",
    "    prod = np.multiply.reduce(np.ix_(*messages))\n",
    "    \n",
    "    return prod"
   ]
  },
  {
   "cell_type": "markdown",
   "metadata": {
    "deletable": false,
    "editable": false,
    "nbgrader": {
     "checksum": "00442c496ed4ebda7eff1672a64c9f59",
     "grade": false,
     "grade_id": "cell-d5366f0c524b30d0",
     "locked": true,
     "schema_version": 1,
     "solution": false
    }
   },
   "source": [
    "Following Eq. 8.66, before marginalizing, you should calculate the product of $f(x, x_1, ..., x_M)$ with $\\prod_{m\\in\\text{ne}(f_s)\\setminus x} \\mu_{x_m\\rightarrow f_s}(x_m)$ for all configurations of $x, x_1, ..., x_M$. Since the second part does not depend on $x$, its tensor representations are of different dimensions. You can overcome this problem by using a loop, but preferably use numpy broadcasting by first aligning the dimensions of the tensors. You can use `np.expand_dims` or `X[None, ...]` to insert one dimension at the front. Write a function `calculate_factor` that, given `f` (which is reordered such that $x$ corresponds to the first dimension) and the (outer) product of the other neighbour messages, computes $f(x, x_1, ..., x_M) \\prod_{m\\in\\text{ne}(f_s)\\setminus x} \\mu_{x_m\\rightarrow f_s}(x_m)$ for all configurations of $x, x_1, ..., x_M$."
   ]
  },
  {
   "cell_type": "code",
   "execution_count": 10,
   "metadata": {
    "collapsed": true,
    "deletable": false,
    "nbgrader": {
     "checksum": "3ab59a95b589ff71451036c73b289138",
     "grade": false,
     "grade_id": "cell-d34359928f3a997d",
     "locked": false,
     "schema_version": 1,
     "solution": true
    }
   },
   "outputs": [],
   "source": [
    "def calculate_factor(f_neighb_first, neighbour_msg_prod):\n",
    "    # Because of the broadcasting rules of numpy, we don't necessarily need to expand dimensions before multiplication\n",
    "    factor = f_neighb_first * neighbour_msg_prod\n",
    "    return factor\n"
   ]
  },
  {
   "cell_type": "markdown",
   "metadata": {
    "deletable": false,
    "editable": false,
    "nbgrader": {
     "checksum": "ef9e90a515d362d281f313955fbbc75f",
     "grade": false,
     "grade_id": "cell-d9b12fad1b574924",
     "locked": true,
     "schema_version": 1,
     "solution": false
    }
   },
   "source": [
    "Put all the pieces together to define a function `calc_sum_product_factor_to_variable_msg` that calculates Eq. 8.66."
   ]
  },
  {
   "cell_type": "code",
   "execution_count": 11,
   "metadata": {
    "collapsed": true,
    "deletable": false,
    "nbgrader": {
     "checksum": "f3a2dc41ed909c8d0eb88b213ce66a99",
     "grade": false,
     "grade_id": "cell-ec6b421860d40ae0",
     "locked": false,
     "schema_version": 1,
     "solution": true
    }
   },
   "outputs": [],
   "source": [
    "def calc_sum_product_factor_to_variable_msg(factor, variable):\n",
    "    var_index = factor.neighbours.index(variable)\n",
    "    f_neighb_first = move_dimension_first(factor.f, var_index)\n",
    "    neighbour_msg_prod = calc_other_neighbour_msg_prod(factor, variable)\n",
    "\n",
    "    f2 = calculate_factor(f_neighb_first, neighbour_msg_prod)\n",
    "    f = marginalize(f2, 0)\n",
    "    return f\n"
   ]
  },
  {
   "cell_type": "code",
   "execution_count": 12,
   "metadata": {
    "collapsed": true,
    "deletable": false,
    "nbgrader": {
     "checksum": "c65b2bb803c0f8b53c5eb427e8bb2906",
     "grade": false,
     "grade_id": "cell-7d334ab3a40918b0",
     "locked": true,
     "schema_version": 1,
     "solution": false
    }
   },
   "outputs": [],
   "source": [
    "# Finally, we will define the send message function for you\n",
    "# Note, that we have edited the cell in order to return message \n",
    "# It is being printed during backward and forward pass, which greatly simplified the debugging procedure for us\n",
    "def factor_send_sp_msg(self, variable):\n",
    "    \n",
    "    assert isinstance(variable, Variable), \"Factor can only send messages to variable!\"\n",
    "    assert can_send_message(self, variable), \"Cannot send message!\"\n",
    "    \n",
    "    out_msg = calc_sum_product_factor_to_variable_msg(self, variable)\n",
    "    \n",
    "    # Send the message\n",
    "    variable.receive_msg(self, out_msg)\n",
    "    \n",
    "    # Remove the pending sign if present\n",
    "    self.pending.discard(variable)\n",
    "    return out_msg\n",
    "    \n",
    "Factor.send_sp_msg = factor_send_sp_msg\n"
   ]
  },
  {
   "cell_type": "code",
   "execution_count": 13,
   "metadata": {
    "collapsed": true,
    "deletable": false,
    "editable": false,
    "nbgrader": {
     "checksum": "4ddb724608cd7205b51cbadda1a3664f",
     "grade": true,
     "grade_id": "cell-429fba08a94a3bd2",
     "locked": true,
     "points": 20,
     "schema_version": 1,
     "solution": false
    }
   },
   "outputs": [],
   "source": [
    "### Test test test\n",
    "# message from X_prior to X\n",
    "X_prior.reset()\n",
    "X.reset()\n",
    "\n",
    "X_prior.send_sp_msg(X)\n",
    "assert np.allclose(list(X.in_msgs.values()), [0.95, 0.05])\n",
    "\n",
    "# message from Z_prior to Z\n",
    "Z_prior.reset()\n",
    "Z.reset()\n",
    "\n",
    "Z_prior.send_sp_msg(Z)\n",
    "assert np.allclose(list(Z.in_msgs.values()), [0.8, 0.2])\n",
    "\n",
    "# message from Y_cond to Y\n",
    "Y_cond.reset()\n",
    "Y.reset()\n",
    "\n",
    "Y_cond.receive_msg(X, X_prior.f) # simulating that Y_cond received all necessary messages from X\n",
    "Y_cond.receive_msg(Z, Z_prior.f) # simulating that Y_cond received all necessary messages from Z\n",
    "Y_cond.send_sp_msg(Y)\n",
    "assert np.allclose(list(Y.in_msgs.values()), [0.821024, 0.178976])\n"
   ]
  },
  {
   "cell_type": "markdown",
   "metadata": {
    "deletable": false,
    "editable": false,
    "nbgrader": {
     "checksum": "2fd488d52a30d4081cdbc910c280a279",
     "grade": false,
     "grade_id": "cell-2ac03f39f1b1281c",
     "locked": true,
     "schema_version": 1,
     "solution": false
    }
   },
   "source": [
    "### 1.3 Variable to factor messages (10 points)\n",
    "\n",
    "Write a method `calc_sum_product_variable_to_factor_msg(variable, factor)` that computes the message to be sent to a neighbour variable by a factor."
   ]
  },
  {
   "cell_type": "code",
   "execution_count": 14,
   "metadata": {
    "collapsed": true,
    "deletable": false,
    "nbgrader": {
     "checksum": "5c3c49af77b02653acaac2455d864132",
     "grade": false,
     "grade_id": "cell-93d0a0d839eb99f3",
     "locked": false,
     "schema_version": 1,
     "solution": true
    }
   },
   "outputs": [],
   "source": [
    "def calc_sum_product_variable_to_factor_msg(variable, factor):\n",
    "    if len(variable.neighbours) == 1:\n",
    "        message = np.ones(variable.num_states)\n",
    "    else:\n",
    "        messages = get_neighbour_messages(variable, factor)\n",
    "        # we can do elementwise product because the messages to a variable have the same dimension\n",
    "        message = np.prod(messages, axis=0)\n",
    "\n",
    "    return message\n",
    "    "
   ]
  },
  {
   "cell_type": "code",
   "execution_count": 15,
   "metadata": {
    "collapsed": true,
    "deletable": false,
    "nbgrader": {
     "checksum": "bb0a564a418df48edc0a627ff3df1bc4",
     "grade": false,
     "grade_id": "cell-8ce3afc9581048ad",
     "locked": true,
     "schema_version": 1,
     "solution": false
    }
   },
   "outputs": [],
   "source": [
    "# Finally, we will define the send message function for you\n",
    "def variable_send_sp_msg(self, factor):\n",
    "    \n",
    "    assert isinstance(factor, Factor), \"Variable can only send messages to factor!\"\n",
    "    assert can_send_message(self, factor), \"Cannot send message!\"\n",
    "    \n",
    "    out_msg = calc_sum_product_variable_to_factor_msg(self, factor)\n",
    "    \n",
    "    # Send the message\n",
    "    factor.receive_msg(self, out_msg)\n",
    "    \n",
    "    # Remove the pending sign if present\n",
    "    self.pending.discard(factor)\n",
    "    return out_msg\n",
    "    \n",
    "Variable.send_sp_msg = variable_send_sp_msg\n"
   ]
  },
  {
   "cell_type": "code",
   "execution_count": 16,
   "metadata": {
    "collapsed": true,
    "deletable": false,
    "editable": false,
    "nbgrader": {
     "checksum": "80a738a13d17bc6014f56719bc935ca4",
     "grade": true,
     "grade_id": "cell-0cbe0bfa635450f3",
     "locked": true,
     "points": 10,
     "schema_version": 1,
     "solution": false
    }
   },
   "outputs": [],
   "source": [
    "### Test test test\n",
    "Y_cond.reset()\n",
    "Y.reset()\n",
    "\n",
    "# First message from X to Y_cond\n",
    "X_prior.reset()\n",
    "X.reset()\n",
    "X_prior.send_sp_msg(X) # simulating that X received all necessary messages\n",
    "X.send_sp_msg(Y_cond) \n",
    "assert np.allclose(list(Y_cond.in_msgs.values()), [0.95, 0.05])\n",
    "\n",
    "# Second message from Z to Y_cond\n",
    "Z_prior.reset()\n",
    "Z.reset()\n",
    "Z_prior.send_sp_msg(Z) # simulating that Z received all necessary messages\n",
    "Z.send_sp_msg(Y_cond)\n",
    "assert np.allclose(list(Y_cond.in_msgs.values()), [[0.95, 0.05], [0.8, 0.2]])\n"
   ]
  },
  {
   "cell_type": "markdown",
   "metadata": {
    "deletable": false,
    "editable": false,
    "nbgrader": {
     "checksum": "72a4f47ec3cd02e4e32b7d68e9d0692b",
     "grade": false,
     "grade_id": "cell-6346fc68da031348",
     "locked": true,
     "schema_version": 1,
     "solution": false
    }
   },
   "source": [
    "### Testing a single forward pass and a single backward pass\n",
    "Before we go on we will make sure that messages can be passed in both directions the graph."
   ]
  },
  {
   "cell_type": "code",
   "execution_count": 17,
   "metadata": {
    "collapsed": true,
    "deletable": false,
    "editable": false,
    "nbgrader": {
     "checksum": "d50a8fd57d73f85f1c8f81be1ba13f69",
     "grade": false,
     "grade_id": "cell-f44819044a283ec9",
     "locked": true,
     "schema_version": 1,
     "solution": false
    }
   },
   "outputs": [],
   "source": [
    "X_prior.reset()\n",
    "X.reset()\n",
    "Z_prior.reset()\n",
    "Z.reset()\n",
    "Y_cond.reset()\n",
    "Y.reset()\n",
    "\n",
    "# Forward pass\n",
    "X_prior.send_sp_msg(X)\n",
    "Z_prior.send_sp_msg(Z)\n",
    "X.send_sp_msg(Y_cond)\n",
    "Z.send_sp_msg(Y_cond)\n",
    "Y_cond.send_sp_msg(Y)\n",
    "assert np.allclose(list(Y.in_msgs.values()), [0.821024, 0.178976])\n",
    "\n",
    "# Backward pass\n",
    "Y.send_sp_msg(Y_cond)\n",
    "Y_cond.send_sp_msg(X)\n",
    "Y_cond.send_sp_msg(Z)\n",
    "X.send_sp_msg(X_prior)\n",
    "Z.send_sp_msg(Z_prior)\n",
    "assert np.allclose(list(X.in_msgs.values()), [[0.95, 0.05],[1., 1.]])\n",
    "assert np.allclose(list(Z.in_msgs.values()), [[0.8, 0.2],[1., 1.]])\n"
   ]
  },
  {
   "cell_type": "markdown",
   "metadata": {
    "deletable": false,
    "editable": false,
    "nbgrader": {
     "checksum": "27ce20145a58d03708168b08fbbfeadd",
     "grade": false,
     "grade_id": "cell-f1b2c01d81e8d007",
     "locked": true,
     "schema_version": 1,
     "solution": false
    }
   },
   "source": [
    "### 1.4 Compute marginal (10 points)\n",
    "Later in this assignment, we will implement message passing schemes to do inference. Once the message passing has completed, we will want to compute local marginals for each variable.\n",
    "Write the method `marginal` for the `Variable` class, that computes a marginal distribution over that node."
   ]
  },
  {
   "cell_type": "code",
   "execution_count": 18,
   "metadata": {
    "collapsed": true,
    "deletable": false,
    "nbgrader": {
     "checksum": "8002994abb8ad6ada1ad19a0b433c273",
     "grade": false,
     "grade_id": "cell-0f6434f5c5d4dc9c",
     "locked": false,
     "schema_version": 1,
     "solution": true
    }
   },
   "outputs": [],
   "source": [
    "def marginal(self):\n",
    "    marginal = np.multiply.reduce(list(self.in_msgs.values()), 0)\n",
    "    \n",
    "    return marginal\n",
    "\n",
    "Variable.marginal = marginal\n"
   ]
  },
  {
   "cell_type": "code",
   "execution_count": 19,
   "metadata": {
    "collapsed": true,
    "deletable": false,
    "editable": false,
    "nbgrader": {
     "checksum": "8dc0f9a18f2801cf7f3182732f45b52e",
     "grade": true,
     "grade_id": "cell-7f666a68bbbe81e5",
     "locked": true,
     "points": 10,
     "schema_version": 1,
     "solution": false
    }
   },
   "outputs": [],
   "source": [
    "### Test test test\n",
    "# Simulate a single forward pass\n",
    "X_prior.reset()\n",
    "X.reset()\n",
    "Z_prior.reset()\n",
    "Z.reset()\n",
    "Y_cond.reset()\n",
    "Y.reset()\n",
    "\n",
    "X_prior.send_sp_msg(X)\n",
    "Z_prior.send_sp_msg(Z)\n",
    "X.send_sp_msg(Y_cond)\n",
    "Z.send_sp_msg(Y_cond)\n",
    "Y_cond.send_sp_msg(Y)\n",
    "\n",
    "assert np.allclose(X.marginal(), [0.95, 0.05])\n",
    "assert np.allclose(Z.marginal(), [0.8, 0.2])\n",
    "assert np.allclose(Y.marginal(), [0.821024, 0.178976])\n"
   ]
  },
  {
   "cell_type": "markdown",
   "metadata": {
    "deletable": false,
    "editable": false,
    "nbgrader": {
     "checksum": "3d2d9dd5139b1ed6891107868305e57b",
     "grade": false,
     "grade_id": "cell-e38ca86d50f6c9c1",
     "locked": true,
     "schema_version": 1,
     "solution": false
    }
   },
   "source": [
    "### 1.5 Receiving messages (10 points)\n",
    "In order to implement a message passing algorithms, we need some way to determine which nodes are ready to send messages to which neighbours. We make use of the concept of \"pending messages\", which is explained in Bishop (8.4.7): \n",
    "\"we will say that a (variable or factor)\n",
    "node a has a message pending on its link to a node b if node a has received any\n",
    "message on any of its other links since the last time it sent a message to b. Thus,\n",
    "when a node receives a message on one of its links, this creates pending messages\n",
    "on all of its other links.\"\n",
    "\n",
    "Before we say node a has a pending message for node b, we **must check that node a has received all messages needed to compute the message that is to be sent to b**.\n",
    "\n",
    "Modify the function `receive_msg`, so that it updates the self.pending variable as described above. The member self.pending is a set that is to be filled with Nodes to which self has pending messages."
   ]
  },
  {
   "cell_type": "code",
   "execution_count": 20,
   "metadata": {
    "collapsed": true,
    "deletable": false,
    "nbgrader": {
     "checksum": "d4256320e0a6fff7550f0a0c744ddb61",
     "grade": false,
     "grade_id": "cell-39b7b3a84cdf1e56",
     "locked": false,
     "schema_version": 1,
     "solution": true
    }
   },
   "outputs": [],
   "source": [
    "# ANSWER 1.5\n",
    "def receive_msg(self, other, msg):\n",
    "    self.in_msgs[other] = msg\n",
    "    for n in self.neighbours:\n",
    "        if can_send_message(self, n):\n",
    "            self.pending.add(n)\n",
    "\n",
    "Node.receive_msg = receive_msg\n"
   ]
  },
  {
   "cell_type": "code",
   "execution_count": 21,
   "metadata": {
    "collapsed": true,
    "deletable": false,
    "editable": false,
    "nbgrader": {
     "checksum": "05683e9bfc7be13ffac9b88806845c3b",
     "grade": true,
     "grade_id": "cell-42c321c98bf9b6b1",
     "locked": true,
     "points": 10,
     "schema_version": 1,
     "solution": false
    }
   },
   "outputs": [],
   "source": [
    "### Test test test\n",
    "X_prior.reset()\n",
    "X.reset()\n",
    "assert X_prior.pending == set()\n",
    "\n",
    "X_prior.pending.add(X)\n",
    "assert str(list(X_prior.pending)[0]) == X.name\n",
    "\n",
    "X_prior.send_sp_msg(X)\n",
    "assert X_prior.pending == set()\n"
   ]
  },
  {
   "cell_type": "markdown",
   "metadata": {},
   "source": [
    "### 1.6 Inference Engine (10 points)\n",
    "Write a function `sum_product(node_list)` that runs the sum-product message passing algorithm on a tree-structured factor graph with given nodes. The input parameter `node_list` is a list of all Node instances in the graph, which is assumed to be ordered correctly. That is, the list starts with a leaf node, which can always send a message. Subsequent nodes in `node_list` should be capable of sending a message when the pending messages of preceding nodes in the list have been sent. The sum-product algorithm then proceeds by passing over the list from beginning to end, sending all pending messages at the nodes it encounters. Then, in reverse order, the algorithm traverses the list again and again sends all pending messages at each node as it is encountered. For this to work, we initialized pending messages for all the leaf nodes, e.g. `X_prior.pending.add(X)`, where `X_prior` is a Factor node corresponding the the prior, `X` is a `Variable` node and the only connection of `X_prior` goes to `X`."
   ]
  },
  {
   "cell_type": "code",
   "execution_count": 22,
   "metadata": {
    "collapsed": true,
    "deletable": false,
    "nbgrader": {
     "checksum": "0295fa5b1b0d1c2dd532935bd543056f",
     "grade": false,
     "grade_id": "cell-6a6fb2568d840c68",
     "locked": false,
     "schema_version": 1,
     "solution": true
    }
   },
   "outputs": [],
   "source": [
    "def sum_product(node_list):\n",
    "    print('Forward pass')\n",
    "    for i, node in enumerate(node_list):\n",
    "        # Iterate over all neighbours, which haven't received all necessary messages in the current pass\n",
    "        # we are using set between neighbours and nodes further in the message passing chain\n",
    "        # to make sure that we don't send messages back to nodes that have \n",
    "        # already \"forwarded\" messages in a current pass\n",
    "        for neigh in set(node.neighbours) & set(node_list[i:]):\n",
    "            if can_send_message(node, neigh):\n",
    "                msg = node.send_sp_msg(neigh)\n",
    "                print(f'{node} -> {neigh}: {msg}')\n",
    "    \n",
    "    rev_node_list = node_list[::-1]\n",
    "    print('\\nBackward pass')\n",
    "    for i, node in enumerate(rev_node_list):\n",
    "        # Again, iterate over all neighbours, which haven't received all necessary messages in the current pass\n",
    "        for neigh in set(node.neighbours) & set(rev_node_list[i:]):\n",
    "            if neigh in node.pending:\n",
    "                msg = node.send_sp_msg(neigh)\n",
    "                print(f'{node} -> {neigh}: {msg}')\n"
   ]
  },
  {
   "cell_type": "code",
   "execution_count": 23,
   "metadata": {
    "deletable": false,
    "editable": false,
    "nbgrader": {
     "checksum": "261e257a05c618b4e1c5d9568f7403d5",
     "grade": true,
     "grade_id": "cell-fb8315046f8fde42",
     "locked": true,
     "points": 10,
     "schema_version": 1,
     "solution": false
    }
   },
   "outputs": [
    {
     "name": "stdout",
     "output_type": "stream",
     "text": [
      "Forward pass\n",
      "p(X) -> X: [0.95 0.05]\n",
      "X -> p(Y | X, Z): [0.95 0.05]\n",
      "p(Z) -> Z: [0.8 0.2]\n",
      "Z -> p(Y | X, Z): [0.8 0.2]\n",
      "p(Y | X, Z) -> Y: [0.821024 0.178976]\n",
      "\n",
      "Backward pass\n",
      "Y -> p(Y | X, Z): [1. 1.]\n",
      "p(Y | X, Z) -> X: [1. 1.]\n",
      "p(Y | X, Z) -> Z: [1. 1.]\n",
      "Z -> p(Z): [1. 1.]\n",
      "X -> p(X): [1. 1.]\n"
     ]
    }
   ],
   "source": [
    "### Test test test\n",
    "nodes = [X_prior, X, Z_prior, Z, Y_cond, Y]\n",
    "for n in nodes:\n",
    "    n.reset()\n",
    "    \n",
    "X_prior.pending.add(X)\n",
    "Z_prior.pending.add(Z)\n",
    "Y.pending.add(Y_cond)\n",
    "\n",
    "sum_product(nodes)\n",
    "assert np.allclose(Y.marginal(), [0.821024, 0.178976])\n"
   ]
  },
  {
   "cell_type": "markdown",
   "metadata": {},
   "source": [
    "### 1.7 Observed variables and probabilistic queries (15 points)\n",
    "We will now use the inference engine to answer probabilistic queries. That is, we will set certain variables to observed values, and obtain the marginals over latent variables. We have already provided functions `set_observed` and `set_latent` that manage a member of Variable called `observed_state`. Modify the `calc_sum_product_variable_to_factor_msg` and `Variable.marginal` routines that you wrote before, to use `observed_state` so as to get the required marginals when some nodes are observed."
   ]
  },
  {
   "cell_type": "code",
   "execution_count": 24,
   "metadata": {
    "collapsed": true,
    "deletable": false,
    "nbgrader": {
     "checksum": "da29573eaddaf62947074fc00f714df1",
     "grade": false,
     "grade_id": "cell-55c50fb9c1836789",
     "locked": false,
     "schema_version": 1,
     "solution": true
    }
   },
   "outputs": [],
   "source": [
    "def calc_sum_product_variable_to_factor_msg(variable, factor):\n",
    "    if len(variable.neighbours) == 1:\n",
    "        message = np.ones(variable.num_states)\n",
    "    else:\n",
    "        messages = get_neighbour_messages(variable, factor)\n",
    "        message = np.prod(messages, axis=0)\n",
    "\n",
    "    return message * variable.observed_state\n"
   ]
  },
  {
   "cell_type": "code",
   "execution_count": 25,
   "metadata": {
    "deletable": false,
    "editable": false,
    "nbgrader": {
     "checksum": "d27bd6da3b20252943b2828ceb5bb472",
     "grade": true,
     "grade_id": "cell-13801e018b6f9d27",
     "locked": true,
     "points": 10,
     "schema_version": 1,
     "solution": false
    },
    "scrolled": true
   },
   "outputs": [],
   "source": [
    "### Test, test, test\n",
    "X_prior.reset()\n",
    "X.reset()\n",
    "Y_cond.reset()\n",
    "\n",
    "X_prior.send_sp_msg(X)\n",
    "X.set_observed(0)\n",
    "X.send_sp_msg(Y_cond)\n",
    "assert np.allclose(list(Y_cond.in_msgs.values()), [9.5e-01, 5.0e-12])\n"
   ]
  },
  {
   "cell_type": "code",
   "execution_count": 26,
   "metadata": {
    "collapsed": true,
    "deletable": false,
    "nbgrader": {
     "checksum": "55a9272099aabff3579cac4f41f08973",
     "grade": false,
     "grade_id": "cell-d0b91da808874e73",
     "locked": false,
     "schema_version": 1,
     "solution": true
    }
   },
   "outputs": [],
   "source": [
    "def marginal(self):\n",
    "    marginal = np.multiply.reduce(list(self.in_msgs.values()), 0) * self.observed_state\n",
    "    \n",
    "    return marginal / marginal.sum()\n",
    "    \n",
    "\n",
    "Variable.marginal = marginal\n"
   ]
  },
  {
   "cell_type": "code",
   "execution_count": 27,
   "metadata": {
    "deletable": false,
    "editable": false,
    "nbgrader": {
     "checksum": "fa342104c5f9d55b65ad4c202475a2c5",
     "grade": true,
     "grade_id": "cell-2f8e5d9052ed73ef",
     "locked": true,
     "points": 5,
     "schema_version": 1,
     "solution": false
    }
   },
   "outputs": [],
   "source": [
    "### Test, test, test\n",
    "# Simulate a single forward pass\n",
    "X_prior.reset()\n",
    "X.reset()\n",
    "Z_prior.reset()\n",
    "Z.reset()\n",
    "Y_cond.reset()\n",
    "Y.reset()\n",
    "\n",
    "X.set_observed(0)\n",
    "Z.set_observed(0)\n",
    "\n",
    "X_prior.send_sp_msg(X)\n",
    "Z_prior.send_sp_msg(Z)\n",
    "X.send_sp_msg(Y_cond)\n",
    "Z.send_sp_msg(Y_cond)\n",
    "Y_cond.send_sp_msg(Y)\n",
    "\n",
    "assert np.allclose(Y.marginal(), [9.99900000e-01, 1.00000022e-04])\n"
   ]
  },
  {
   "cell_type": "markdown",
   "metadata": {
    "deletable": false,
    "editable": false,
    "nbgrader": {
     "checksum": "97cce5eb6885d02431cf74e2affba069",
     "grade": false,
     "grade_id": "cell-2277868e4ec25b1d",
     "locked": true,
     "schema_version": 1,
     "solution": false
    }
   },
   "source": [
    "## Part 2: The max-sum algorithm\n",
    "Next, we implement the max-sum algorithm as described in section 8.4.5 of Bishop."
   ]
  },
  {
   "cell_type": "markdown",
   "metadata": {
    "deletable": false,
    "editable": false,
    "nbgrader": {
     "checksum": "34cda2c1859ee99af59b1e6f6609b5b6",
     "grade": false,
     "grade_id": "cell-f1dbc98349fb824f",
     "locked": true,
     "schema_version": 1,
     "solution": false
    }
   },
   "source": [
    "### 2.1 Factor to variable messages (10 points)\n",
    "Implement the function `Factor.send_ms_msg` that sends Factor -> Variable messages for the max-sum algorithm. It is analogous to the `Factor.send_sp_msg` function you implemented before. Make sure it works for observed and unobserved nodes. Consider using a number of helper functions as seen in Part 1."
   ]
  },
  {
   "cell_type": "code",
   "execution_count": 28,
   "metadata": {
    "collapsed": true
   },
   "outputs": [],
   "source": [
    "def ms_calc_other_neighbour_msg_sum(sender, receiver):\n",
    "    messages = get_neighbour_messages(sender, receiver)\n",
    "    sum_var = np.add.reduce(np.ix_(*messages))\n",
    "    return sum_var"
   ]
  },
  {
   "cell_type": "code",
   "execution_count": 29,
   "metadata": {
    "collapsed": true
   },
   "outputs": [],
   "source": [
    "def maximize(P, dim):\n",
    "    n_dims = len(P.shape)\n",
    "    indexes = tuple(i for i in range(n_dims) if i != dim)\n",
    "    return np.max(P, indexes) "
   ]
  },
  {
   "cell_type": "code",
   "execution_count": 30,
   "metadata": {
    "collapsed": true
   },
   "outputs": [],
   "source": [
    "def ms_calculate_factor(f_neighb_first, neighbour_msg_prod):\n",
    "    factor = np.log(f_neighb_first) + neighbour_msg_prod\n",
    "    return factor"
   ]
  },
  {
   "cell_type": "code",
   "execution_count": 31,
   "metadata": {
    "collapsed": true
   },
   "outputs": [],
   "source": [
    "def ms_calc_max_sum_factor_to_variable_msg(factor, variable):\n",
    "    var_index = factor.neighbours.index(variable)\n",
    "    f_neighb_first = move_dimension_first(factor.f, var_index)\n",
    "\n",
    "    neighbour_msg_prod = ms_calc_other_neighbour_msg_sum(factor, variable) + np.log(variable.observed_state)\n",
    "    f = ms_calculate_factor(f_neighb_first, neighbour_msg_prod)\n",
    "    return maximize(f, 0) "
   ]
  },
  {
   "cell_type": "code",
   "execution_count": 32,
   "metadata": {
    "collapsed": true,
    "deletable": false,
    "nbgrader": {
     "checksum": "c16471807291ab66dbe760bddc2f1480",
     "grade": false,
     "grade_id": "cell-389621edefd825a3",
     "locked": false,
     "schema_version": 1,
     "solution": true
    }
   },
   "outputs": [],
   "source": [
    "def factor_send_ms_msg(self, variable):\n",
    "    \n",
    "    assert isinstance(variable, Variable), \"Factor can only send messages to variable!\"\n",
    "    assert can_send_message(self, variable), \"Cannot send message!\"\n",
    "\n",
    "    out_msg = ms_calc_max_sum_factor_to_variable_msg(self, variable)\n",
    "\n",
    "    # Send the message\n",
    "    variable.receive_msg(self, out_msg)\n",
    "\n",
    "    # Remove the pending sign if present\n",
    "    self.pending.discard(variable)\n",
    "    return out_msg\n",
    "    \n",
    "Factor.send_ms_msg = factor_send_ms_msg\n"
   ]
  },
  {
   "cell_type": "code",
   "execution_count": 33,
   "metadata": {
    "collapsed": true,
    "deletable": false,
    "editable": false,
    "nbgrader": {
     "checksum": "36080ee2c75dc501b57f32f527c65656",
     "grade": true,
     "grade_id": "cell-c6156e1505633bc4",
     "locked": true,
     "points": 10,
     "schema_version": 1,
     "solution": false
    }
   },
   "outputs": [],
   "source": [
    "### Test test test\n",
    "# message from X_prior to X\n",
    "X_prior.reset()\n",
    "X.reset()\n",
    "\n",
    "X_prior.send_ms_msg(X)\n",
    "assert np.allclose(list(X.in_msgs.values()), [-0.05129329, -2.99573227])\n",
    "\n",
    "# message from Z_prior to Z\n",
    "Z_prior.reset()\n",
    "Z.reset()\n",
    "\n",
    "Z_prior.send_ms_msg(Z)\n",
    "assert np.allclose(list(Z.in_msgs.values()), [-0.22314355, -1.60943791])\n",
    "\n",
    "# message from Y_cond to Y\n",
    "Y_cond.reset()\n",
    "Y.reset()\n",
    "\n",
    "Y_cond.receive_msg(X, X_prior.f) # simulating that Y_cond received all necessary messages from X\n",
    "Y_cond.receive_msg(Z, Z_prior.f) # simulating that Y_cond received all necessary messages from Z\n",
    "Y_cond.send_ms_msg(Y)\n",
    "assert np.allclose(list(Y.in_msgs.values()), [1.74989999, 0.79332506])\n"
   ]
  },
  {
   "cell_type": "markdown",
   "metadata": {
    "deletable": false,
    "editable": false,
    "nbgrader": {
     "checksum": "cfbc002bdf7c6ff9b40c06ef10403001",
     "grade": false,
     "grade_id": "cell-6eff0dd8439243ca",
     "locked": true,
     "schema_version": 1,
     "solution": false
    }
   },
   "source": [
    "### 2.2 Variable to factor messages (10 points)\n",
    "Implement the `Variable.send_ms_msg` function that sends Variable -> Factor messages for the max-sum algorithm."
   ]
  },
  {
   "cell_type": "code",
   "execution_count": 34,
   "metadata": {
    "collapsed": true
   },
   "outputs": [],
   "source": [
    "def ms_calc_max_sum_variable_to_factor_msg(variable, factor):\n",
    "    if len(variable.neighbours) == 1:\n",
    "        message = np.zeros(variable.num_states) \n",
    "    else:\n",
    "        messages = get_neighbour_messages(variable, factor)\n",
    "        message = np.sum(messages, axis=0)\n",
    "\n",
    "    return message + np.log(variable.observed_state)"
   ]
  },
  {
   "cell_type": "code",
   "execution_count": 35,
   "metadata": {
    "collapsed": true,
    "deletable": false,
    "nbgrader": {
     "checksum": "a8e8c05dffcf10717b1e43299b96b627",
     "grade": false,
     "grade_id": "cell-183948f06650a7e0",
     "locked": false,
     "schema_version": 1,
     "solution": true
    }
   },
   "outputs": [],
   "source": [
    "def variable_send_ms_msg(self, factor):\n",
    "    out_msg = ms_calc_max_sum_variable_to_factor_msg(self, factor)\n",
    "    factor.receive_msg(self, out_msg)\n",
    "    \n",
    "    # Remove the pending sign if present\n",
    "    self.pending.discard(factor)\n",
    "    return out_msg\n",
    "\n",
    "Variable.send_ms_msg = variable_send_ms_msg\n"
   ]
  },
  {
   "cell_type": "code",
   "execution_count": 36,
   "metadata": {
    "collapsed": true,
    "deletable": false,
    "editable": false,
    "nbgrader": {
     "checksum": "b597b2dc5896b79f1fb39862d19f2ea4",
     "grade": true,
     "grade_id": "cell-bbf08d58e9b309c9",
     "locked": true,
     "points": 10,
     "schema_version": 1,
     "solution": false
    }
   },
   "outputs": [],
   "source": [
    "### Test test test\n",
    "Y_cond.reset()\n",
    "Y.reset()\n",
    "\n",
    "# First message from X to Y_cond\n",
    "X_prior.reset()\n",
    "X.reset()\n",
    "X_prior.send_ms_msg(X) # simulating that X received all necessary messages\n",
    "X.send_ms_msg(Y_cond)\n",
    "assert np.allclose(list(Y_cond.in_msgs.values()), [-0.05129329, -2.99573227])\n",
    "\n",
    "# Second message from Z to Y_cond\n",
    "Z_prior.reset()\n",
    "Z.reset()\n",
    "Z_prior.send_ms_msg(Z) # simulating that Z received all necessary messages\n",
    "Z.send_ms_msg(Y_cond)\n",
    "assert np.allclose(list(Y_cond.in_msgs.values()), [[-0.05129329, -2.99573227], [-0.22314355, -1.60943791]])\n"
   ]
  },
  {
   "cell_type": "markdown",
   "metadata": {
    "deletable": false,
    "editable": false,
    "nbgrader": {
     "checksum": "d94749234e759cb16863184e99919a57",
     "grade": false,
     "grade_id": "cell-6e1b3e4ee8013fcb",
     "locked": true,
     "schema_version": 1,
     "solution": false
    }
   },
   "source": [
    "### 2.3 Implement unnormalized log marginal (5 points)\n",
    "Write the method `unnormalized_log_marginal` for the `Variable` class, that computes a unnormalized log marginal distribution over that node."
   ]
  },
  {
   "cell_type": "code",
   "execution_count": 37,
   "metadata": {
    "collapsed": true,
    "deletable": false,
    "nbgrader": {
     "checksum": "2a82b636f2eb1326ea6c7b4cce15f428",
     "grade": false,
     "grade_id": "cell-96de1de3d9b1da94",
     "locked": false,
     "schema_version": 1,
     "solution": true
    }
   },
   "outputs": [],
   "source": [
    "def unnormalized_log_marginal(self):\n",
    "    marginal = np.add.reduce(list(self.in_msgs.values()), 0) + np.log(self.observed_state)\n",
    "    return marginal\n",
    "\n",
    "Variable.unnormalized_log_marginal = unnormalized_log_marginal\n"
   ]
  },
  {
   "cell_type": "code",
   "execution_count": 38,
   "metadata": {
    "collapsed": true,
    "deletable": false,
    "editable": false,
    "nbgrader": {
     "checksum": "977c4965c9797bd48b917039e495038a",
     "grade": true,
     "grade_id": "cell-d0c08fd4b0857dde",
     "locked": true,
     "points": 5,
     "schema_version": 1,
     "solution": false
    }
   },
   "outputs": [],
   "source": [
    "### Test test test\n",
    "# Simulate a single forward pass\n",
    "X_prior.reset()\n",
    "X.reset()\n",
    "Z_prior.reset()\n",
    "Z.reset()\n",
    "Y_cond.reset()\n",
    "Y.reset()\n",
    "\n",
    "X_prior.send_ms_msg(X)\n",
    "Z_prior.send_ms_msg(Z)\n",
    "X.send_ms_msg(Y_cond)\n",
    "Z.send_ms_msg(Y_cond)\n",
    "Y_cond.send_ms_msg(Y)\n",
    "\n",
    "assert np.allclose(X.unnormalized_log_marginal(), [-0.05129329, -2.99573227])\n",
    "assert np.allclose(Z.unnormalized_log_marginal(), [-0.22314355, -1.60943791])\n",
    "assert np.allclose(Y.unnormalized_log_marginal(), [-0.27453685, -2.01740615])\n"
   ]
  },
  {
   "cell_type": "markdown",
   "metadata": {
    "deletable": false,
    "editable": false,
    "nbgrader": {
     "checksum": "811de1e611d918a437d3436251ae8f56",
     "grade": false,
     "grade_id": "cell-eb540987e2fb70d6",
     "locked": true,
     "schema_version": 1,
     "solution": false
    }
   },
   "source": [
    "### 2.4 Find a MAP state (10 points)\n",
    "\n",
    "Using the same message passing schedule we used for sum-product, implement the max-sum algorithm. For simplicity, we will ignore issues relating to non-unique maxima. So there is no need to implement backtracking; the MAP state is obtained by a per-node maximization (eq. 8.98 in Bishop). Make sure your algorithm works with both latent and observed variables."
   ]
  },
  {
   "cell_type": "code",
   "execution_count": 39,
   "metadata": {
    "collapsed": true,
    "deletable": false,
    "nbgrader": {
     "checksum": "17fb320cc9db70730f6e7a6fd0702903",
     "grade": false,
     "grade_id": "cell-f94559550902ac16",
     "locked": false,
     "schema_version": 1,
     "solution": true
    }
   },
   "outputs": [],
   "source": [
    "def max_sum(node_list):\n",
    "    print('Forward pass')\n",
    "    for i, node in enumerate(node_list):\n",
    "        for neigh in set(node.neighbours) & set(node_list[i:]):\n",
    "            if can_send_message(node, neigh):\n",
    "                msg = node.send_ms_msg(neigh)\n",
    "                print(f'{node} -> {neigh}: {np.exp(msg)}')\n",
    "    \n",
    "    rev_node_list = node_list[::-1]\n",
    "    print('\\nBackward pass')\n",
    "    for i, node in enumerate(rev_node_list):\n",
    "        for neigh in set(node.neighbours) & set(rev_node_list[i:]):\n",
    "            if neigh in node.pending:\n",
    "                msg = node.send_ms_msg(neigh)\n",
    "                print(f'{node} -> {neigh}: {np.exp(msg)}')\n"
   ]
  },
  {
   "cell_type": "code",
   "execution_count": 40,
   "metadata": {
    "deletable": false,
    "editable": false,
    "nbgrader": {
     "checksum": "49674d2f737491907099ead2f661ab25",
     "grade": true,
     "grade_id": "cell-ac2d26dcb27a8d75",
     "locked": true,
     "points": 5,
     "schema_version": 1,
     "solution": false
    }
   },
   "outputs": [
    {
     "name": "stdout",
     "output_type": "stream",
     "text": [
      "Forward pass\n",
      "p(X) -> X: [0.95 0.05]\n",
      "X -> p(Y | X, Z): [0.95 0.05]\n",
      "p(Z) -> Z: [0.8 0.2]\n",
      "Z -> p(Y | X, Z): [0.8 0.2]\n",
      "p(Y | X, Z) -> Y: [0.759924 0.133   ]\n",
      "\n",
      "Backward pass\n",
      "Y -> p(Y | X, Z): [1. 1.]\n",
      "p(Y | X, Z) -> X: [0.79992 0.72   ]\n",
      "p(Y | X, Z) -> Z: [0.949905 0.665   ]\n",
      "Z -> p(Z): [0.949905 0.665   ]\n",
      "X -> p(X): [0.79992 0.72   ]\n"
     ]
    }
   ],
   "source": [
    "### Test test test: unobserved\n",
    "nodes = [X_prior, X, Z_prior, Z, Y_cond, Y]\n",
    "for n in nodes:\n",
    "    n.reset()\n",
    "    \n",
    "X_prior.pending.add(X)\n",
    "Z_prior.pending.add(Z)\n",
    "Y.pending.add(Y_cond)\n",
    "\n",
    "max_sum(nodes)\n",
    "\n",
    "assert np.allclose(Y.unnormalized_log_marginal(), [-0.27453685, -2.01740615] )\n"
   ]
  },
  {
   "cell_type": "code",
   "execution_count": 41,
   "metadata": {
    "deletable": false,
    "editable": false,
    "nbgrader": {
     "checksum": "d00995d3a4fb74ce8ed9481349e9044d",
     "grade": true,
     "grade_id": "cell-f06b8b4bec85b4dd",
     "locked": true,
     "points": 5,
     "schema_version": 1,
     "solution": false
    }
   },
   "outputs": [
    {
     "name": "stdout",
     "output_type": "stream",
     "text": [
      "Forward pass\n",
      "p(X) -> X: [0.95 0.05]\n",
      "X -> p(Y | X, Z): [0.95 0.05]\n",
      "p(Z) -> Z: [8.e-11 2.e-01]\n",
      "Z -> p(Y | X, Z): [8.e-21 2.e-01]\n",
      "p(Y | X, Z) -> Y: [0.057 0.133]\n",
      "\n",
      "Backward pass\n",
      "Y -> p(Y | X, Z): [1. 1.]\n",
      "p(Y | X, Z) -> X: [0.14  0.198]\n",
      "p(Y | X, Z) -> Z: [0.045  0.0495]\n",
      "Z -> p(Z): [4.50e-12 4.95e-02]\n",
      "X -> p(X): [0.14  0.198]\n"
     ]
    }
   ],
   "source": [
    "### Test test test: partiallY observed\n",
    "nodes = [X_prior, X, Z_prior, Z, Y_cond, Y]\n",
    "for n in nodes:\n",
    "    n.reset()\n",
    "    \n",
    "X_prior.pending.add(X)\n",
    "Z_prior.pending.add(Z)\n",
    "Y.pending.add(Y_cond)\n",
    "\n",
    "Z.set_observed(1)\n",
    "\n",
    "max_sum(nodes)\n",
    "\n",
    "assert np.allclose(Y.unnormalized_log_marginal(), [-2.86470401, -2.01740615])\n"
   ]
  },
  {
   "cell_type": "markdown",
   "metadata": {
    "deletable": false,
    "editable": false,
    "nbgrader": {
     "checksum": "6e5b7cb4dc60f898345d08a07889f32c",
     "grade": false,
     "grade_id": "cell-f79ce013522649ed",
     "locked": true,
     "schema_version": 1,
     "solution": false
    }
   },
   "source": [
    "Given the max-marginals what do you have to do in order to find the global optimum? Why can we neglect the normalization constant here?"
   ]
  },
  {
   "cell_type": "markdown",
   "metadata": {
    "deletable": false,
    "nbgrader": {
     "checksum": "1bd8a1937fd5e81b184e36bc4c4b1b68",
     "grade": true,
     "grade_id": "cell-605e729ee910dbc8",
     "locked": false,
     "points": 5,
     "schema_version": 1,
     "solution": true
    }
   },
   "source": [
    "\n",
    "In order to find the global optimum, as mentioned in Bishop, sec. 8.4.5., we would have to do following:\n",
    "- Keep track of which values of the variables gave rise to the maximum state of each variable\n",
    "- Once we know the most probable value of the ﬁnal node $x_N$,  simply follow the link back to ﬁnd the most probable state of node $x_{N−1}$ and so on back to the initial node $x_1$. This procedure is known as back-tracking.\n",
    "\n",
    "We can neglect the normalization constant, because we care for the maximum probability and $max (\\frac{\\mathbf{x}}{const}) = \\frac{max(\\mathbf{x})}{const}$, which means, that normalization constant won't change the final result, it will just change it proportionally.\n"
   ]
  },
  {
   "cell_type": "markdown",
   "metadata": {
    "deletable": false,
    "editable": false,
    "nbgrader": {
     "checksum": "80bbe06f90fa8e5f278119c02cf5081d",
     "grade": false,
     "grade_id": "cell-d0592bafd25122c0",
     "locked": true,
     "schema_version": 1,
     "solution": false
    }
   },
   "source": [
    "### Part 3: Medical graph\n",
    "Now that we implemented the sum-product and max-sum algorithm. We will apply them to a poly-tree structured medical diagnosis example.\n"
   ]
  },
  {
   "cell_type": "markdown",
   "metadata": {
    "deletable": false,
    "editable": false,
    "nbgrader": {
     "checksum": "9c99fffc963ea4db625082689e3b7c55",
     "grade": false,
     "grade_id": "cell-f0022d301754179a",
     "locked": true,
     "schema_version": 1,
     "solution": false
    }
   },
   "source": [
    "### 3.1 Initialize the graph (5 points)\n",
    "\n",
    "Convert the directed graphical model (\"Bayesian Network\") shown below to a factor graph. Instantiate this graph by creating Variable and Factor instances and linking them according to the graph structure. \n",
    "To instantiate the factor graph, first create the Variable nodes and then create Factor nodes, passing a list of neighbour Variables to each Factor.\n",
    "Use the following prior and conditional probabilities.\n",
    "\n",
    "$$\n",
    "p(\\verb+Influenza+) = 0.05 \\\\\\\\\n",
    "p(\\verb+Smokes+) = 0.2 \\\\\\\\\n",
    "$$\n",
    "$$\n",
    "p(\\verb+SoreThroat+ = 1 | \\verb+Influenza+ = 1) = 0.3 \\\\\\\\\n",
    "p(\\verb+SoreThroat+ = 1 | \\verb+Influenza+ = 0) = 0.001 \\\\\\\\\n",
    "p(\\verb+Fever+ = 1| \\verb+Influenza+ = 1) = 0.9 \\\\\\\\\n",
    "p(\\verb+Fever+ = 1| \\verb+Influenza+ = 0) 0.05 \\\\\\\\\n",
    "p(\\verb+Bronchitis+ = 1 | \\verb+Influenza+ = 1, \\verb+Smokes+ = 1) = 0.99 \\\\\\\\\n",
    "p(\\verb+Bronchitis+ = 1 | \\verb+Influenza+ = 1, \\verb+Smokes+ = 0) = 0.9 \\\\\\\\\n",
    "p(\\verb+Bronchitis+ = 1 | \\verb+Influenza+ = 0, \\verb+Smokes+ = 1) = 0.7 \\\\\\\\\n",
    "p(\\verb+Bronchitis+ = 1 | \\verb+Influenza+ = 0, \\verb+Smokes+ = 0) = 0.0001 \\\\\\\\\n",
    "p(\\verb+Coughing+ = 1| \\verb+Bronchitis+ = 1) = 0.8 \\\\\\\\\n",
    "p(\\verb+Coughing+ = 1| \\verb+Bronchitis+ = 0) = 0.07 \\\\\\\\\n",
    "p(\\verb+Wheezing+ = 1| \\verb+Bronchitis+ = 1) = 0.6 \\\\\\\\\n",
    "p(\\verb+Wheezing+ = 1| \\verb+Bronchitis+ = 0) = 0.001 \\\\\\\\\n",
    "$$"
   ]
  },
  {
   "cell_type": "markdown",
   "metadata": {},
   "source": [
    "Below we show the corresponding factor graph"
   ]
  },
  {
   "attachments": {
    "graph.png": {
     "image/png": "[encoded data removed]"
    }
   },
   "cell_type": "markdown",
   "metadata": {},
   "source": [
    "![graph.png](attachment:graph.png)"
   ]
  },
  {
   "cell_type": "code",
   "execution_count": 42,
   "metadata": {
    "collapsed": true,
    "deletable": false,
    "nbgrader": {
     "checksum": "4335e3cbfd46c7579a4b7d368c5353cc",
     "grade": true,
     "grade_id": "cell-216d36a73771fdb7",
     "locked": false,
     "points": 5,
     "schema_version": 1,
     "solution": true
    }
   },
   "outputs": [],
   "source": [
    "Influenza = Variable(name='Influenza', num_states=2)\n",
    "Influenza_prior = Factor(name='p(Influenza)',\n",
    "                 f=np.array([0.95, 0.05]),\n",
    "                 neighbours=[Influenza])\n",
    "\n",
    "Smoke = Variable(name='Smoke', num_states=2)\n",
    "Smoke_prior = Factor(name='p(Smoke)',\n",
    "                 f=np.array([0.80, 0.20]),\n",
    "                 neighbours=[Smoke])\n",
    "                 \n",
    "Bronchitis = Variable(name='Bronchitis', num_states=2)\n",
    "Bronchitis_cond = Factor(name='p(Bronchitis | Influenza, Smoke)',\n",
    "                 f=np.array([\n",
    "                 [[0.9999, 0.3], [0.1, 0.01]],\n",
    "                 [[0.0001, 0.7], [0.9, 0.99]],\n",
    "                 ]),\n",
    "                 neighbours=[Bronchitis, Influenza, Smoke])  \n",
    "\n",
    "SoreThroat = Variable(name='SoreThroat', num_states=2)\n",
    "SoreThroat_cond = Factor(name='p(SoreThroat | Influenza)',\n",
    "                 f=np.array([\n",
    "                     [0.999, 0.70], [0.001, 0.30],\n",
    "                 ]),\n",
    "                 neighbours=[SoreThroat, Influenza]) \n",
    "\n",
    "Fever = Variable(name='Fever', num_states=2)\n",
    "Fever_cond = Factor(name='p(Fever | Influenza)',\n",
    "                 f=np.array([\n",
    "                     [0.95, 0.10], [0.05, 0.90],\n",
    "                 ]),\n",
    "                 neighbours=[Fever, Influenza]) \n",
    "\n",
    "Coughing = Variable(name='Coughing', num_states=2)\n",
    "Coughing_cond = Factor(name='p(Coughing | Bronchitis)',\n",
    "                 f=np.array([\n",
    "                     [0.93, 0.20], [0.07, 0.80],\n",
    "                 ]),\n",
    "                 neighbours=[Coughing, Bronchitis]) \n",
    "\n",
    "Wheezing = Variable(name='Wheezing', num_states=2)\n",
    "Wheezing_cond = Factor(name='p(Wheezing | Bronchitis)',\n",
    "                 f=np.array([\n",
    "                     [0.999, 0.40], [0.001, 0.60],\n",
    "                 ]),\n",
    "                 neighbours=[Wheezing, Bronchitis]) "
   ]
  },
  {
   "cell_type": "markdown",
   "metadata": {
    "deletable": false,
    "editable": false,
    "nbgrader": {
     "checksum": "8e443821bd73340b3e8bc3eb58db013c",
     "grade": false,
     "grade_id": "cell-65ee0e0d85c57f32",
     "locked": true,
     "schema_version": 1,
     "solution": false
    }
   },
   "source": [
    "### 3.2. Sum-product algorithm (10 points)"
   ]
  },
  {
   "cell_type": "markdown",
   "metadata": {
    "deletable": false,
    "editable": false,
    "nbgrader": {
     "checksum": "48d2bd6a0a7dba5d29de2c939ca5c67f",
     "grade": false,
     "grade_id": "cell-fed678d3f9f5ce50",
     "locked": true,
     "schema_version": 1,
     "solution": false
    }
   },
   "source": [
    "3.2.1 Run the sum-product algorithm on an unobserved graph. Print the marginal for every variable node."
   ]
  },
  {
   "cell_type": "code",
   "execution_count": 43,
   "metadata": {
    "deletable": false,
    "nbgrader": {
     "checksum": "a7fadef738bc786fd10febd2b25f15f5",
     "grade": true,
     "grade_id": "cell-07681153d48af573",
     "locked": false,
     "points": 5,
     "schema_version": 1,
     "solution": true
    }
   },
   "outputs": [
    {
     "name": "stdout",
     "output_type": "stream",
     "text": [
      "Forward pass\n",
      "p(Influenza) -> Influenza: [0.95 0.05]\n",
      "SoreThroat -> p(SoreThroat | Influenza): [1. 1.]\n",
      "p(Smoke) -> Smoke: [0.8 0.2]\n",
      "Coughing -> p(Coughing | Bronchitis): [1. 1.]\n",
      "Wheezing -> p(Wheezing | Bronchitis): [1. 1.]\n",
      "Fever -> p(Fever | Influenza): [1. 1.]\n",
      "p(SoreThroat | Influenza) -> Influenza: [1. 1.]\n",
      "p(Fever | Influenza) -> Influenza: [1. 1.]\n",
      "p(Coughing | Bronchitis) -> Bronchitis: [1. 1.]\n",
      "p(Wheezing | Bronchitis) -> Bronchitis: [1. 1.]\n",
      "Smoke -> p(Bronchitis | Influenza, Smoke): [0.8 0.2]\n",
      "Bronchitis -> p(Bronchitis | Influenza, Smoke): [1. 1.]\n",
      "Influenza -> p(Bronchitis | Influenza, Smoke): [0.95 0.05]\n",
      "\n",
      "Backward pass\n",
      "p(Bronchitis | Influenza, Smoke) -> Influenza: [1. 1.]\n",
      "p(Bronchitis | Influenza, Smoke) -> Bronchitis: [0.821024 0.178976]\n",
      "p(Bronchitis | Influenza, Smoke) -> Smoke: [1. 1.]\n",
      "Influenza -> p(SoreThroat | Influenza): [0.95 0.05]\n",
      "Influenza -> p(Influenza): [1. 1.]\n",
      "Influenza -> p(Fever | Influenza): [0.95 0.05]\n",
      "Bronchitis -> p(Wheezing | Bronchitis): [0.821024 0.178976]\n",
      "Bronchitis -> p(Coughing | Bronchitis): [0.821024 0.178976]\n",
      "Smoke -> p(Smoke): [1. 1.]\n",
      "p(Wheezing | Bronchitis) -> Wheezing: [0.89179338 0.10820662]\n",
      "p(Coughing | Bronchitis) -> Coughing: [0.79934752 0.20065248]\n",
      "p(Fever | Influenza) -> Fever: [0.9075 0.0925]\n",
      "p(SoreThroat | Influenza) -> SoreThroat: [0.98405 0.01595]\n",
      "\n",
      "\n",
      "Marginal of SoreThroat is [0.98405 0.01595]\n",
      "Marginal of Coughing is [0.79934752 0.20065248]\n",
      "Marginal of Wheezing is [0.89179338 0.10820662]\n",
      "Marginal of Fever is [0.9075 0.0925]\n",
      "Marginal of Smoke is [0.8 0.2]\n",
      "Marginal of Bronchitis is [0.821024 0.178976]\n",
      "Marginal of Influenza is [0.95 0.05]\n"
     ]
    }
   ],
   "source": [
    "# maybe I just ordered it in a bad way..?\n",
    "nodes = [Influenza_prior, SoreThroat, Smoke_prior, Coughing,\n",
    "         Wheezing, Fever, SoreThroat_cond, Fever_cond, Coughing_cond, Wheezing_cond, \n",
    "         Smoke, Bronchitis, Influenza, Bronchitis_cond]\n",
    "\n",
    "leaves = [Influenza_prior, SoreThroat, Fever, Smoke_prior, Coughing, Wheezing]\n",
    "\n",
    "for n in nodes:\n",
    "    n.reset()\n",
    "\n",
    "for l in leaves:\n",
    "    for n in l.neighbours:\n",
    "        l.pending.add(n)\n",
    "\n",
    "sum_product(nodes)\n",
    "\n",
    "print('\\n')\n",
    "for n in nodes:\n",
    "    if type(n) == Variable:\n",
    "        print(f'Marginal of {n} is {n.marginal()}')"
   ]
  },
  {
   "cell_type": "markdown",
   "metadata": {
    "deletable": false,
    "editable": false,
    "nbgrader": {
     "checksum": "7ab62562db323a454298e365f0989326",
     "grade": false,
     "grade_id": "cell-9cf9ad87ef338231",
     "locked": true,
     "schema_version": 1,
     "solution": false
    }
   },
   "source": [
    "3.2.2 Rerun the sum-product algorithm on an partially observed graph, where the variable 'Influenza' is set to 0. Print the marginal for every variable node."
   ]
  },
  {
   "cell_type": "code",
   "execution_count": 44,
   "metadata": {
    "deletable": false,
    "nbgrader": {
     "checksum": "0bf552eaf0812c495b3cb3c79f2fc431",
     "grade": true,
     "grade_id": "cell-83214d3cc28cb7db",
     "locked": false,
     "points": 5,
     "schema_version": 1,
     "solution": true
    }
   },
   "outputs": [
    {
     "name": "stdout",
     "output_type": "stream",
     "text": [
      "Forward pass\n",
      "p(Influenza) -> Influenza: [0.95 0.05]\n",
      "SoreThroat -> p(SoreThroat | Influenza): [1. 1.]\n",
      "p(Smoke) -> Smoke: [0.8 0.2]\n",
      "Coughing -> p(Coughing | Bronchitis): [1. 1.]\n",
      "Wheezing -> p(Wheezing | Bronchitis): [1. 1.]\n",
      "Fever -> p(Fever | Influenza): [1. 1.]\n",
      "p(SoreThroat | Influenza) -> Influenza: [1. 1.]\n",
      "p(Fever | Influenza) -> Influenza: [1. 1.]\n",
      "p(Coughing | Bronchitis) -> Bronchitis: [1. 1.]\n",
      "p(Wheezing | Bronchitis) -> Bronchitis: [1. 1.]\n",
      "Smoke -> p(Bronchitis | Influenza, Smoke): [0.8 0.2]\n",
      "Bronchitis -> p(Bronchitis | Influenza, Smoke): [1. 1.]\n",
      "Influenza -> p(Bronchitis | Influenza, Smoke): [9.5e-01 5.0e-12]\n",
      "\n",
      "Backward pass\n",
      "p(Bronchitis | Influenza, Smoke) -> Influenza: [1. 1.]\n",
      "p(Bronchitis | Influenza, Smoke) -> Bronchitis: [0.816924 0.133076]\n",
      "p(Bronchitis | Influenza, Smoke) -> Smoke: [0.95 0.95]\n",
      "Influenza -> p(SoreThroat | Influenza): [9.5e-01 5.0e-12]\n",
      "Influenza -> p(Influenza): [1.e+00 1.e-10]\n",
      "Influenza -> p(Fever | Influenza): [9.5e-01 5.0e-12]\n",
      "Bronchitis -> p(Wheezing | Bronchitis): [0.816924 0.133076]\n",
      "Bronchitis -> p(Coughing | Bronchitis): [0.816924 0.133076]\n",
      "Smoke -> p(Smoke): [0.95 0.95]\n",
      "p(Wheezing | Bronchitis) -> Wheezing: [0.86933748 0.08066252]\n",
      "p(Coughing | Bronchitis) -> Coughing: [0.78635452 0.16364548]\n",
      "p(Fever | Influenza) -> Fever: [0.9025 0.0475]\n",
      "p(SoreThroat | Influenza) -> SoreThroat: [0.94905 0.00095]\n",
      "\n",
      "\n",
      "Marginal of SoreThroat is [0.999 0.001]\n",
      "Marginal of Coughing is [0.8277416 0.1722584]\n",
      "Marginal of Wheezing is [0.91509208 0.08490792]\n",
      "Marginal of Fever is [0.95 0.05]\n",
      "Marginal of Smoke is [0.8 0.2]\n",
      "Marginal of Bronchitis is [0.85992 0.14008]\n",
      "Marginal of Influenza is [1.00000000e+00 5.26315789e-12]\n"
     ]
    }
   ],
   "source": [
    "for n in nodes:\n",
    "    n.reset()\n",
    "\n",
    "for l in leaves:\n",
    "    for n in l.neighbours:\n",
    "        l.pending.add(n)\n",
    "\n",
    "Influenza.set_observed(0)\n",
    "\n",
    "sum_product(nodes)\n",
    "\n",
    "print('\\n')\n",
    "for n in nodes:\n",
    "    if type(n) == Variable:\n",
    "        print(f'Marginal of {n} is {n.marginal()}')"
   ]
  },
  {
   "cell_type": "markdown",
   "metadata": {
    "deletable": false,
    "editable": false,
    "nbgrader": {
     "checksum": "d5c513d1f3fcdd0e153834c8cd7013e7",
     "grade": false,
     "grade_id": "cell-c2dbbc1def846b5e",
     "locked": true,
     "schema_version": 1,
     "solution": false
    }
   },
   "source": [
    "### 3.3. max-sum algorithm (10 points)"
   ]
  },
  {
   "cell_type": "markdown",
   "metadata": {
    "deletable": false,
    "editable": false,
    "nbgrader": {
     "checksum": "e3397f5416e8ef7a287fd0e1844d5ec6",
     "grade": false,
     "grade_id": "cell-2aeb9d6f8bb0d6d9",
     "locked": true,
     "schema_version": 1,
     "solution": false
    }
   },
   "source": [
    "3.3.1 Run the max_sum algorithm on an unobserved graph. Print the marginal for every variable node."
   ]
  },
  {
   "cell_type": "code",
   "execution_count": 45,
   "metadata": {
    "deletable": false,
    "nbgrader": {
     "checksum": "350a548fee4372022d9d7b51805ae71a",
     "grade": true,
     "grade_id": "cell-e5088e48afe006b9",
     "locked": false,
     "points": 5,
     "schema_version": 1,
     "solution": true
    }
   },
   "outputs": [
    {
     "name": "stdout",
     "output_type": "stream",
     "text": [
      "Forward pass\n",
      "p(Influenza) -> Influenza: [0.95 0.05]\n",
      "SoreThroat -> p(SoreThroat | Influenza): [1. 1.]\n",
      "p(Smoke) -> Smoke: [0.8 0.2]\n",
      "Coughing -> p(Coughing | Bronchitis): [1. 1.]\n",
      "Wheezing -> p(Wheezing | Bronchitis): [1. 1.]\n",
      "Fever -> p(Fever | Influenza): [1. 1.]\n",
      "p(SoreThroat | Influenza) -> Influenza: [0.999 0.7  ]\n",
      "p(Fever | Influenza) -> Influenza: [0.95 0.9 ]\n",
      "p(Coughing | Bronchitis) -> Bronchitis: [0.93 0.8 ]\n",
      "p(Wheezing | Bronchitis) -> Bronchitis: [0.999 0.6  ]\n",
      "Smoke -> p(Bronchitis | Influenza, Smoke): [0.8 0.2]\n",
      "Bronchitis -> p(Bronchitis | Influenza, Smoke): [0.92907 0.48   ]\n",
      "Influenza -> p(Bronchitis | Influenza, Smoke): [0.9015975 0.0315   ]\n",
      "\n",
      "Backward pass\n",
      "p(Bronchitis | Influenza, Smoke) -> Influenza: [0.74318167 0.3456    ]\n",
      "p(Bronchitis | Influenza, Smoke) -> Bronchitis: [0.72120587 0.12622365]\n",
      "p(Bronchitis | Influenza, Smoke) -> Smoke: [0.83756342 0.30293676]\n",
      "Influenza -> p(SoreThroat | Influenza): [0.67072146 0.015552  ]\n",
      "Influenza -> p(Influenza): [0.70531657 0.217728  ]\n",
      "Influenza -> p(Fever | Influenza): [0.70531657 0.012096  ]\n",
      "Bronchitis -> p(Wheezing | Bronchitis): [0.67072146 0.10097892]\n",
      "Bronchitis -> p(Coughing | Bronchitis): [0.72048467 0.07573419]\n",
      "Smoke -> p(Smoke): [0.83756342 0.30293676]\n",
      "p(Wheezing | Bronchitis) -> Wheezing: [0.67005074 0.06058735]\n",
      "p(Coughing | Bronchitis) -> Coughing: [0.67005074 0.06058735]\n",
      "p(Fever | Influenza) -> Fever: [0.67005074 0.03526583]\n",
      "p(SoreThroat | Influenza) -> SoreThroat: [0.67005074 0.0046656 ]\n",
      "\n",
      "\n",
      "Unnormalized log-marginal of SoreThroat is [-0.40040184 -5.36753884]\n",
      "Unnormalized log-marginal of Coughing is [-0.40040184 -2.80366912]\n",
      "Unnormalized log-marginal of Wheezing is [-0.40040184 -2.80366912]\n",
      "Unnormalized log-marginal of Fever is [-0.40040184 -3.34484082]\n",
      "Unnormalized log-marginal of Smoke is [-0.40040184 -2.80366912]\n",
      "Unnormalized log-marginal of Bronchitis is [-0.40040184 -2.80366912]\n",
      "Unnormalized log-marginal of Influenza is [-0.40040184 -4.52024098]\n"
     ]
    }
   ],
   "source": [
    "for n in nodes:\n",
    "    n.reset()\n",
    "\n",
    "for l in leaves:\n",
    "    for n in l.neighbours:\n",
    "        l.pending.add(n)\n",
    "\n",
    "max_sum(nodes)\n",
    "\n",
    "print('\\n')\n",
    "for n in nodes:\n",
    "    if type(n) == Variable:\n",
    "        print(f'Unnormalized log-marginal of {n} is {n.unnormalized_log_marginal()}')"
   ]
  },
  {
   "cell_type": "markdown",
   "metadata": {
    "deletable": false,
    "editable": false,
    "nbgrader": {
     "checksum": "083775bc40177f2573543fd168e86e09",
     "grade": false,
     "grade_id": "cell-7e7771be2511ebd2",
     "locked": true,
     "schema_version": 1,
     "solution": false
    }
   },
   "source": [
    "3.3.2 Rerun the max_sum algorithm on an partially observed graph, where the variable 'Influenza' is set to 0. Print the marginal for every variable node."
   ]
  },
  {
   "cell_type": "code",
   "execution_count": 46,
   "metadata": {
    "deletable": false,
    "nbgrader": {
     "checksum": "b467a95a6dbe003435c78b970ed0e318",
     "grade": true,
     "grade_id": "cell-f74e50a37f4e31b9",
     "locked": false,
     "points": 5,
     "schema_version": 1,
     "solution": true
    }
   },
   "outputs": [
    {
     "name": "stdout",
     "output_type": "stream",
     "text": [
      "Forward pass\n",
      "p(Influenza) -> Influenza: [9.5e-01 5.0e-12]\n",
      "SoreThroat -> p(SoreThroat | Influenza): [1. 1.]\n",
      "p(Smoke) -> Smoke: [0.8 0.2]\n",
      "Coughing -> p(Coughing | Bronchitis): [1. 1.]\n",
      "Wheezing -> p(Wheezing | Bronchitis): [1. 1.]\n",
      "Fever -> p(Fever | Influenza): [1. 1.]\n",
      "p(SoreThroat | Influenza) -> Influenza: [0.999 0.7  ]\n",
      "p(Fever | Influenza) -> Influenza: [0.95 0.1 ]\n",
      "p(Coughing | Bronchitis) -> Bronchitis: [0.93 0.8 ]\n",
      "p(Wheezing | Bronchitis) -> Bronchitis: [0.999 0.6  ]\n",
      "Smoke -> p(Bronchitis | Influenza, Smoke): [0.8 0.2]\n",
      "Bronchitis -> p(Bronchitis | Influenza, Smoke): [0.92907 0.48   ]\n",
      "Influenza -> p(Bronchitis | Influenza, Smoke): [9.015975e-01 3.500000e-23]\n",
      "\n",
      "Backward pass\n",
      "p(Bronchitis | Influenza, Smoke) -> Influenza: [0.74318167 0.3456    ]\n",
      "p(Bronchitis | Influenza, Smoke) -> Bronchitis: [0.72120587 0.12622365]\n",
      "p(Bronchitis | Influenza, Smoke) -> Smoke: [0.83756342 0.30293676]\n",
      "Influenza -> p(SoreThroat | Influenza): [6.70721461e-01 1.72800000e-23]\n",
      "Influenza -> p(Influenza): [7.05316568e-01 2.41920000e-12]\n",
      "Influenza -> p(Fever | Influenza): [7.05316568e-01 1.20960000e-22]\n",
      "Bronchitis -> p(Wheezing | Bronchitis): [0.67072146 0.10097892]\n",
      "Bronchitis -> p(Coughing | Bronchitis): [0.72048467 0.07573419]\n",
      "Smoke -> p(Smoke): [0.83756342 0.30293676]\n",
      "p(Wheezing | Bronchitis) -> Wheezing: [0.67005074 0.06058735]\n",
      "p(Coughing | Bronchitis) -> Coughing: [0.67005074 0.06058735]\n",
      "p(Fever | Influenza) -> Fever: [0.67005074 0.03526583]\n",
      "p(SoreThroat | Influenza) -> SoreThroat: [0.67005074 0.00067072]\n",
      "\n",
      "\n",
      "Unnormalized log-marginal of SoreThroat is [-0.40040184 -7.30715662]\n",
      "Unnormalized log-marginal of Coughing is [-0.40040184 -2.80366912]\n",
      "Unnormalized log-marginal of Wheezing is [-0.40040184 -2.80366912]\n",
      "Unnormalized log-marginal of Fever is [-0.40040184 -3.34484082]\n",
      "Unnormalized log-marginal of Smoke is [-0.40040184 -2.80366912]\n",
      "Unnormalized log-marginal of Bronchitis is [-0.40040184 -2.80366912]\n",
      "Unnormalized log-marginal of Influenza is [ -0.40040184 -52.76916741]\n"
     ]
    }
   ],
   "source": [
    "for n in nodes:\n",
    "    n.reset()\n",
    "\n",
    "for l in leaves:\n",
    "    for n in l.neighbours:\n",
    "        l.pending.add(n)\n",
    "\n",
    "Influenza.set_observed(0)\n",
    "\n",
    "max_sum(nodes)\n",
    "\n",
    "print('\\n')\n",
    "for n in nodes:\n",
    "    if type(n) == Variable:\n",
    "        print(f'Unnormalized log-marginal of {n} is {n.unnormalized_log_marginal()}')"
   ]
  }
 ],
 "metadata": {
  "kernelspec": {
   "display_name": "Python [conda env:ml2labs]",
   "language": "python",
   "name": "conda-env-ml2labs-py"
  },
  "language_info": {
   "codemirror_mode": {
    "name": "ipython",
    "version": 3
   },
   "file_extension": ".py",
   "mimetype": "text/x-python",
   "name": "python",
   "nbconvert_exporter": "python",
   "pygments_lexer": "ipython3",
   "version": "3.6.4"
  }
 },
 "nbformat": 4,
 "nbformat_minor": 2
}
