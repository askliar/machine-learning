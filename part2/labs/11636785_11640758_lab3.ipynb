{
 "cells": [
  {
   "cell_type": "markdown",
   "metadata": {
    "deletable": false,
    "editable": false,
    "nbgrader": {
     "checksum": "9a10081f57b90a368eb8daf62e3ba00e",
     "grade": false,
     "grade_id": "cell-02487845739eb4fd",
     "locked": true,
     "schema_version": 1,
     "solution": false
    }
   },
   "source": [
    "### Lab 3: Expectation Maximization and Variational Autoencoder\n",
    "\n",
    "### Machine Learning 2 (2017/2018)\n",
    "\n",
    "* The lab exercises should be made in groups of two or three people.\n",
    "* The deadline is Friday, 01.06.\n",
    "* Assignment should be submitted through BlackBoard! Make sure to include your and your teammates' names with the submission.\n",
    "* Attach the .IPYNB (IPython Notebook) file containing your code and answers. Naming of the file should be \"studentid1\\_studentid2\\_lab#\", for example, the attached file should be \"12345\\_12346\\_lab1.ipynb\". Only use underscores (\"\\_\") to connect ids, otherwise the files cannot be parsed.\n",
    "\n",
    "Notes on implementation:\n",
    "\n",
    "* You should write your code and answers in an IPython Notebook: http://ipython.org/notebook.html. If you have problems, please ask.\n",
    "* Use __one cell__ for code and markdown answers only!\n",
    "    * Put all code in the cell with the ```# YOUR CODE HERE``` comment and overwrite the ```raise NotImplementedError()``` line.\n",
    "    * For theoretical questions, put your solution using LaTeX style formatting in the YOUR ANSWER HERE cell.\n",
    "* Among the first lines of your notebook should be \"%pylab inline\". This imports all required modules, and your plots will appear inline.\n",
    "* Large parts of you notebook will be graded automatically. Therefore it is important that your notebook can be run completely without errors and within a reasonable time limit. To test your notebook before submission, select Kernel -> Restart \\& Run All.\n",
    "$\\newcommand{\\bx}{\\mathbf{x}} \\newcommand{\\bpi}{\\mathbf{\\pi}} \\newcommand{\\bmu}{\\mathbf{\\mu}} \\newcommand{\\bX}{\\mathbf{X}} \\newcommand{\\bZ}{\\mathbf{Z}} \\newcommand{\\bz}{\\mathbf{z}}$"
   ]
  },
  {
   "cell_type": "markdown",
   "metadata": {},
   "source": [
    "Authors:\n",
    "Gabriele Bani, 11640758\n",
    "Andrii Skliar, 11636785"
   ]
  },
  {
   "cell_type": "markdown",
   "metadata": {
    "deletable": false,
    "editable": false,
    "nbgrader": {
     "checksum": "e4e05229ee79b55d6589e1ea8de68f32",
     "grade": false,
     "grade_id": "cell-a0a6fdb7ca694bee",
     "locked": true,
     "schema_version": 1,
     "solution": false
    }
   },
   "source": [
    "### Installing PyTorch\n",
    "\n",
    "In this lab we will use PyTorch. PyTorch is an open source deep learning framework primarily developed by Facebook's artificial-intelligence research group. In order to install PyTorch in your conda environment go to https://pytorch.org and select your operating system, conda, Python 3.6, no cuda. Copy the text from the \"Run this command:\" box. Now open a terminal and activate your 'ml2labs' conda environment. Paste the text and run. After the installation is done you should restart Jupyter."
   ]
  },
  {
   "cell_type": "markdown",
   "metadata": {
    "deletable": false,
    "editable": false,
    "nbgrader": {
     "checksum": "d9c3d77f550b5fd93b34fd18825c47f0",
     "grade": false,
     "grade_id": "cell-746cac8d9a21943b",
     "locked": true,
     "schema_version": 1,
     "solution": false
    }
   },
   "source": [
    "### MNIST data\n",
    "\n",
    "In this Lab we will use several methods for unsupervised learning on the MNIST dataset of written digits. The dataset contains digital images of handwritten numbers $0$ through $9$. Each image has 28x28 pixels that each take 256 values in a range from white ($= 0$) to  black ($=1$). The labels belonging to the images are also included. \n",
    "Fortunately, PyTorch comes with a MNIST data loader. The first time you run the box below it will download the MNIST data set. That can take a couple of minutes.\n",
    "The main data types in PyTorch are tensors. For Part 1, we will convert those tensors to numpy arrays. In Part 2, we will use the torch module to directly work with PyTorch tensors."
   ]
  },
  {
   "cell_type": "code",
   "execution_count": 51,
   "metadata": {
    "deletable": false,
    "editable": false,
    "nbgrader": {
     "checksum": "4fbc152afa1255331d7b88bf00b7156c",
     "grade": false,
     "grade_id": "cell-7c995be0fda080c0",
     "locked": true,
     "schema_version": 1,
     "solution": false
    }
   },
   "outputs": [
    {
     "name": "stdout",
     "output_type": "stream",
     "text": [
      "Populating the interactive namespace from numpy and matplotlib\n"
     ]
    },
    {
     "name": "stderr",
     "output_type": "stream",
     "text": [
      "/home/hiryugan/anaconda3/envs/ml2labs/lib/python3.6/site-packages/IPython/core/magics/pylab.py:160: UserWarning: pylab import has clobbered these variables: ['figure', 'norm', 'pi', 'sample', 'gamma', 'axes']\n",
      "`%matplotlib` prevents importing * from pylab and numpy\n",
      "  \"\\n`%matplotlib` prevents importing * from pylab and numpy\"\n"
     ]
    }
   ],
   "source": [
    "%pylab inline\n",
    "import torch\n",
    "from torchvision import datasets, transforms\n",
    "\n",
    "train_dataset = datasets.MNIST('../data', train=True, download=True,\n",
    "                   transform=transforms.Compose([\n",
    "                       transforms.ToTensor(),\n",
    "                       transforms.Normalize((0.1307,), (0.3081,))\n",
    "                   ]))\n",
    "\n",
    "train_labels = train_dataset.train_labels.numpy()\n",
    "train_data = train_dataset.train_data.numpy()\n",
    "# For EM we will use flattened data\n",
    "train_data = train_data.reshape(train_data.shape[0], -1)\n"
   ]
  },
  {
   "cell_type": "markdown",
   "metadata": {
    "deletable": false,
    "editable": false,
    "nbgrader": {
     "checksum": "4fc852f9bfb0bab10d4c23eada309e89",
     "grade": false,
     "grade_id": "cell-8b4a44df532b1867",
     "locked": true,
     "schema_version": 1,
     "solution": false
    }
   },
   "source": [
    "## Part 1: Expectation Maximization\n",
    "We will use the Expectation Maximization (EM) algorithm for the recognition of handwritten digits in the MNIST dataset. The images are modelled as a Bernoulli mixture model (see Bishop $\\S9.3.3$):\n",
    "$$\n",
    "p(\\bx|\\bmu, \\bpi) = \\sum_{k=1}^K  \\pi_k \\prod_{i=1}^D \\mu_{ki}^{x_i}(1-\\mu_{ki})^{(1-x_i)}\n",
    "$$\n",
    "where $x_i$ is the value of pixel $i$ in an image, $\\mu_{ki}$ represents the probability that pixel $i$ in class $k$ is black, and $\\{\\pi_1, \\ldots, \\pi_K\\}$ are the mixing coefficients of classes in the data. We want to use this data set to classify new images of handwritten numbers."
   ]
  },
  {
   "cell_type": "markdown",
   "metadata": {
    "deletable": false,
    "editable": false,
    "nbgrader": {
     "checksum": "54064637b7e7cf938c0f778d748a226a",
     "grade": false,
     "grade_id": "cell-af03fef663aa85b2",
     "locked": true,
     "schema_version": 1,
     "solution": false
    }
   },
   "source": [
    "### 1.1 Binary data (5 points)\n",
    "As we like to apply our Bernoulli mixture model, write a function `binarize` to convert the (flattened) MNIST data to binary images, where each pixel $x_i \\in \\{0,1\\}$, by thresholding at an appropriate level."
   ]
  },
  {
   "cell_type": "code",
   "execution_count": 52,
   "metadata": {
    "collapsed": true,
    "deletable": false,
    "nbgrader": {
     "checksum": "fe8607a4d734f7f26ef1ee1e54b33471",
     "grade": false,
     "grade_id": "cell-ec4365531ca57ef3",
     "locked": false,
     "schema_version": 1,
     "solution": true
    }
   },
   "outputs": [],
   "source": [
    "def binarize(X):\n",
    "    return np.around(train_data/255)"
   ]
  },
  {
   "cell_type": "code",
   "execution_count": 53,
   "metadata": {
    "collapsed": true,
    "deletable": false,
    "editable": false,
    "nbgrader": {
     "checksum": "231b2c9f29bc5c536c60cef4d74793a1",
     "grade": true,
     "grade_id": "cell-2f16f57cb68a83b3",
     "locked": true,
     "points": 5,
     "schema_version": 1,
     "solution": false
    }
   },
   "outputs": [],
   "source": [
    "# Test test test!\n",
    "bin_train_data = binarize(train_data)\n",
    "assert bin_train_data.dtype == np.float\n",
    "assert bin_train_data.shape == train_data.shape\n"
   ]
  },
  {
   "cell_type": "markdown",
   "metadata": {
    "deletable": false,
    "editable": false,
    "nbgrader": {
     "checksum": "a0a39404cc2f67078b399ee34653a3ac",
     "grade": false,
     "grade_id": "cell-462e747685e8670f",
     "locked": true,
     "schema_version": 1,
     "solution": false
    }
   },
   "source": [
    "Sample a few images of digits $2$, $3$ and $4$; and show both the original and the binarized image together with their label."
   ]
  },
  {
   "cell_type": "code",
   "execution_count": 54,
   "metadata": {
    "collapsed": true
   },
   "outputs": [],
   "source": [
    "import matplotlib.pyplot as plt\n",
    "%matplotlib inline\n",
    "matplotlib.rcParams['figure.figsize'] = (12, 8)"
   ]
  },
  {
   "cell_type": "code",
   "execution_count": 55,
   "metadata": {
    "collapsed": true
   },
   "outputs": [],
   "source": [
    "def sample_digits_indices(start, stop, num_samples):\n",
    "    sampled_indices = np.array([]).astype(int)\n",
    "    \n",
    "    sampled_sizes = []\n",
    "    for i in range(start, stop+1):\n",
    "        indices = np.where(train_labels == i)[0]\n",
    "        if num_samples is not None:\n",
    "            indices = np.random.choice(indices, num_samples)\n",
    "        sampled_sizes.append(len(indices))\n",
    "        sampled_indices = np.hstack((sampled_indices, indices))\n",
    "        \n",
    "    return sampled_indices, sampled_sizes"
   ]
  },
  {
   "cell_type": "code",
   "execution_count": 56,
   "metadata": {
    "collapsed": true
   },
   "outputs": [],
   "source": [
    "def sample_digits(sampled_indices, binary = False):\n",
    "    samples = train_data[sampled_indices]\n",
    "    sampled_labels = train_labels[sampled_indices]\n",
    "    \n",
    "    if binary:\n",
    "        bin_samples = bin_train_data[sampled_indices]\n",
    "        return sampled_labels, samples, bin_samples\n",
    "    else:\n",
    "        return sampled_labels, samples"
   ]
  },
  {
   "cell_type": "code",
   "execution_count": 57,
   "metadata": {
    "collapsed": true
   },
   "outputs": [],
   "source": [
    "def sample_data(start, stop, num_samples, binary):\n",
    "    range_digits = stop - start + 1\n",
    "    \n",
    "    sampled_indices, sampled_sizes = sample_digits_indices(start, stop, num_samples)\n",
    "    if binary:\n",
    "        sampled_labels, samples, bin_samples = sample_digits(sampled_indices, binary)\n",
    "        return sampled_labels, samples, bin_samples, sampled_sizes\n",
    "    else:\n",
    "        sampled_labels, samples = sample_digits(sampled_indices, binary)\n",
    "        return sampled_labels, samples, sampled_sizes"
   ]
  },
  {
   "cell_type": "code",
   "execution_count": 58,
   "metadata": {
    "deletable": false,
    "nbgrader": {
     "checksum": "3f3c981f0fda5ba3bdfcefb9144305c7",
     "grade": true,
     "grade_id": "cell-784c6bd177a9aa42",
     "locked": false,
     "points": 5,
     "schema_version": 1,
     "solution": true
    }
   },
   "outputs": [
    {
     "data": {
      "image/png": "[encoded data removed]",
      "text/plain": [
       "<Figure size 864x576 with 18 Axes>"
      ]
     },
     "metadata": {},
     "output_type": "display_data"
    }
   ],
   "source": [
    "num_samples = 3\n",
    "start_digit = 2\n",
    "stop_digit = 4\n",
    "range_digits = stop_digit - start_digit + 1\n",
    "\n",
    "sampled_labels, samples, bin_samples, _ =  sample_data(start_digit, stop_digit, \n",
    "                                                    num_samples, binary = True)\n",
    "\n",
    "sampled_labels = sampled_labels.reshape(range_digits, num_samples)\n",
    "samples = samples.reshape(range_digits, num_samples, 28, 28)\n",
    "bin_samples = bin_samples.reshape(range_digits, num_samples, 28, 28)\n",
    "\n",
    "fig, axes = plt.subplots(range_digits, num_samples * 2)\n",
    "\n",
    "for i in range(range_digits):\n",
    "    for j in range(num_samples):\n",
    "        k = 2*j\n",
    "        \n",
    "        axes[i, k].axis('off')\n",
    "        axes[i, k + 1].axis('off')\n",
    "        \n",
    "        axes[i, k].imshow(samples[i, j], cmap='Greys')\n",
    "        axes[i, k + 1].imshow(bin_samples[i, j], cmap='Greys')\n",
    "        \n",
    "        axes[i, k].set_title(f'Original {sampled_labels[i, j]}')\n",
    "        axes[i, k+1].set_title(f'Binarized {sampled_labels[i, j]}')"
   ]
  },
  {
   "cell_type": "markdown",
   "metadata": {
    "deletable": false,
    "editable": false,
    "nbgrader": {
     "checksum": "4b9da574d24193df76e96ed8ca62c7b0",
     "grade": false,
     "grade_id": "cell-56b33654497d4052",
     "locked": true,
     "schema_version": 1,
     "solution": false
    }
   },
   "source": [
    "### 1.2 Implementation (40 points)\n",
    "You are going to write a function ```EM(X, K, max_iter)``` that implements the EM algorithm on the Bernoulli mixture model. \n",
    "\n",
    "The only parameters the function has are:\n",
    "* ```X``` :: (NxD) array of input training images\n",
    "* ```K``` :: size of the latent space\n",
    "* ```max_iter``` :: maximum number of iterations, i.e. one E-step and one M-step\n",
    "\n",
    "You are free to specify your return statement.\n",
    "\n",
    "Make sure you use a sensible way of terminating the iteration process early to prevent unnecessarily running through all epochs. Vectorize computations using ```numpy``` as  much as possible.\n",
    "\n",
    "You should implement the `E_step(X, mu, pi)` and `M_step(X, gamma)` separately in the functions defined below. These you can then use in your function `EM(X, K, max_iter)`."
   ]
  },
  {
   "cell_type": "code",
   "execution_count": 59,
   "metadata": {
    "collapsed": true,
    "deletable": false,
    "nbgrader": {
     "checksum": "316c9131692747c363b5db8e9091d362",
     "grade": false,
     "grade_id": "cell-882b13c117a73cc4",
     "locked": false,
     "schema_version": 1,
     "solution": true
    }
   },
   "outputs": [],
   "source": [
    "def E_step(X, mu, pi):\n",
    "    \n",
    "    # expand dimensions for vectorizing (N x D -> N x 1 x D)\n",
    "    X_expanded = np.expand_dims(X, axis=1)\n",
    "\n",
    "    # calculate unnormalized responsibilities\n",
    "    gamma_unnorm = pi * np.prod((mu ** X_expanded) * ((1 - mu) ** (1 - X_expanded)),\n",
    "                                     axis = 2)\n",
    "    \n",
    "    # these lines are for avoiding underflow errors of the product\n",
    "    # uncomment when having such errors\n",
    "#     bern = (mu ** X_expanded) * ((1 - mu) ** (1 - X_expanded))\n",
    "#     gamma_unnorm = pi * (np.exp(np.sum(np.log(bern), axis = 2)))    \n",
    "\n",
    "    # calculate normalization constant\n",
    "    norm_constant = np.sum(gamma_unnorm, axis = 1)\n",
    "\n",
    "    # expand normalization constant dimensions for vectorizing (N -> N x 1)\n",
    "    norm_expanded = np.expand_dims(norm_constant, axis = 1)\n",
    "\n",
    "    # normalize responsibilities\n",
    "    gamma = np.divide(gamma_unnorm, norm_expanded, where = norm_expanded!=0)\n",
    "\n",
    "    return gamma"
   ]
  },
  {
   "cell_type": "code",
   "execution_count": 60,
   "metadata": {
    "collapsed": true,
    "deletable": false,
    "editable": false,
    "nbgrader": {
     "checksum": "1418f4014e98024fc97446ce27766c1d",
     "grade": true,
     "grade_id": "cell-f7c7dd52d82e2498",
     "locked": true,
     "points": 15,
     "schema_version": 1,
     "solution": false
    }
   },
   "outputs": [],
   "source": [
    "# Let's test on 5 datapoints\n",
    "n_test = 5\n",
    "X_test = bin_train_data[:n_test]\n",
    "D_test, K_test = X_test.shape[1], 10\n",
    "\n",
    "np.random.seed(2018)\n",
    "mu_test = np.random.uniform(low=.25, high=.75, size=(K_test,D_test))\n",
    "pi_test = np.ones(K_test) / K_test\n",
    "\n",
    "gamma_test = E_step(X_test, mu_test, pi_test)\n",
    "assert gamma_test.shape == (n_test, K_test)\n"
   ]
  },
  {
   "cell_type": "code",
   "execution_count": 61,
   "metadata": {
    "collapsed": true,
    "deletable": false,
    "nbgrader": {
     "checksum": "2c426a613653174795cd9c8327ab6e20",
     "grade": false,
     "grade_id": "cell-f1b11b8765bd1ef6",
     "locked": false,
     "schema_version": 1,
     "solution": true
    }
   },
   "outputs": [],
   "source": [
    "def M_step(X, gamma):\n",
    "    # sum over n\n",
    "    N_k = gamma.sum(axis = 0)\n",
    "\n",
    "    # calculate pi as N_k/N\n",
    "    pi = N_k / np.sum(N_k)\n",
    "    \n",
    "    # expand dimensions and repeat for vectorizing (N x D -> N x K x D)\n",
    "    # where c is the second dimension of vector gamma (N in Bishop's notation)\n",
    "    X_expanded = np.repeat(np.expand_dims(X, axis=1), gamma.shape[1], axis=1)\n",
    "    \n",
    "    # expand dimensions for vectorizing (N x K -> N x K x 1)\n",
    "    gamma_expanded = np.expand_dims(gamma, axis=2)\n",
    "\n",
    "    # calculate unnormalized values for mu\n",
    "    # results in K x D dimensional vector\n",
    "    mu_unnorm = np.sum(X_expanded * gamma_expanded, axis = 0)\n",
    "\n",
    "    # expand dimensions for vectorizing (K -> K x 1)\n",
    "    N_k_expanded = np.expand_dims(N_k, axis=1)\n",
    "\n",
    "    # normalize mu\n",
    "    mu = mu_unnorm / N_k_expanded\n",
    "    \n",
    "    return mu, pi"
   ]
  },
  {
   "cell_type": "code",
   "execution_count": 62,
   "metadata": {
    "collapsed": true,
    "deletable": false,
    "editable": false,
    "nbgrader": {
     "checksum": "0f60d48b8b22063cef560b42944a0aa4",
     "grade": true,
     "grade_id": "cell-6e7c751b30acfd45",
     "locked": true,
     "points": 15,
     "schema_version": 1,
     "solution": false
    }
   },
   "outputs": [],
   "source": [
    "# Oh, let's test again\n",
    "mu_test, pi_test = M_step(X_test, gamma_test)\n",
    "\n",
    "assert mu_test.shape == (K_test,D_test)\n",
    "assert pi_test.shape == (K_test, )\n"
   ]
  },
  {
   "cell_type": "code",
   "execution_count": 63,
   "metadata": {
    "collapsed": true
   },
   "outputs": [],
   "source": [
    "def plot_MNIST_latent_representation(mu, iter = None):\n",
    "    K = mu.shape[0]\n",
    "    mu = mu.reshape(mu.shape[0], 28, 28)\n",
    "        \n",
    "    fig, axes = plt.subplots(1, K)\n",
    "    \n",
    "    for i in range(K):\n",
    "        if iter is not None:\n",
    "            axes[i].set_title(f'After iteration {iter}')\n",
    "        axes[i].axis('off')\n",
    "        axes[i].imshow(mu[i], cmap='Greys')"
   ]
  },
  {
   "cell_type": "code",
   "execution_count": 64,
   "metadata": {
    "collapsed": true,
    "deletable": false,
    "nbgrader": {
     "checksum": "acfec6384b058cb0ce1932006fbfebc4",
     "grade": true,
     "grade_id": "cell-d6c4368246dee7e6",
     "locked": false,
     "points": 10,
     "schema_version": 1,
     "solution": true
    }
   },
   "outputs": [],
   "source": [
    "def EM(X, K, max_iter, eps = 1e-5, mu=None, pi=None, plot=False):\n",
    "    N, D = X.shape[0], X.shape[1]\n",
    "    \n",
    "    if mu is None:\n",
    "        mu = np.random.uniform(low=.25, high=.75, size=(K, D))\n",
    "    \n",
    "    if pi is None:\n",
    "        pi = np.ones(K) / K\n",
    "        \n",
    "    gamma_prev = np.zeros((N, K))\n",
    "    for i in range(max_iter):\n",
    "        if plot and not (i % 5):\n",
    "            plot_MNIST_latent_representation(mu, i)\n",
    "        gamma = E_step(X, mu, pi)\n",
    "        mu, pi = M_step(X, gamma)\n",
    "        \n",
    "        delta = np.linalg.norm(gamma - gamma_prev) / gamma.shape[0]\n",
    "        print(f'Epoch {i}/{max_iter}: delta of gamma - {delta}, tolerance - {eps}')\n",
    "        if delta < eps:\n",
    "            break\n",
    "        gamma_prev = gamma\n",
    "\n",
    "    return mu, pi, gamma"
   ]
  },
  {
   "cell_type": "markdown",
   "metadata": {
    "deletable": false,
    "editable": false,
    "nbgrader": {
     "checksum": "b4fc12faa0da660f7a4d9cc7deb41b25",
     "grade": false,
     "grade_id": "cell-e1077ed3b83489be",
     "locked": true,
     "schema_version": 1,
     "solution": false
    }
   },
   "source": [
    "### 1.3 Three digits experiment (10 points)\n",
    "In analogue with Bishop $\\S9.3.3$, sample a training set consisting of only __binary__ images of written digits $2$, $3$, and $4$. Run your EM algorithm and show the reconstructed digits."
   ]
  },
  {
   "cell_type": "code",
   "execution_count": 65,
   "metadata": {
    "deletable": false,
    "nbgrader": {
     "checksum": "bdbce0fad0ed151063d4c489ce999e3e",
     "grade": true,
     "grade_id": "cell-477155d0264d7259",
     "locked": false,
     "points": 5,
     "schema_version": 1,
     "solution": true
    },
    "scrolled": false
   },
   "outputs": [
    {
     "name": "stdout",
     "output_type": "stream",
     "text": [
      "Epoch 0/500: delta of gamma - 0.0070490424913507155, tolerance - 1e-05\n",
      "Epoch 1/500: delta of gamma - 0.0051387241732246845, tolerance - 1e-05\n",
      "Epoch 2/500: delta of gamma - 0.004088840820088166, tolerance - 1e-05\n",
      "Epoch 3/500: delta of gamma - 0.003436397103838344, tolerance - 1e-05\n",
      "Epoch 4/500: delta of gamma - 0.002408677835739104, tolerance - 1e-05\n",
      "Epoch 5/500: delta of gamma - 0.001363267126487797, tolerance - 1e-05\n",
      "Epoch 6/500: delta of gamma - 0.0006892379917515429, tolerance - 1e-05\n",
      "Epoch 7/500: delta of gamma - 0.0002604341881501465, tolerance - 1e-05\n",
      "Epoch 8/500: delta of gamma - 9.748415266967077e-05, tolerance - 1e-05\n",
      "Epoch 9/500: delta of gamma - 4.015764175495793e-05, tolerance - 1e-05\n",
      "Epoch 10/500: delta of gamma - 9.746428292658852e-05, tolerance - 1e-05\n",
      "Epoch 11/500: delta of gamma - 6.556884193446168e-05, tolerance - 1e-05\n",
      "Epoch 12/500: delta of gamma - 7.856660129090118e-05, tolerance - 1e-05\n",
      "Epoch 13/500: delta of gamma - 8.237123611978988e-06, tolerance - 1e-05\n",
      "Mixing coefficients: [0.34751217 0.31859832 0.33388951]\n",
      "Final result:\n"
     ]
    },
    {
     "data": {
      "image/png": "[encoded data removed]",
      "text/plain": [
       "<Figure size 864x576 with 3 Axes>"
      ]
     },
     "metadata": {},
     "output_type": "display_data"
    }
   ],
   "source": [
    "# None corresponds to getting all samples of specified digits\n",
    "num_samples = None\n",
    "\n",
    "start_digit = 2\n",
    "stop_digit = 4\n",
    "range_digits = stop_digit - start_digit + 1\n",
    "\n",
    "max_iter = 500\n",
    "latent_size = range_digits\n",
    "\n",
    "_, _, bin_samples, _ =  sample_data(start_digit, stop_digit, num_samples, binary = True)\n",
    "mu, pi, gamma = EM(bin_samples, latent_size, max_iter = max_iter, plot = False)\n",
    "print(f'Mixing coefficients: {pi}')\n",
    "print('Final result:')\n",
    "plot_MNIST_latent_representation(mu)"
   ]
  },
  {
   "cell_type": "markdown",
   "metadata": {
    "deletable": false,
    "editable": false,
    "nbgrader": {
     "checksum": "485543f4893938d2a9dc1c17d8221cbc",
     "grade": false,
     "grade_id": "cell-88c9664f995b1909",
     "locked": true,
     "schema_version": 1,
     "solution": false
    }
   },
   "source": [
    "Can you identify which element in the latent space corresponds to which digit? What are the identified mixing coefficients for digits $2$, $3$ and $4$, and how do these compare to the true ones?"
   ]
  },
  {
   "cell_type": "markdown",
   "metadata": {
    "deletable": false,
    "nbgrader": {
     "checksum": "ae7b5acea6089e2590059f90b0d0a0be",
     "grade": true,
     "grade_id": "cell-3680ae2159c48193",
     "locked": false,
     "points": 5,
     "schema_version": 1,
     "solution": true
    }
   },
   "source": [
    "Yes, it is easy to see from this latent space visualizations above that the first digit is a 4, the second a 2 and the thrid a 3. The calculated mixing coefficients are 0.34751217 0.31859832 0.33388951. If we assume that the data contain every digit in equal number, then the true mixing coefficients would be all 1/3, which is true in our case, since we sample data in equal number for every digit. So, the difference between the true mixing coefficients and the calculated ones is relatively small with our implementation."
   ]
  },
  {
   "cell_type": "markdown",
   "metadata": {
    "deletable": false,
    "editable": false,
    "nbgrader": {
     "checksum": "98e04feb59a36867367b3027df9e226d",
     "grade": false,
     "grade_id": "cell-0891dda1c3e80e9a",
     "locked": true,
     "schema_version": 1,
     "solution": false
    }
   },
   "source": [
    "### 1.4 Experiments (20 points)\n",
    "Perform the follow-up experiments listed below using your implementation of the EM algorithm. For each of these, describe/comment on the obtained results and give an explanation. You may still use your dataset with only digits 2, 3 and 4 as otherwise computations can take very long."
   ]
  },
  {
   "cell_type": "markdown",
   "metadata": {
    "deletable": false,
    "editable": false,
    "nbgrader": {
     "checksum": "439067186fa3ef1d7261a9bcf5a84ea6",
     "grade": false,
     "grade_id": "cell-06fe1b1355689928",
     "locked": true,
     "schema_version": 1,
     "solution": false
    }
   },
   "source": [
    "#### 1.4.1 Size of the latent space (5 points)\n",
    "Run EM with $K$ larger or smaller than the true number of classes. Describe your results."
   ]
  },
  {
   "cell_type": "code",
   "execution_count": 16,
   "metadata": {
    "deletable": false,
    "nbgrader": {
     "checksum": "791512aeadd30c4b586b966ca10e6fad",
     "grade": true,
     "grade_id": "cell-6c9057f2546b7215",
     "locked": false,
     "points": 2,
     "schema_version": 1,
     "solution": true
    }
   },
   "outputs": [
    {
     "name": "stdout",
     "output_type": "stream",
     "text": [
      "Epoch 0/500: delta of gamma - 0.007144744590750588, tolerance - 1e-05\n",
      "Epoch 1/500: delta of gamma - 0.004779654926787, tolerance - 1e-05\n",
      "Epoch 2/500: delta of gamma - 0.0024882583181318084, tolerance - 1e-05\n",
      "Epoch 3/500: delta of gamma - 0.0022324971529000498, tolerance - 1e-05\n",
      "Epoch 4/500: delta of gamma - 0.0022835379677800917, tolerance - 1e-05\n",
      "Epoch 5/500: delta of gamma - 0.002151058735035688, tolerance - 1e-05\n",
      "Epoch 6/500: delta of gamma - 0.0018296689358845918, tolerance - 1e-05\n",
      "Epoch 7/500: delta of gamma - 0.001386186344403166, tolerance - 1e-05\n",
      "Epoch 8/500: delta of gamma - 0.0009759272094159891, tolerance - 1e-05\n",
      "Epoch 9/500: delta of gamma - 0.0006955222436021928, tolerance - 1e-05\n",
      "Epoch 10/500: delta of gamma - 0.0005707264176081586, tolerance - 1e-05\n",
      "Epoch 11/500: delta of gamma - 0.0005288460145955689, tolerance - 1e-05\n",
      "Epoch 12/500: delta of gamma - 0.0004988628924039905, tolerance - 1e-05\n",
      "Epoch 13/500: delta of gamma - 0.0004766444775863425, tolerance - 1e-05\n",
      "Epoch 14/500: delta of gamma - 0.0004670913100419411, tolerance - 1e-05\n",
      "Epoch 15/500: delta of gamma - 0.00042388687717678656, tolerance - 1e-05\n",
      "Epoch 16/500: delta of gamma - 0.0004091096635607695, tolerance - 1e-05\n",
      "Epoch 17/500: delta of gamma - 0.00042287078947736136, tolerance - 1e-05\n",
      "Epoch 18/500: delta of gamma - 0.0003918385336358374, tolerance - 1e-05\n",
      "Epoch 19/500: delta of gamma - 0.00036933939668811866, tolerance - 1e-05\n",
      "Epoch 20/500: delta of gamma - 0.00032307309525652077, tolerance - 1e-05\n",
      "Epoch 21/500: delta of gamma - 0.00032701369928666706, tolerance - 1e-05\n",
      "Epoch 22/500: delta of gamma - 0.000354141577733489, tolerance - 1e-05\n",
      "Epoch 23/500: delta of gamma - 0.0003911919282659982, tolerance - 1e-05\n",
      "Epoch 24/500: delta of gamma - 0.000411601369677907, tolerance - 1e-05\n",
      "Epoch 25/500: delta of gamma - 0.00040407000034738203, tolerance - 1e-05\n",
      "Epoch 26/500: delta of gamma - 0.0004128994040413564, tolerance - 1e-05\n",
      "Epoch 27/500: delta of gamma - 0.0004259556715320405, tolerance - 1e-05\n",
      "Epoch 28/500: delta of gamma - 0.0004625943216139471, tolerance - 1e-05\n",
      "Epoch 29/500: delta of gamma - 0.0005396386499560137, tolerance - 1e-05\n",
      "Epoch 30/500: delta of gamma - 0.0006364854565514206, tolerance - 1e-05\n",
      "Epoch 31/500: delta of gamma - 0.0007201820209596188, tolerance - 1e-05\n",
      "Epoch 32/500: delta of gamma - 0.0007810187665382894, tolerance - 1e-05\n",
      "Epoch 33/500: delta of gamma - 0.0007465860881387331, tolerance - 1e-05\n",
      "Epoch 34/500: delta of gamma - 0.0007413091938619359, tolerance - 1e-05\n",
      "Epoch 35/500: delta of gamma - 0.0006792661377471598, tolerance - 1e-05\n",
      "Epoch 36/500: delta of gamma - 0.0005224327060848067, tolerance - 1e-05\n",
      "Epoch 37/500: delta of gamma - 0.0003767659971063931, tolerance - 1e-05\n",
      "Epoch 38/500: delta of gamma - 0.00028274606733557863, tolerance - 1e-05\n",
      "Epoch 39/500: delta of gamma - 0.00021731314820181585, tolerance - 1e-05\n",
      "Epoch 40/500: delta of gamma - 0.0001093157293422588, tolerance - 1e-05\n",
      "Epoch 41/500: delta of gamma - 5.698017515990999e-05, tolerance - 1e-05\n",
      "Epoch 42/500: delta of gamma - 0.00011471905544535734, tolerance - 1e-05\n",
      "Epoch 43/500: delta of gamma - 0.00010615735587016173, tolerance - 1e-05\n",
      "Epoch 44/500: delta of gamma - 2.2138941322456886e-05, tolerance - 1e-05\n",
      "Epoch 45/500: delta of gamma - 9.361030123234992e-06, tolerance - 1e-05\n"
     ]
    },
    {
     "data": {
      "image/png": "[encoded data removed]",
      "text/plain": [
       "<Figure size 864x576 with 2 Axes>"
      ]
     },
     "metadata": {},
     "output_type": "display_data"
    }
   ],
   "source": [
    "num_samples = None\n",
    "max_iter = 500\n",
    "\n",
    "latent_size = 2\n",
    "\n",
    "_, _, bin_samples, _ =  sample_data(start_digit, stop_digit, num_samples, binary = True)\n",
    "mu, _, _ = EM(bin_samples, latent_size, max_iter = max_iter, plot = False)\n",
    "plot_MNIST_latent_representation(mu)"
   ]
  },
  {
   "cell_type": "code",
   "execution_count": 17,
   "metadata": {
    "scrolled": true
   },
   "outputs": [
    {
     "name": "stdout",
     "output_type": "stream",
     "text": [
      "Epoch 0/500: delta of gamma - 0.006754877053127517, tolerance - 1e-05\n",
      "Epoch 1/500: delta of gamma - 0.00757841750983632, tolerance - 1e-05\n",
      "Epoch 2/500: delta of gamma - 0.003947350775148579, tolerance - 1e-05\n",
      "Epoch 3/500: delta of gamma - 0.0028395653533175485, tolerance - 1e-05\n",
      "Epoch 4/500: delta of gamma - 0.002429701579530734, tolerance - 1e-05\n",
      "Epoch 5/500: delta of gamma - 0.002250506459919134, tolerance - 1e-05\n",
      "Epoch 6/500: delta of gamma - 0.0020988478345393977, tolerance - 1e-05\n",
      "Epoch 7/500: delta of gamma - 0.002045659636048078, tolerance - 1e-05\n",
      "Epoch 8/500: delta of gamma - 0.001885141505463226, tolerance - 1e-05\n",
      "Epoch 9/500: delta of gamma - 0.0015578157663286248, tolerance - 1e-05\n",
      "Epoch 10/500: delta of gamma - 0.0012147851862863743, tolerance - 1e-05\n",
      "Epoch 11/500: delta of gamma - 0.0009137315623055044, tolerance - 1e-05\n",
      "Epoch 12/500: delta of gamma - 0.0007342119528952707, tolerance - 1e-05\n",
      "Epoch 13/500: delta of gamma - 0.000613314523037607, tolerance - 1e-05\n",
      "Epoch 14/500: delta of gamma - 0.0005398110733064115, tolerance - 1e-05\n",
      "Epoch 15/500: delta of gamma - 0.0004779577238332128, tolerance - 1e-05\n",
      "Epoch 16/500: delta of gamma - 0.00042572549409920145, tolerance - 1e-05\n",
      "Epoch 17/500: delta of gamma - 0.0003711630880889386, tolerance - 1e-05\n",
      "Epoch 18/500: delta of gamma - 0.00035933010121210547, tolerance - 1e-05\n",
      "Epoch 19/500: delta of gamma - 0.00032306793630421316, tolerance - 1e-05\n",
      "Epoch 20/500: delta of gamma - 0.00030140288625423866, tolerance - 1e-05\n",
      "Epoch 21/500: delta of gamma - 0.00027586848196966564, tolerance - 1e-05\n",
      "Epoch 22/500: delta of gamma - 0.00027176325491164724, tolerance - 1e-05\n",
      "Epoch 23/500: delta of gamma - 0.0002879933675329066, tolerance - 1e-05\n",
      "Epoch 24/500: delta of gamma - 0.00023403316051324327, tolerance - 1e-05\n",
      "Epoch 25/500: delta of gamma - 0.0001863619579350264, tolerance - 1e-05\n",
      "Epoch 26/500: delta of gamma - 0.0001552950856829872, tolerance - 1e-05\n",
      "Epoch 27/500: delta of gamma - 0.00014553934873322573, tolerance - 1e-05\n",
      "Epoch 28/500: delta of gamma - 0.00018472984215766786, tolerance - 1e-05\n",
      "Epoch 29/500: delta of gamma - 0.00014036221120146658, tolerance - 1e-05\n",
      "Epoch 30/500: delta of gamma - 0.00014133339700441174, tolerance - 1e-05\n",
      "Epoch 31/500: delta of gamma - 0.00014451672355022432, tolerance - 1e-05\n",
      "Epoch 32/500: delta of gamma - 0.0001685525182397856, tolerance - 1e-05\n",
      "Epoch 33/500: delta of gamma - 0.0002163937791774255, tolerance - 1e-05\n",
      "Epoch 34/500: delta of gamma - 0.00023065534959132295, tolerance - 1e-05\n",
      "Epoch 35/500: delta of gamma - 0.00021764598817185904, tolerance - 1e-05\n",
      "Epoch 36/500: delta of gamma - 0.00021301604937478988, tolerance - 1e-05\n",
      "Epoch 37/500: delta of gamma - 0.00022900827704891652, tolerance - 1e-05\n",
      "Epoch 38/500: delta of gamma - 0.00024274416071841046, tolerance - 1e-05\n",
      "Epoch 39/500: delta of gamma - 0.0002546594412008258, tolerance - 1e-05\n",
      "Epoch 40/500: delta of gamma - 0.00024758761099684504, tolerance - 1e-05\n",
      "Epoch 41/500: delta of gamma - 0.00027359555618727935, tolerance - 1e-05\n",
      "Epoch 42/500: delta of gamma - 0.0003022521562335065, tolerance - 1e-05\n",
      "Epoch 43/500: delta of gamma - 0.00033344601177253265, tolerance - 1e-05\n",
      "Epoch 44/500: delta of gamma - 0.00036281863111162763, tolerance - 1e-05\n",
      "Epoch 45/500: delta of gamma - 0.0003675863486247605, tolerance - 1e-05\n",
      "Epoch 46/500: delta of gamma - 0.0003913478403590397, tolerance - 1e-05\n",
      "Epoch 47/500: delta of gamma - 0.0004619336019666824, tolerance - 1e-05\n",
      "Epoch 48/500: delta of gamma - 0.0005467803433095116, tolerance - 1e-05\n",
      "Epoch 49/500: delta of gamma - 0.0005338133660591144, tolerance - 1e-05\n",
      "Epoch 50/500: delta of gamma - 0.0005262543393059028, tolerance - 1e-05\n",
      "Epoch 51/500: delta of gamma - 0.0005067313075063531, tolerance - 1e-05\n",
      "Epoch 52/500: delta of gamma - 0.0005025039191292878, tolerance - 1e-05\n",
      "Epoch 53/500: delta of gamma - 0.00045155748431349686, tolerance - 1e-05\n",
      "Epoch 54/500: delta of gamma - 0.0003857356700546121, tolerance - 1e-05\n",
      "Epoch 55/500: delta of gamma - 0.00029187032191307373, tolerance - 1e-05\n",
      "Epoch 56/500: delta of gamma - 0.00023336975979970146, tolerance - 1e-05\n",
      "Epoch 57/500: delta of gamma - 0.00018504340307128742, tolerance - 1e-05\n",
      "Epoch 58/500: delta of gamma - 0.0001567507866273801, tolerance - 1e-05\n",
      "Epoch 59/500: delta of gamma - 0.00014119029196183768, tolerance - 1e-05\n",
      "Epoch 60/500: delta of gamma - 0.0002190462970855749, tolerance - 1e-05\n",
      "Epoch 61/500: delta of gamma - 0.00016859434400586353, tolerance - 1e-05\n",
      "Epoch 62/500: delta of gamma - 0.00014305136148862145, tolerance - 1e-05\n",
      "Epoch 63/500: delta of gamma - 0.00012707234358024587, tolerance - 1e-05\n",
      "Epoch 64/500: delta of gamma - 0.00011600493441798424, tolerance - 1e-05\n",
      "Epoch 65/500: delta of gamma - 0.00010202459230608064, tolerance - 1e-05\n",
      "Epoch 66/500: delta of gamma - 9.149031197278156e-05, tolerance - 1e-05\n",
      "Epoch 67/500: delta of gamma - 9.164465734697155e-05, tolerance - 1e-05\n",
      "Epoch 68/500: delta of gamma - 0.00011558028198328458, tolerance - 1e-05\n",
      "Epoch 69/500: delta of gamma - 0.00010385427918037123, tolerance - 1e-05\n",
      "Epoch 70/500: delta of gamma - 0.00010588048878998556, tolerance - 1e-05\n",
      "Epoch 71/500: delta of gamma - 0.00011380552010511619, tolerance - 1e-05\n",
      "Epoch 72/500: delta of gamma - 0.00011779947093167398, tolerance - 1e-05\n",
      "Epoch 73/500: delta of gamma - 0.00010858446595362048, tolerance - 1e-05\n",
      "Epoch 74/500: delta of gamma - 0.00010968068779214395, tolerance - 1e-05\n",
      "Epoch 75/500: delta of gamma - 0.00010169474277177547, tolerance - 1e-05\n",
      "Epoch 76/500: delta of gamma - 8.368393462773473e-05, tolerance - 1e-05\n",
      "Epoch 77/500: delta of gamma - 8.153718936711895e-05, tolerance - 1e-05\n",
      "Epoch 78/500: delta of gamma - 6.985221021277597e-05, tolerance - 1e-05\n",
      "Epoch 79/500: delta of gamma - 5.4397429051657864e-05, tolerance - 1e-05\n",
      "Epoch 80/500: delta of gamma - 7.924183242932883e-05, tolerance - 1e-05\n",
      "Epoch 81/500: delta of gamma - 4.647020014686744e-05, tolerance - 1e-05\n",
      "Epoch 82/500: delta of gamma - 4.200260223640429e-05, tolerance - 1e-05\n",
      "Epoch 83/500: delta of gamma - 4.1639624742571206e-05, tolerance - 1e-05\n",
      "Epoch 84/500: delta of gamma - 4.182208422724666e-05, tolerance - 1e-05\n",
      "Epoch 85/500: delta of gamma - 4.1710040682925736e-05, tolerance - 1e-05\n",
      "Epoch 86/500: delta of gamma - 4.1324255692369105e-05, tolerance - 1e-05\n",
      "Epoch 87/500: delta of gamma - 4.113932106430801e-05, tolerance - 1e-05\n",
      "Epoch 88/500: delta of gamma - 4.1466792373811685e-05, tolerance - 1e-05\n",
      "Epoch 89/500: delta of gamma - 8.540220942061665e-05, tolerance - 1e-05\n",
      "Epoch 90/500: delta of gamma - 4.814321899977782e-05, tolerance - 1e-05\n",
      "Epoch 91/500: delta of gamma - 4.9363782010013584e-05, tolerance - 1e-05\n",
      "Epoch 92/500: delta of gamma - 5.3023097733656146e-05, tolerance - 1e-05\n",
      "Epoch 93/500: delta of gamma - 5.8353367178756775e-05, tolerance - 1e-05\n",
      "Epoch 94/500: delta of gamma - 6.351163920379305e-05, tolerance - 1e-05\n",
      "Epoch 95/500: delta of gamma - 6.626542022244861e-05, tolerance - 1e-05\n",
      "Epoch 96/500: delta of gamma - 6.862646981511196e-05, tolerance - 1e-05\n",
      "Epoch 97/500: delta of gamma - 6.952265813303708e-05, tolerance - 1e-05\n",
      "Epoch 98/500: delta of gamma - 6.954420873475966e-05, tolerance - 1e-05\n",
      "Epoch 99/500: delta of gamma - 6.870626174915706e-05, tolerance - 1e-05\n",
      "Epoch 100/500: delta of gamma - 6.448432226506345e-05, tolerance - 1e-05\n",
      "Epoch 101/500: delta of gamma - 5.84249597856985e-05, tolerance - 1e-05\n",
      "Epoch 102/500: delta of gamma - 5.3190322925917076e-05, tolerance - 1e-05\n",
      "Epoch 103/500: delta of gamma - 4.71378596687925e-05, tolerance - 1e-05\n",
      "Epoch 104/500: delta of gamma - 3.864503850610039e-05, tolerance - 1e-05\n",
      "Epoch 105/500: delta of gamma - 3.337680921049574e-05, tolerance - 1e-05\n",
      "Epoch 106/500: delta of gamma - 2.8996246444777368e-05, tolerance - 1e-05\n",
      "Epoch 107/500: delta of gamma - 2.565921072589273e-05, tolerance - 1e-05\n",
      "Epoch 108/500: delta of gamma - 2.3407811678317682e-05, tolerance - 1e-05\n",
      "Epoch 109/500: delta of gamma - 2.2271133494460404e-05, tolerance - 1e-05\n",
      "Epoch 110/500: delta of gamma - 2.1956944401227344e-05, tolerance - 1e-05\n",
      "Epoch 111/500: delta of gamma - 2.1092051577290294e-05, tolerance - 1e-05\n",
      "Epoch 112/500: delta of gamma - 1.859928320317024e-05, tolerance - 1e-05\n",
      "Epoch 113/500: delta of gamma - 1.624257865133663e-05, tolerance - 1e-05\n"
     ]
    },
    {
     "name": "stdout",
     "output_type": "stream",
     "text": [
      "Epoch 114/500: delta of gamma - 1.4448205055839004e-05, tolerance - 1e-05\n",
      "Epoch 115/500: delta of gamma - 1.2736654447977601e-05, tolerance - 1e-05\n",
      "Epoch 116/500: delta of gamma - 1.113823432779032e-05, tolerance - 1e-05\n",
      "Epoch 117/500: delta of gamma - 9.72047096532438e-06, tolerance - 1e-05\n"
     ]
    },
    {
     "data": {
      "image/png": "[encoded data removed]",
      "text/plain": [
       "<Figure size 864x576 with 8 Axes>"
      ]
     },
     "metadata": {},
     "output_type": "display_data"
    }
   ],
   "source": [
    "num_samples = None\n",
    "max_iter = 500\n",
    "\n",
    "latent_size = 8\n",
    "\n",
    "_, _, bin_samples, _ =  sample_data(start_digit, stop_digit, num_samples, binary = True)\n",
    "mu, _, _= EM(bin_samples, latent_size, max_iter = max_iter, plot = False)\n",
    "plot_MNIST_latent_representation(mu)"
   ]
  },
  {
   "cell_type": "markdown",
   "metadata": {
    "deletable": false,
    "nbgrader": {
     "checksum": "e12e40c2d2165e3bb500b5504128910d",
     "grade": true,
     "grade_id": "cell-f01c37653160244b",
     "locked": false,
     "points": 3,
     "schema_version": 1,
     "solution": true
    }
   },
   "source": [
    "When K is less than the number of labels, we can see that we get hidden spaces that correspond to more than one digit. In particular, the first visualization looks like a mix of digits 3 and 2 while the second one looks like a four. In general, the representation of a missing digit can infuence more than one single hidden vector.\n",
    "\n",
    "When K is greater than the number of classes, we obtain mutiple hidden representations for the same digit. However, those capture different characteristics among the same labels. For example they can represent different styles of writing, as we can see from the figure. We have in fact different types of four, which include one with wider white space in the top, one with smaller one, and one that is inclinated to the right. Also we have different types of 2s, such as with or without an overlap of the line in the lower part of the image. In general, we could also find mixed representations of digits."
   ]
  },
  {
   "cell_type": "markdown",
   "metadata": {
    "deletable": false,
    "editable": false,
    "nbgrader": {
     "checksum": "b306681523a2e35eea310ac10bb68999",
     "grade": false,
     "grade_id": "cell-cf478d67239b7f2e",
     "locked": true,
     "schema_version": 1,
     "solution": false
    }
   },
   "source": [
    "#### 1.4.2 Identify misclassifications (10 points)\n",
    "How can you use the data labels to assign a label to each of the clusters/latent variables? Use this to identify images that are 'misclassified' and try to understand why they are. Report your findings."
   ]
  },
  {
   "cell_type": "code",
   "execution_count": 18,
   "metadata": {
    "collapsed": true,
    "deletable": false,
    "nbgrader": {
     "checksum": "000c11bd8756a4e24296c7c55d3ee17e",
     "grade": true,
     "grade_id": "cell-daa1a492fbba5c7e",
     "locked": false,
     "points": 5,
     "schema_version": 1,
     "solution": true
    }
   },
   "outputs": [],
   "source": [
    "from collections import Counter\n",
    "\n",
    "def find_inferred_labels(gamma):\n",
    "    mapping = {}\n",
    "    \n",
    "    inferred_labels = np.argmax(gamma, axis=1)\n",
    "    matches_counter = Counter(zip(inferred_labels, labels)).most_common()\n",
    "\n",
    "    for k, v in matches_counter: \n",
    "        inferred_label, true_label = k\n",
    "        if inferred_label not in mapping:\n",
    "            mapping[inferred_label] = true_label\n",
    "        if len(mapping) == gamma.shape[0]:\n",
    "            break\n",
    "            \n",
    "    map_function = np.vectorize(lambda x: mapping[x])\n",
    "    return map_function(inferred_labels)"
   ]
  },
  {
   "cell_type": "code",
   "execution_count": 19,
   "metadata": {},
   "outputs": [
    {
     "name": "stdout",
     "output_type": "stream",
     "text": [
      "Epoch 0/500: delta of gamma - 0.007037781547180154, tolerance - 1e-05\n",
      "Epoch 1/500: delta of gamma - 0.00527394434295638, tolerance - 1e-05\n",
      "Epoch 2/500: delta of gamma - 0.0035627569378913664, tolerance - 1e-05\n",
      "Epoch 3/500: delta of gamma - 0.0034087886552452242, tolerance - 1e-05\n",
      "Epoch 4/500: delta of gamma - 0.002715058694992901, tolerance - 1e-05\n",
      "Epoch 5/500: delta of gamma - 0.0017693330150239555, tolerance - 1e-05\n",
      "Epoch 6/500: delta of gamma - 0.0011088506613732138, tolerance - 1e-05\n",
      "Epoch 7/500: delta of gamma - 0.0007161957319071086, tolerance - 1e-05\n",
      "Epoch 8/500: delta of gamma - 0.000519849438466495, tolerance - 1e-05\n",
      "Epoch 9/500: delta of gamma - 0.0003668157248927767, tolerance - 1e-05\n",
      "Epoch 10/500: delta of gamma - 0.00021119349029406873, tolerance - 1e-05\n",
      "Epoch 11/500: delta of gamma - 0.00019034440776355337, tolerance - 1e-05\n",
      "Epoch 12/500: delta of gamma - 0.0001814466133019971, tolerance - 1e-05\n",
      "Epoch 13/500: delta of gamma - 0.00010550073981531767, tolerance - 1e-05\n",
      "Epoch 14/500: delta of gamma - 4.6970261276072276e-05, tolerance - 1e-05\n",
      "Epoch 15/500: delta of gamma - 8.621744300415058e-05, tolerance - 1e-05\n",
      "Epoch 16/500: delta of gamma - 9.106673822710085e-05, tolerance - 1e-05\n",
      "Epoch 17/500: delta of gamma - 9.109784427614438e-05, tolerance - 1e-05\n",
      "Epoch 18/500: delta of gamma - 2.1207788379621245e-05, tolerance - 1e-05\n",
      "Epoch 19/500: delta of gamma - 9.873348332341065e-06, tolerance - 1e-05\n",
      "Missclassification rate for class 2: 0.1482040953340047\n",
      "Missclassification rate for class 3: 0.1239602022508563\n",
      "Missclassification rate for class 4: 0.013009243409791168\n"
     ]
    },
    {
     "data": {
      "image/png": "[encoded data removed]",
      "text/plain": [
       "<Figure size 864x576 with 5 Axes>"
      ]
     },
     "metadata": {},
     "output_type": "display_data"
    },
    {
     "data": {
      "image/png": "[encoded data removed]",
      "text/plain": [
       "<Figure size 864x576 with 5 Axes>"
      ]
     },
     "metadata": {},
     "output_type": "display_data"
    },
    {
     "data": {
      "image/png": "[encoded data removed]",
      "text/plain": [
       "<Figure size 864x576 with 5 Axes>"
      ]
     },
     "metadata": {},
     "output_type": "display_data"
    }
   ],
   "source": [
    "num_samples = None\n",
    "max_iter = 500\n",
    "\n",
    "latent_size = 3\n",
    "\n",
    "labels, _, bin_samples, sampled_sizes =  sample_data(start_digit, stop_digit, num_samples, binary = True)\n",
    "_, _, gamma = EM(bin_samples, latent_size, max_iter = max_iter, plot = False)\n",
    "inferred_labels = find_inferred_labels(gamma)\n",
    "\n",
    "for i in range(start_digit, stop_digit + 1):\n",
    "    starting_index = np.sum(sampled_sizes[:i - start_digit]).astype(int)\n",
    "    sample_size = sampled_sizes[i - start_digit]\n",
    "    labels_per_class = inferred_labels[starting_index : starting_index + sample_size]\n",
    "    true_labels = labels[starting_index : starting_index + sample_size]\n",
    "    sample_per_class = bin_samples[starting_index : starting_index + sample_size]\n",
    "    \n",
    "    idxs = np.where(labels_per_class - true_labels != 0)[0]\n",
    "    print(f'Missclassification rate for class {i}: {idxs.shape[0]/sample_size}')\n",
    "    \n",
    "    K = 5\n",
    "    fig, axes = plt.subplots(1, K)\n",
    "    \n",
    "    for j, idx in enumerate(idxs[:5]):\n",
    "        sample = sample_per_class[idx]\n",
    "        sample = sample.reshape(28, 28)\n",
    "        \n",
    "        axes[j].axis('off')\n",
    "        axes[j].imshow(sample, cmap='Greys')\n",
    "        axes[j].set_title(f'p:{labels_per_class[idx]} t:{true_labels[idx]}')"
   ]
  },
  {
   "cell_type": "markdown",
   "metadata": {
    "deletable": false,
    "nbgrader": {
     "checksum": "baf43434481c13d76ad51e3ba07e2bf5",
     "grade": true,
     "grade_id": "cell-329245c02df7850d",
     "locked": false,
     "points": 5,
     "schema_version": 1,
     "solution": true
    }
   },
   "source": [
    "To get predicted label of all datapoints we first find $$label_n = argmax_k (\\boldsymbol{\\gamma_n}) \\forall x_n$$\n",
    "We assume, that this value corresponds to some label from original data. However, because predicted labels can be in any position, we add +1 for each correspondence between specific position in $\\boldsymbol{\\gamma_n}$ and label in original data. We use this for further mapping between predicted label and original label.. \n",
    "\n",
    "Imagine, we get following results: \n",
    "- original labels are $\\{ 3, 2, 3, 3, 4, 2, 2, 4, 4 \\}$\n",
    "- predicted labels are $\\{ 0, 1, 0, 0, 1, 1, 0, 2, 2 \\}$.\n",
    "\n",
    "This gives us following correspondences (note that number after \":\" stands for number of occurrences): $\\{ (0, 3):3 ; (0, 2): 1 ; (1, 2) : 2 ; (1, 4) : 1 ; (2, 4) : 2 \\}$. We choose correspondences with highest number of occurences for the same inferred label. Thus, we will have following correspondences between position in $\\boldsymbol{\\gamma_n}$ and true labels: $\\{(0,3); (1,2); (2,4)\\}$. \n",
    "\n",
    "**Note**, that to account for the fact that latent space can have higher dimensionality than number of classes, we allow multiple true labels to be corresponding to the same predicted label.\n",
    "\n",
    "Afterwards, we compare these inferred labels with true labels and find number of misclassification. We have also visualized some of the misclassification in order to diagnose potential reasons for faulty performance. As we can see it, numbers which were classified incorrectly, are often not written properly and can be easily misclassified even by humans. However, some of the misclassifications are not as bad as others so this might point to the fact that EM algorithm is not advanced enough to generalize well to all the data. This might be due to the fact that that it underfits the data, as it doesn't have enough learnable parameters to account for all the data. Also, it might be due to the fact that we are only using subsamples of data and those can have internal biases so that EM fits these biases, or that it has not seen enough examples and does not generalize well.\n",
    "\n",
    "- - - - \n",
    "\n",
    "Another simpler approach is to compare the euclidean distance between the $\\mu$ parameters and the elements of the dataset, and registering the class for latent space $k$ as the class which has lowest average euclidean distance to $\\mu_k$ over the dataset.\n",
    "\n",
    "- - - -\n",
    "From the examples above, it seems like that 2s can get mistaken as 4s when the lower horizontal bar is around the center of the image.\n",
    "Regarding the digit 3 we can see that from the examples above, they get mistaken as 2s when they are a bit rotated to the right, and as 4s when the opposite happens.\n",
    "\n",
    "In total, 4s get mistaken much less than other digits, and most of the misclassifications are between class 2 and 3.\n"
   ]
  },
  {
   "cell_type": "markdown",
   "metadata": {
    "deletable": false,
    "editable": false,
    "nbgrader": {
     "checksum": "640bc57a2d08c3becf534bb5e4b35971",
     "grade": false,
     "grade_id": "cell-67ce1222e8a7837b",
     "locked": true,
     "schema_version": 1,
     "solution": false
    }
   },
   "source": [
    "#### 1.4.3 Initialize with true values (5 points)\n",
    "Initialize the three classes with the true values of the parameters and see what happens. Report your results."
   ]
  },
  {
   "cell_type": "code",
   "execution_count": 20,
   "metadata": {
    "collapsed": true
   },
   "outputs": [],
   "source": [
    "def init_mu_with_true(start, stop, num_samples):\n",
    "    first = True\n",
    "    for i in range(start, stop+1):\n",
    "        _, _, bin_samples, _ =  sample_data(i, i, num_samples, binary = True)\n",
    "        if first:\n",
    "            mu = np.zeros((stop - start + 1, bin_samples.shape[1]))\n",
    "            first = False\n",
    "\n",
    "        avg_values = np.mean(bin_samples, axis = 0)\n",
    "        mu[i - start] = avg_values\n",
    "    return mu"
   ]
  },
  {
   "cell_type": "code",
   "execution_count": 21,
   "metadata": {
    "deletable": false,
    "nbgrader": {
     "checksum": "a48f788e286458ef0f776865a3bcd58b",
     "grade": true,
     "grade_id": "cell-aa5d6b9f941d985d",
     "locked": false,
     "points": 2,
     "schema_version": 1,
     "solution": true
    }
   },
   "outputs": [
    {
     "name": "stdout",
     "output_type": "stream",
     "text": [
      "Epoch 0/500: delta of gamma - 0.00744747981816786, tolerance - 1e-05\n",
      "Epoch 1/500: delta of gamma - 0.001131502075929914, tolerance - 1e-05\n",
      "Epoch 2/500: delta of gamma - 0.0006773936819290769, tolerance - 1e-05\n",
      "Epoch 3/500: delta of gamma - 0.00038465966816704885, tolerance - 1e-05\n",
      "Epoch 4/500: delta of gamma - 0.00022098457428914906, tolerance - 1e-05\n",
      "Epoch 5/500: delta of gamma - 0.00011794313203321668, tolerance - 1e-05\n",
      "Epoch 6/500: delta of gamma - 6.419858536832716e-05, tolerance - 1e-05\n",
      "Epoch 7/500: delta of gamma - 3.667927162971629e-05, tolerance - 1e-05\n",
      "Epoch 8/500: delta of gamma - 1.7811709826930317e-05, tolerance - 1e-05\n",
      "Epoch 9/500: delta of gamma - 9.18115014533511e-06, tolerance - 1e-05\n"
     ]
    },
    {
     "data": {
      "image/png": "[encoded data removed]",
      "text/plain": [
       "<Figure size 864x576 with 3 Axes>"
      ]
     },
     "metadata": {},
     "output_type": "display_data"
    }
   ],
   "source": [
    "start_digit = 2\n",
    "stop_digit = 4\n",
    "range_digits = stop_digit - start_digit + 1\n",
    "im_size = bin_samples.shape[1]\n",
    "\n",
    "num_samples = None\n",
    "max_iter = 500\n",
    "latent_size = range_digits\n",
    "\n",
    "mu = init_mu_with_true(start_digit, stop_digit, num_samples)\n",
    "    \n",
    "_, _, bin_samples, _ = sample_data(start_digit, stop_digit, num_samples, binary = True)\n",
    "mu, _, _ = EM(bin_samples, latent_size, max_iter = max_iter, plot = False, mu = mu)\n",
    "plot_MNIST_latent_representation(mu)"
   ]
  },
  {
   "cell_type": "markdown",
   "metadata": {
    "deletable": false,
    "nbgrader": {
     "checksum": "1dc4adf3081f3bec93f94c3b12b87db9",
     "grade": true,
     "grade_id": "cell-981e44f35a3764b0",
     "locked": false,
     "points": 3,
     "schema_version": 1,
     "solution": true
    }
   },
   "source": [
    "The results show the visualization of the $\\mu_k$ after the EM algorithm when their values are initialized as the average digits for every class. We can see that the algorithm converges in much less number of iterations, and that the delta (average difference of elements of $\\gamma_{nk}$ from the last iteration) monotonically decreases.The reason for that might be that we initialize $\\mu$ with values close to a local minima in a parameter space."
   ]
  },
  {
   "cell_type": "markdown",
   "metadata": {
    "deletable": false,
    "editable": false,
    "nbgrader": {
     "checksum": "bd613f41e5d2b7d22b0d5b1e7644a48a",
     "grade": false,
     "grade_id": "cell-19bfd7cf4017ed84",
     "locked": true,
     "schema_version": 1,
     "solution": false
    }
   },
   "source": [
    "## Part 2: Variational Auto-Encoder\n",
    "\n",
    "A Variational Auto-Encoder (VAE) is a probabilistic model $p(\\bx, \\bz)$ over observed variables $\\bx$ and latent variables and/or parameters $\\bz$. Here we distinguish the decoder part, $p(\\bx | \\bz) p(\\bz)$ and an encoder part $p(\\bz | \\bx)$ that are both specified with a neural network. A lower bound on the log marginal likelihood $\\log p(\\bx)$ can be obtained by approximately inferring the latent variables z from the observed data x using an encoder distribution $q(\\bz| \\bx)$ that is also specified as a neural network. This lower bound is then optimized to fit the model to the data. \n",
    "\n",
    "The model was introduced by Diederik Kingma (during his PhD at the UVA) and Max Welling in 2013, https://arxiv.org/abs/1312.6114. \n",
    "\n",
    "Since it is such an important model there are plenty of well written tutorials that should help you with the assignment. E.g: https://jaan.io/what-is-variational-autoencoder-vae-tutorial/.\n",
    "\n",
    "In the following, we will make heavily use of the torch module, https://pytorch.org/docs/stable/index.html. Most of the time replacing `np.` with `torch.` will do the trick, e.g. `np.sum` becomes `torch.sum` and `np.log` becomes `torch.log`. In addition, we will use `torch.FloatTensor()` as an equivalent to `np.array()`. In order to train our VAE efficiently we will make use of batching. The number of data points in a batch will become the first dimension of our data tensor, e.g. A batch of 128 MNIST images has the dimensions [128, 1, 28, 28]. To check check the dimensions of a tensor you can call `.size()`."
   ]
  },
  {
   "cell_type": "markdown",
   "metadata": {
    "deletable": false,
    "editable": false,
    "nbgrader": {
     "checksum": "92bd337f41c3f94777f47376c7149ca7",
     "grade": false,
     "grade_id": "cell-bcbe35b20c1007d3",
     "locked": true,
     "schema_version": 1,
     "solution": false
    }
   },
   "source": [
    "### 2.1 Loss function\n",
    "The objective function (variational lower bound), that we will use to train the VAE, consists of two terms: a log Bernoulli loss (reconstruction loss) and a Kullback–Leibler divergence. We implement the two terms separately and combine them in the end.\n",
    "As seen in Part 1: Expectation Maximization, we can use a multivariate Bernoulli distribution to model the likelihood $p(\\bx | \\bz)$ of black and white images. Formally, the variational lower bound is maximized but in PyTorch we are always minimizing therefore we need to calculate the negative log Bernoulli loss and Kullback–Leibler divergence."
   ]
  },
  {
   "cell_type": "markdown",
   "metadata": {
    "deletable": false,
    "editable": false,
    "nbgrader": {
     "checksum": "3fb5f70b132e1233983ef89d19998374",
     "grade": false,
     "grade_id": "cell-389d81024af846e5",
     "locked": true,
     "schema_version": 1,
     "solution": false
    }
   },
   "source": [
    "### 2.1.1 Negative Log Bernoulli loss (5 points)\n",
    "The negative log Bernoulli loss is defined as,\n",
    "\n",
    "\\begin{align}\n",
    "loss = - (\\sum_i^D \\bx_i \\log \\hat{\\bx_i} + (1 − \\bx_i) \\log(1 − \\hat{\\bx_i})).\n",
    "\\end{align}\n",
    "\n",
    "Write a function `log_bernoulli_loss` that takes a D dimensional vector `x`, its reconstruction `x_hat` and returns the negative log Bernoulli loss. Make sure that your function works for batches of arbitrary size."
   ]
  },
  {
   "cell_type": "code",
   "execution_count": 22,
   "metadata": {
    "collapsed": true,
    "deletable": false,
    "nbgrader": {
     "checksum": "952435ca03f47ab67a7e88b8306fc9a0",
     "grade": false,
     "grade_id": "cell-1d504606d6f99145",
     "locked": false,
     "schema_version": 1,
     "solution": true
    }
   },
   "outputs": [],
   "source": [
    "def log_bernoulli_loss(x_hat, x):\n",
    "    loss = -torch.sum(x * torch.log(x_hat) + (1 - x) * torch.log(1 - x_hat))\n",
    "    return loss\n"
   ]
  },
  {
   "cell_type": "code",
   "execution_count": 23,
   "metadata": {
    "collapsed": true,
    "deletable": false,
    "editable": false,
    "nbgrader": {
     "checksum": "bd2a490aa694507bd032e86d77fc0087",
     "grade": true,
     "grade_id": "cell-9666dad0b2a9f483",
     "locked": true,
     "points": 5,
     "schema_version": 1,
     "solution": false
    }
   },
   "outputs": [],
   "source": [
    "### Test test test\n",
    "x_test = torch.FloatTensor([[0.1, 0.2, 0.3, 0.4], [0.5, 0.6, 0.7, 0.8], [0.9, 0.9, 0.9, 0.9]])\n",
    "x_hat_test = torch.FloatTensor([[0.11, 0.22, 0.33, 0.44], [0.55, 0.66, 0.77, 0.88], [0.99, 0.99, 0.99, 0.99]])\n",
    "\n",
    "assert log_bernoulli_loss(x_hat_test, x_test) > 0.0\n",
    "assert log_bernoulli_loss(x_hat_test, x_test) < 10.0\n"
   ]
  },
  {
   "cell_type": "markdown",
   "metadata": {
    "deletable": false,
    "editable": false,
    "nbgrader": {
     "checksum": "6b75b7a531ecc87bce57925c4da464ee",
     "grade": false,
     "grade_id": "cell-b3a7c02dee7aa505",
     "locked": true,
     "schema_version": 1,
     "solution": false
    }
   },
   "source": [
    "### 2.1.2 Negative Kullback–Leibler divergence (10 Points)\n",
    "The variational lower bound (the objective to be maximized) contains a KL term $D_{KL}(q(\\bz)||p(\\bz))$ that can often be calculated analytically. In the VAE we assume $q = N(\\bz, \\mu, \\sigma^2I)$ and $p = N(\\bz, 0, I)$. Solve analytically!"
   ]
  },
  {
   "cell_type": "markdown",
   "metadata": {
    "deletable": false,
    "nbgrader": {
     "checksum": "d01a7e7fe2dcf5f1c5fb955b85c8a04a",
     "grade": true,
     "grade_id": "cell-4cab10fd1a636858",
     "locked": false,
     "points": 5,
     "schema_version": 1,
     "solution": true
    }
   },
   "source": [
    "\n",
    "We can express the KL divergence as\n",
    "\\begin{align*}\n",
    "\tKL(q || p) &= - \\int q(\\mathbf{z}) \\ln \\big( \\frac{p(\\mathbf{z})}{q(\\mathbf{z})} \\big) d\\mathbf{z} = -\\int q(\\mathbf{z}) \\big( \\ln p(\\mathbf{z}) - q(\\mathbf{z}) \\big) d\\mathbf{z} \\\\\n",
    "\t&= -\\int q(\\mathbf{z}) \\ln p(\\mathbf{z}) d\\mathbf{z} - \\big[ - \\int q(\\mathbf{z}) \\ln q(\\mathbf{z}) d\\mathbf{z}  \\big] \\end{align*}\n",
    "\n",
    "so that we can divide the problem in two similar integrals. This kind of integral with normals as functions $p$ and $q$ is known.\n",
    "As derived in homework 2, if $p(\\mathbf{z}) = \\mathcal{N}(\\mathbf{z} | \\mathbf{m}, \\mathbf{L})$ and $q=\\mathcal{N}(\\mathbf{z} | \\boldsymbol{\\mu}, \\boldsymbol{\\Sigma})$, then\n",
    "\\begin{align*}\n",
    "\t-\\int q(\\mathbf{z}) \\ln p(\\mathbf{z}) d\\mathbf{z} = \\frac{D}{2} \\ln 2 \\pi +\\frac{1}{2} \\ln |\\mathbf{L}| +\\frac{1}{2} Tr(\\mathbf{L}^{-1} \\boldsymbol{\\Sigma})  +\\frac{1}{2} (\\boldsymbol{\\mu} - \\mathbf{m})^T L^{-1} (\\boldsymbol{\\mu} - \\mathbf{m})\n",
    "\\end{align*}\n",
    "\n",
    "\n",
    "For the variational autoencoder case, we have then \n",
    "\\begin{align*}\n",
    "\t-\\int q(\\mathbf{z}) \\ln p(\\mathbf{z}) d\\mathbf{z}  &= \\frac{D}{2} \\ln 2 \\pi +\\frac{1}{2} \\ln |\\mathbf{L}| +\\frac{1}{2} Tr(\\mathbf{L}^{-1} \\boldsymbol{\\Sigma})  +\\frac{1}{2} (\\boldsymbol{\\mu} - \\mathbf{m})^T \\mathbf{L}^{-1} (\\boldsymbol{\\mu} - \\mathbf{m}) \\\\\n",
    "\t&=  \\frac{D}{2} \\ln 2 \\pi   +\\frac{1}{2} Tr( \\boldsymbol{\\sigma}^2 \\mathbf{I})  +\\frac{1}{2} \\boldsymbol{\\mu} ^T  \\boldsymbol{\\mu} = \\frac{D}{2} \\ln 2 \\pi   +\\frac{1}{2} \\sum_{d=1}^{D} (\\sigma_d^2  + \\mu_d^2)\\\\\n",
    "\t-\\int q(\\mathbf{z}) \\ln q(\\mathbf{z}) d\\mathbf{z}  &= \\frac{D}{2} \\ln 2 \\pi +\\frac{1}{2} \\ln |\\boldsymbol{\\Sigma}| +\\frac{D}{2} = \\frac{D}{2} \\ln 2 \\pi +\\frac{1}{2} \\sum_{d=1}^{D} \\log \\sigma_d^2 +\\frac{D}{2} \n",
    "\\end{align*}\n",
    "\n",
    "From those expressions, and the KL expression above, it follows that\n",
    "\n",
    "\\begin{align*}\n",
    "\tKL(q || p) &= - \\frac{1}{2} \\sum_{d=1}^{D} (1 + \\log \\sigma_d^2  - \\sigma_d^2  - \\mu_d^2)\n",
    "\\end{align*}\n",
    "\n",
    "------------------------\n",
    "\n",
    "\n",
    "\n",
    "\n",
    "\n",
    "\n",
    "\n",
    "\n",
    "\n"
   ]
  },
  {
   "cell_type": "markdown",
   "metadata": {
    "deletable": false,
    "editable": false,
    "nbgrader": {
     "checksum": "328115c94a66e8aba0a62896e647c3ba",
     "grade": false,
     "grade_id": "cell-c49899cbf2a49362",
     "locked": true,
     "schema_version": 1,
     "solution": false
    }
   },
   "source": [
    "Write a function `KL_loss` that takes two J dimensional vectors `mu` and `logvar` and returns the negative Kullback–Leibler divergence. Where `logvar` is $\\log(\\sigma^2)$. Make sure that your function works for batches of arbitrary size."
   ]
  },
  {
   "cell_type": "code",
   "execution_count": 24,
   "metadata": {
    "collapsed": true,
    "deletable": false,
    "nbgrader": {
     "checksum": "33b14b79372dd0235d67bb66921cd3e0",
     "grade": false,
     "grade_id": "cell-125b41878005206b",
     "locked": false,
     "schema_version": 1,
     "solution": true
    }
   },
   "outputs": [],
   "source": [
    "def KL_loss(mu, logvar):\n",
    "    loss = -0.5 * torch.sum(1 + logvar - mu.pow(2) - logvar.exp())\n",
    "    return loss\n"
   ]
  },
  {
   "cell_type": "code",
   "execution_count": 25,
   "metadata": {
    "collapsed": true,
    "deletable": false,
    "editable": false,
    "nbgrader": {
     "checksum": "cf72e196d2b60827e8e940681ac50a07",
     "grade": true,
     "grade_id": "cell-ba714bbe270a3f39",
     "locked": true,
     "points": 5,
     "schema_version": 1,
     "solution": false
    }
   },
   "outputs": [],
   "source": [
    "### Test test test\n",
    "mu_test = torch.FloatTensor([[0.1, 0.2], [0.3, 0.4], [0.5, 0.6]])\n",
    "logvar_test = torch.FloatTensor([[0.01, 0.02], [0.03, 0.04], [0.05, 0.06]])\n",
    "\n",
    "assert KL_loss(mu_test, logvar_test) > 0.0\n",
    "assert KL_loss(mu_test, logvar_test) < 10.0\n"
   ]
  },
  {
   "cell_type": "markdown",
   "metadata": {
    "deletable": false,
    "editable": false,
    "nbgrader": {
     "checksum": "65335a588baac26bc48dd6c4d275fdca",
     "grade": false,
     "grade_id": "cell-18cb3f8031edec23",
     "locked": true,
     "schema_version": 1,
     "solution": false
    }
   },
   "source": [
    "### 2.1.3 Putting the losses together (5 points)\n",
    "Write a function `loss_function` that takes a D dimensional vector `x`, its reconstruction `x_hat`, two J dimensional vectors `mu` and `logvar` and returns the final loss. Make sure that your function works for batches of arbitrary size."
   ]
  },
  {
   "cell_type": "code",
   "execution_count": 26,
   "metadata": {
    "collapsed": true,
    "deletable": false,
    "nbgrader": {
     "checksum": "f6ecb5b60b2c8d7b90070ed59320ee70",
     "grade": false,
     "grade_id": "cell-d2d18781683f1302",
     "locked": false,
     "schema_version": 1,
     "solution": true
    }
   },
   "outputs": [],
   "source": [
    "def loss_function(x_hat, x, mu, logvar):\n",
    "    loss = log_bernoulli_loss(x_hat, x) + KL_loss(mu, logvar)\n",
    "    return loss\n"
   ]
  },
  {
   "cell_type": "code",
   "execution_count": 27,
   "metadata": {
    "collapsed": true,
    "deletable": false,
    "editable": false,
    "nbgrader": {
     "checksum": "816e9508408bfcb2c7332b508d505081",
     "grade": true,
     "grade_id": "cell-57747988d29bbb5d",
     "locked": true,
     "points": 5,
     "schema_version": 1,
     "solution": false
    }
   },
   "outputs": [],
   "source": [
    "x_test = torch.FloatTensor([[0.1, 0.2, 0.3], [0.4, 0.5, 0.6], [0.7, 0.8, 0.9]])\n",
    "x_hat_test = torch.FloatTensor([[0.11, 0.22, 0.33], [0.44, 0.55, 0.66], [0.77, 0.88, 0.99]])\n",
    "mu_test = torch.FloatTensor([[0.1, 0.2], [0.3, 0.4], [0.5, 0.6]])\n",
    "logvar_test = torch.FloatTensor([[0.01, 0.02], [0.03, 0.04], [0.05, 0.06]])\n",
    "\n",
    "assert loss_function(x_hat_test, x_test, mu_test, logvar_test) > 0.0\n",
    "assert loss_function(x_hat_test, x_test, mu_test, logvar_test) < 10.0\n"
   ]
  },
  {
   "cell_type": "markdown",
   "metadata": {
    "deletable": false,
    "editable": false,
    "nbgrader": {
     "checksum": "4506e06ed44a0535140582277a528ba4",
     "grade": false,
     "grade_id": "cell-9e3ba708967fe918",
     "locked": true,
     "schema_version": 1,
     "solution": false
    }
   },
   "source": [
    "### 2.2 The model\n",
    "Below you see a data structure for the VAE. The modell itself consists of two main parts the encoder (images $\\bx$ to latent variables $\\bz$) and the decoder (latent variables $\\bz$ to images $\\bx$). The encoder is using 3 fully-connected layers, whereas the decoder is using fully-connected layers. Right now the data structure is quite empty, step by step will update its functionality. For test purposes we will initialize a VAE for you. After the data structure is completed you will do the hyperparameter search.\n"
   ]
  },
  {
   "cell_type": "code",
   "execution_count": 28,
   "metadata": {
    "collapsed": true,
    "deletable": false,
    "editable": false,
    "nbgrader": {
     "checksum": "31eccf2f6600764e28eb4bc6c5634e49",
     "grade": false,
     "grade_id": "cell-e7d9dafee18f28a1",
     "locked": true,
     "schema_version": 1,
     "solution": false
    }
   },
   "outputs": [],
   "source": [
    "from torch import nn\n",
    "from torch.nn import functional as F \n",
    "\n",
    "class VAE(nn.Module):\n",
    "    def __init__(self, fc1_dims, fc21_dims, fc22_dims, fc3_dims, fc4_dims):\n",
    "        super(VAE, self).__init__()\n",
    "\n",
    "        self.fc1 = nn.Linear(*fc1_dims)\n",
    "        self.fc21 = nn.Linear(*fc21_dims)\n",
    "        self.fc22 = nn.Linear(*fc22_dims)\n",
    "        self.fc3 = nn.Linear(*fc3_dims)\n",
    "        self.fc4 = nn.Linear(*fc4_dims)\n",
    "\n",
    "    def encode(self, x):\n",
    "        # To be implemented\n",
    "        raise Exception('Method not implemented')\n",
    "\n",
    "    def reparameterize(self, mu, logvar):\n",
    "        # To be implemented\n",
    "        raise Exception('Method not implemented')\n",
    "\n",
    "    def decode(self, z):\n",
    "        # To be implemented\n",
    "        raise Exception('Method not implemented')\n",
    "\n",
    "    def forward(self, x):\n",
    "        # To be implemented\n",
    "        raise Exception('Method not implemented')\n",
    "\n",
    "VAE_test = VAE(fc1_dims=(784, 4), fc21_dims=(4, 2), fc22_dims=(4, 2), fc3_dims=(2, 4), fc4_dims=(4, 784))\n"
   ]
  },
  {
   "cell_type": "markdown",
   "metadata": {
    "deletable": false,
    "editable": false,
    "nbgrader": {
     "checksum": "1a2243397998b4f55c25dfd734f3e7e0",
     "grade": false,
     "grade_id": "cell-c4f9e841b8972a43",
     "locked": true,
     "schema_version": 1,
     "solution": false
    }
   },
   "source": [
    "### 2.3 Encoding (10 points)\n",
    "Write a function `encode` that gets a vector `x` with 784 elements (flattened MNIST image) and returns `mu` and `logvar`. Your function should use three fully-connected layers (`self.fc1()`, `self.fc21()`, `self.fc22()`). First, you should use `self.fc1()` to embed `x`. Second, you should use `self.fc21()` and `self.fc22()` on the embedding of `x` to compute `mu` and `logvar` respectively. PyTorch comes with a variety of activation functions, the most common calls are `F.relu()`, `F.sigmoid()`, `F.tanh()`. Make sure that your function works for batches of arbitrary size.  "
   ]
  },
  {
   "cell_type": "code",
   "execution_count": 29,
   "metadata": {
    "collapsed": true,
    "deletable": false,
    "nbgrader": {
     "checksum": "628bcd88c611cf01e70f77854600199b",
     "grade": false,
     "grade_id": "cell-93cb75b98ae76569",
     "locked": false,
     "schema_version": 1,
     "solution": true
    }
   },
   "outputs": [],
   "source": [
    "def encode(self, x):\n",
    "    h1 = F.relu(self.fc1(x))\n",
    "    mu = self.fc21(h1)\n",
    "    logvar = self.fc22(h1)\n",
    "    return mu, logvar\n"
   ]
  },
  {
   "cell_type": "code",
   "execution_count": 30,
   "metadata": {
    "collapsed": true,
    "deletable": false,
    "editable": false,
    "nbgrader": {
     "checksum": "370d930fa9f10f1d3a451f3805c04d88",
     "grade": true,
     "grade_id": "cell-9648960b73337a70",
     "locked": true,
     "points": 10,
     "schema_version": 1,
     "solution": false
    }
   },
   "outputs": [],
   "source": [
    "### Test, test, test\n",
    "VAE.encode = encode\n",
    "\n",
    "x_test = torch.ones((5,784))\n",
    "mu_test, logvar_test = VAE_test.encode(x_test)\n",
    "\n",
    "assert np.allclose(mu_test.size(), [5, 2])\n",
    "assert np.allclose(logvar_test.size(), [5, 2])\n"
   ]
  },
  {
   "cell_type": "markdown",
   "metadata": {
    "deletable": false,
    "editable": false,
    "nbgrader": {
     "checksum": "6f597cc2b5ef941af282d7162297f865",
     "grade": false,
     "grade_id": "cell-581b4ed1996be868",
     "locked": true,
     "schema_version": 1,
     "solution": false
    }
   },
   "source": [
    "### 2.4 Reparameterization (10 points)\n",
    "One of the major question that the VAE is answering, is 'how to take derivatives with respect to the parameters of a stochastic variable?', i.e. if we are given $\\bz$ that is drawn from a distribution $q(\\bz|\\bx)$, and we want to take derivatives. This step is necessary to be able to use gradient-based optimization algorithms like SGD.\n",
    "For some distributions, it is possible to reparameterize samples in a clever way, such that the stochasticity is independent of the parameters. We want our samples to deterministically depend on the parameters of the distribution. For example, in a normally-distributed variable with mean $\\mu$ and standard deviation $\\sigma$, we can sample from it like this:\n",
    "\n",
    "\\begin{align}\n",
    "\\bz = \\mu + \\sigma \\odot \\epsilon,\n",
    "\\end{align}\n",
    "\n",
    "where $\\odot$ is the element-wise multiplication and $\\epsilon$ is sampled from $N(0, I)$.\n",
    "\n",
    "\n",
    "Write a function `reparameterize` that takes two J dimensional vectors `mu` and `logvar`. It should return $\\bz = \\mu + \\sigma \\odot \\epsilon$.\n"
   ]
  },
  {
   "cell_type": "code",
   "execution_count": 31,
   "metadata": {
    "collapsed": true,
    "deletable": false,
    "nbgrader": {
     "checksum": "6331cb5dd23aaacbcf1a52cfecb1afaa",
     "grade": false,
     "grade_id": "cell-679aea8b2adf7ec4",
     "locked": false,
     "schema_version": 1,
     "solution": true
    }
   },
   "outputs": [],
   "source": [
    "def reparameterize(self, mu, logvar):\n",
    "    std = torch.exp(1/2 * logvar)\n",
    "    eps = torch.randn_like(std)\n",
    "    z = mu + std * eps \n",
    "    return z\n"
   ]
  },
  {
   "cell_type": "code",
   "execution_count": 32,
   "metadata": {
    "collapsed": true,
    "deletable": false,
    "editable": false,
    "nbgrader": {
     "checksum": "38d4e047717ab334b262c8c177f0a420",
     "grade": true,
     "grade_id": "cell-fdd7b27a3d17f84e",
     "locked": true,
     "points": 10,
     "schema_version": 1,
     "solution": false
    }
   },
   "outputs": [],
   "source": [
    "### Test, test, test\n",
    "VAE.reparameterize = reparameterize\n",
    "VAE_test.train()\n",
    "\n",
    "mu_test = torch.FloatTensor([[0.1, 0.2], [0.3, 0.4], [0.5, 0.6]])\n",
    "logvar_test = torch.FloatTensor([[0.01, 0.02], [0.03, 0.04], [0.05, 0.06]])\n",
    "\n",
    "z_test = VAE_test.reparameterize(mu_test, logvar_test)\n",
    "\n",
    "assert np.allclose(z_test.size(), [3, 2])\n",
    "assert z_test[0][0] < 5.0\n",
    "assert z_test[0][0] > -5.0\n"
   ]
  },
  {
   "cell_type": "markdown",
   "metadata": {
    "deletable": false,
    "editable": false,
    "nbgrader": {
     "checksum": "9241ab0eaf8366c37ad57072ce66f095",
     "grade": false,
     "grade_id": "cell-0be851f9f7f0a93e",
     "locked": true,
     "schema_version": 1,
     "solution": false
    }
   },
   "source": [
    "### 2.5 Decoding (10 points)\n",
    "Write a function `decode` that gets a vector `z` with J elements and returns a vector `x_hat` with 784 elements (flattened MNIST image). Your function should use two fully-connected layers (`self.fc3()`, `self.fc4()`). PyTorch comes with a variety of activation functions, the most common calls are `F.relu()`, `F.sigmoid()`, `F.tanh()`. Make sure that your function works for batches of arbitrary size."
   ]
  },
  {
   "cell_type": "code",
   "execution_count": 33,
   "metadata": {
    "collapsed": true,
    "deletable": false,
    "nbgrader": {
     "checksum": "e8e833cfd7c54a9b67a38056d5d6cab8",
     "grade": false,
     "grade_id": "cell-bf92bb3878275a41",
     "locked": false,
     "schema_version": 1,
     "solution": true
    }
   },
   "outputs": [],
   "source": [
    "def decode(self, z):\n",
    "    x_hat = F.relu(self.fc3(z))\n",
    "    x_hat = F.sigmoid(self.fc4(x_hat))\n",
    "    return x_hat\n"
   ]
  },
  {
   "cell_type": "code",
   "execution_count": 34,
   "metadata": {
    "collapsed": true,
    "deletable": false,
    "editable": false,
    "nbgrader": {
     "checksum": "7732293fd7d971fcf255496e8c68638d",
     "grade": true,
     "grade_id": "cell-4abb91cb9e80af5d",
     "locked": true,
     "points": 10,
     "schema_version": 1,
     "solution": false
    }
   },
   "outputs": [],
   "source": [
    "# test test test\n",
    "VAE.decode = decode\n",
    "\n",
    "z_test = torch.ones((5,2))\n",
    "x_hat_test = VAE_test.decode(z_test)\n",
    "\n",
    "assert np.allclose(x_hat_test.size(), [5, 784])\n",
    "assert (x_hat_test <= 1).all()\n",
    "assert (x_hat_test >= 0).all()\n"
   ]
  },
  {
   "cell_type": "markdown",
   "metadata": {
    "deletable": false,
    "editable": false,
    "nbgrader": {
     "checksum": "e2e113d1f45398b2a1399c336526e755",
     "grade": false,
     "grade_id": "cell-97511fbc4f5b469b",
     "locked": true,
     "schema_version": 1,
     "solution": false
    }
   },
   "source": [
    "### 2.6 Forward pass (10)\n",
    "To complete the data structure you have to define a forward pass through the VAE. A single forward pass consists of the encoding of an MNIST image $\\bx$ into latent space $\\bz$, the reparameterization of $\\bz$ and the decoding of $\\bz$ into an image $\\bx$.\n",
    "\n",
    "Write a function `forward` that gets a a vector `x` with 784 elements (flattened MNIST image) and returns a vector `x_hat` with 784 elements (flattened MNIST image), `mu` and `logvar`."
   ]
  },
  {
   "cell_type": "code",
   "execution_count": 35,
   "metadata": {
    "collapsed": true,
    "deletable": false,
    "nbgrader": {
     "checksum": "8b7433c4631dd01c07a5fe287e55ae13",
     "grade": false,
     "grade_id": "cell-26bb463b9f98ebd5",
     "locked": false,
     "schema_version": 1,
     "solution": true
    }
   },
   "outputs": [],
   "source": [
    "def forward(self, x):\n",
    "    x = x.view(-1, 784)\n",
    "    mu, logvar = self.encode(x)\n",
    "    z = self.reparameterize(mu, logvar)\n",
    "    x_hat = self.decode(z)\n",
    "    return x_hat, mu, logvar\n"
   ]
  },
  {
   "cell_type": "code",
   "execution_count": 36,
   "metadata": {
    "collapsed": true,
    "deletable": false,
    "editable": false,
    "nbgrader": {
     "checksum": "8e7e495f40465c162512e9873c360b25",
     "grade": true,
     "grade_id": "cell-347e5fba3d02754b",
     "locked": true,
     "points": 10,
     "schema_version": 1,
     "solution": false
    }
   },
   "outputs": [],
   "source": [
    "# test test test \n",
    "VAE.forward = forward\n",
    "\n",
    "x_test = torch.ones((5,784))\n",
    "x_hat_test, mu_test, logvar_test = VAE_test.forward(x_test)\n",
    "\n",
    "assert np.allclose(x_hat_test.size(), [5, 784])\n",
    "assert np.allclose(mu_test.size(), [5, 2])\n",
    "assert np.allclose(logvar_test.size(), [5, 2])\n"
   ]
  },
  {
   "cell_type": "markdown",
   "metadata": {
    "deletable": false,
    "editable": false,
    "nbgrader": {
     "checksum": "a114a6fd781fb949b887e6a028e07946",
     "grade": false,
     "grade_id": "cell-62c89e4d3b253671",
     "locked": true,
     "schema_version": 1,
     "solution": false
    }
   },
   "source": [
    "### 2.7 Training (15)\n",
    "We will now train the VAE using an optimizer called Adam, https://arxiv.org/abs/1412.6980. The code to train a model in PyTorch is given below."
   ]
  },
  {
   "cell_type": "code",
   "execution_count": 37,
   "metadata": {
    "collapsed": true,
    "deletable": false,
    "editable": false,
    "nbgrader": {
     "checksum": "f3b6bb965fb48229c63cacda48baea65",
     "grade": false,
     "grade_id": "cell-be75f61b09f3b9b6",
     "locked": true,
     "schema_version": 1,
     "solution": false
    }
   },
   "outputs": [],
   "source": [
    "from torch.autograd import Variable\n",
    "\n",
    "def train(epoch, train_loader, model, optimizer):\n",
    "    model.train()\n",
    "    train_loss = 0\n",
    "    for batch_idx, (data, _) in enumerate(train_loader):\n",
    "        data = Variable(data)\n",
    "        optimizer.zero_grad()\n",
    "        recon_batch, mu, logvar = model(data)\n",
    "        loss = loss_function(recon_batch, data.view(-1, 784), mu, logvar)\n",
    "        loss.backward()\n",
    "        train_loss += loss.data\n",
    "        optimizer.step()\n",
    "        if batch_idx % 100 == 0:\n",
    "            print('Train Epoch: {} [{}/{} ({:.0f}%)]\\tLoss: {:.6f}'.format(\n",
    "                epoch, batch_idx * len(data), len(train_loader.dataset),\n",
    "                100. * batch_idx / len(train_loader),\n",
    "                loss.data / len(data)))\n",
    "\n",
    "    print('====> Epoch: {} Average loss: {:.4f}'.format(\n",
    "          epoch, train_loss / len(train_loader.dataset)))\n"
   ]
  },
  {
   "cell_type": "markdown",
   "metadata": {
    "deletable": false,
    "editable": false,
    "nbgrader": {
     "checksum": "48ca730dbef06a668f4dfdb24888f265",
     "grade": false,
     "grade_id": "cell-da1b063b7de850b9",
     "locked": true,
     "schema_version": 1,
     "solution": false
    }
   },
   "source": [
    "Let's train. You have to choose the hyperparameters. Make sure your loss is going down in a reasonable amount of epochs (around 10)."
   ]
  },
  {
   "cell_type": "code",
   "execution_count": 38,
   "metadata": {
    "collapsed": true,
    "deletable": false,
    "nbgrader": {
     "checksum": "846430258fb80f50b161135448726520",
     "grade": false,
     "grade_id": "cell-d4d4408d397f6967",
     "locked": false,
     "schema_version": 1,
     "solution": true
    }
   },
   "outputs": [],
   "source": [
    "# Hyperparameters\n",
    "fc1_dims = (784, 400)\n",
    "fc21_dims = (400, 20)\n",
    "fc22_dims = (400, 20)\n",
    "fc3_dims = (20, 400)\n",
    "fc4_dims = (400, 784)\n",
    "lr = 0.001\n",
    "batch_size = 128\n",
    "epochs = 10\n"
   ]
  },
  {
   "cell_type": "code",
   "execution_count": 39,
   "metadata": {
    "collapsed": true,
    "deletable": false,
    "editable": false,
    "nbgrader": {
     "checksum": "b93390f399b743276bc25e67493344f2",
     "grade": true,
     "grade_id": "cell-ca352d8389c1809a",
     "locked": true,
     "points": 15,
     "schema_version": 1,
     "solution": false
    }
   },
   "outputs": [],
   "source": [
    "# This cell contains a hidden test, please don't delete it, thx"
   ]
  },
  {
   "cell_type": "markdown",
   "metadata": {
    "deletable": false,
    "editable": false,
    "nbgrader": {
     "checksum": "20719070ed85964de9722acc3456a515",
     "grade": false,
     "grade_id": "cell-5c77370db7cec9f2",
     "locked": true,
     "schema_version": 1,
     "solution": false
    }
   },
   "source": [
    "Run the box below to train the model using the hyperparameters you entered above."
   ]
  },
  {
   "cell_type": "code",
   "execution_count": 40,
   "metadata": {
    "deletable": false,
    "editable": false,
    "nbgrader": {
     "checksum": "38306be3638e85812bd5b2a052fcc0a4",
     "grade": false,
     "grade_id": "cell-5712d42de1068398",
     "locked": true,
     "schema_version": 1,
     "solution": false
    },
    "scrolled": true
   },
   "outputs": [
    {
     "name": "stdout",
     "output_type": "stream",
     "text": [
      "Train Epoch: 1 [0/60000 (0%)]\tLoss: 549.080933\n",
      "Train Epoch: 1 [12800/60000 (21%)]\tLoss: 174.812973\n",
      "Train Epoch: 1 [25600/60000 (43%)]\tLoss: 155.863464\n",
      "Train Epoch: 1 [38400/60000 (64%)]\tLoss: 140.523712\n",
      "Train Epoch: 1 [51200/60000 (85%)]\tLoss: 136.123383\n",
      "====> Epoch: 1 Average loss: 164.1155\n",
      "Train Epoch: 2 [0/60000 (0%)]\tLoss: 130.457916\n",
      "Train Epoch: 2 [12800/60000 (21%)]\tLoss: 124.440216\n",
      "Train Epoch: 2 [25600/60000 (43%)]\tLoss: 121.119637\n",
      "Train Epoch: 2 [38400/60000 (64%)]\tLoss: 117.109848\n",
      "Train Epoch: 2 [51200/60000 (85%)]\tLoss: 118.635345\n",
      "====> Epoch: 2 Average loss: 121.3830\n",
      "Train Epoch: 3 [0/60000 (0%)]\tLoss: 116.411163\n",
      "Train Epoch: 3 [12800/60000 (21%)]\tLoss: 107.948074\n",
      "Train Epoch: 3 [25600/60000 (43%)]\tLoss: 113.194458\n",
      "Train Epoch: 3 [38400/60000 (64%)]\tLoss: 111.878311\n",
      "Train Epoch: 3 [51200/60000 (85%)]\tLoss: 116.621796\n",
      "====> Epoch: 3 Average loss: 114.3433\n",
      "Train Epoch: 4 [0/60000 (0%)]\tLoss: 112.258392\n",
      "Train Epoch: 4 [12800/60000 (21%)]\tLoss: 112.560303\n",
      "Train Epoch: 4 [25600/60000 (43%)]\tLoss: 113.737000\n",
      "Train Epoch: 4 [38400/60000 (64%)]\tLoss: 109.284439\n",
      "Train Epoch: 4 [51200/60000 (85%)]\tLoss: 114.106560\n",
      "====> Epoch: 4 Average loss: 111.3866\n",
      "Train Epoch: 5 [0/60000 (0%)]\tLoss: 109.086349\n",
      "Train Epoch: 5 [12800/60000 (21%)]\tLoss: 111.400459\n",
      "Train Epoch: 5 [25600/60000 (43%)]\tLoss: 111.344154\n",
      "Train Epoch: 5 [38400/60000 (64%)]\tLoss: 106.616562\n",
      "Train Epoch: 5 [51200/60000 (85%)]\tLoss: 105.224358\n",
      "====> Epoch: 5 Average loss: 109.7272\n",
      "Train Epoch: 6 [0/60000 (0%)]\tLoss: 110.069893\n",
      "Train Epoch: 6 [12800/60000 (21%)]\tLoss: 110.312950\n",
      "Train Epoch: 6 [25600/60000 (43%)]\tLoss: 108.667816\n",
      "Train Epoch: 6 [38400/60000 (64%)]\tLoss: 109.934998\n",
      "Train Epoch: 6 [51200/60000 (85%)]\tLoss: 109.397537\n",
      "====> Epoch: 6 Average loss: 108.5957\n",
      "Train Epoch: 7 [0/60000 (0%)]\tLoss: 109.919960\n",
      "Train Epoch: 7 [12800/60000 (21%)]\tLoss: 106.549416\n",
      "Train Epoch: 7 [25600/60000 (43%)]\tLoss: 106.700226\n",
      "Train Epoch: 7 [38400/60000 (64%)]\tLoss: 106.950630\n",
      "Train Epoch: 7 [51200/60000 (85%)]\tLoss: 106.321609\n",
      "====> Epoch: 7 Average loss: 107.7511\n",
      "Train Epoch: 8 [0/60000 (0%)]\tLoss: 110.561966\n",
      "Train Epoch: 8 [12800/60000 (21%)]\tLoss: 108.605164\n",
      "Train Epoch: 8 [25600/60000 (43%)]\tLoss: 102.262032\n",
      "Train Epoch: 8 [38400/60000 (64%)]\tLoss: 104.754669\n",
      "Train Epoch: 8 [51200/60000 (85%)]\tLoss: 102.156967\n",
      "====> Epoch: 8 Average loss: 107.1659\n",
      "Train Epoch: 9 [0/60000 (0%)]\tLoss: 106.334747\n",
      "Train Epoch: 9 [12800/60000 (21%)]\tLoss: 106.522491\n",
      "Train Epoch: 9 [25600/60000 (43%)]\tLoss: 108.042160\n",
      "Train Epoch: 9 [38400/60000 (64%)]\tLoss: 104.794006\n",
      "Train Epoch: 9 [51200/60000 (85%)]\tLoss: 104.753616\n",
      "====> Epoch: 9 Average loss: 106.6718\n",
      "Train Epoch: 10 [0/60000 (0%)]\tLoss: 102.435097\n",
      "Train Epoch: 10 [12800/60000 (21%)]\tLoss: 111.231087\n",
      "Train Epoch: 10 [25600/60000 (43%)]\tLoss: 106.948837\n",
      "Train Epoch: 10 [38400/60000 (64%)]\tLoss: 104.716637\n",
      "Train Epoch: 10 [51200/60000 (85%)]\tLoss: 106.205627\n",
      "====> Epoch: 10 Average loss: 106.2514\n"
     ]
    }
   ],
   "source": [
    "from torchvision import datasets, transforms\n",
    "from torch import nn, optim\n",
    "\n",
    "# Load data\n",
    "train_data = datasets.MNIST('../data', train=True, download=True,\n",
    "                   transform=transforms.ToTensor())\n",
    "\n",
    "train_loader = torch.utils.data.DataLoader(train_data,\n",
    "                                           batch_size=batch_size, shuffle=True, **{})\n",
    "\n",
    "# Init model\n",
    "VAE_MNIST = VAE(fc1_dims=fc1_dims, fc21_dims=fc21_dims, fc22_dims=fc22_dims, fc3_dims=fc3_dims, fc4_dims=fc4_dims)\n",
    "\n",
    "# Init optimizer\n",
    "optimizer = optim.Adam(VAE_MNIST.parameters(), lr=lr)\n",
    "\n",
    "# Train\n",
    "for epoch in range(1, epochs + 1):\n",
    "    train(epoch, train_loader, VAE_MNIST, optimizer)\n"
   ]
  },
  {
   "cell_type": "markdown",
   "metadata": {
    "deletable": false,
    "editable": false,
    "nbgrader": {
     "checksum": "e2f8fcc9384e30cb154cf931f223898b",
     "grade": false,
     "grade_id": "cell-bd07c058c661b9c6",
     "locked": true,
     "schema_version": 1,
     "solution": false
    }
   },
   "source": [
    "Run the box below to check if the model you trained above is able to correctly reconstruct images."
   ]
  },
  {
   "cell_type": "code",
   "execution_count": 41,
   "metadata": {
    "deletable": false,
    "editable": false,
    "nbgrader": {
     "checksum": "80d198e03b1287741d761a12e38dcf73",
     "grade": false,
     "grade_id": "cell-df03d717307a6863",
     "locked": true,
     "schema_version": 1,
     "solution": false
    }
   },
   "outputs": [
    {
     "data": {
      "image/png": "[encoded data removed]",
      "text/plain": [
       "<Figure size 864x576 with 1 Axes>"
      ]
     },
     "metadata": {},
     "output_type": "display_data"
    },
    {
     "data": {
      "image/png": "[encoded data removed]",
      "text/plain": [
       "<Figure size 864x576 with 1 Axes>"
      ]
     },
     "metadata": {},
     "output_type": "display_data"
    },
    {
     "data": {
      "image/png": "[encoded data removed]",
      "text/plain": [
       "<Figure size 864x576 with 1 Axes>"
      ]
     },
     "metadata": {},
     "output_type": "display_data"
    },
    {
     "data": {
      "image/png": "[encoded data removed]",
      "text/plain": [
       "<Figure size 864x576 with 1 Axes>"
      ]
     },
     "metadata": {},
     "output_type": "display_data"
    }
   ],
   "source": [
    "### Let's check if the reconstructions make sense\n",
    "# Set model to test mode\n",
    "VAE_MNIST.eval()\n",
    "    \n",
    "# Reconstructed\n",
    "train_data_plot = datasets.MNIST('../data', train=True, download=True,\n",
    "                   transform=transforms.ToTensor())\n",
    "\n",
    "train_loader_plot = torch.utils.data.DataLoader(train_data_plot,\n",
    "                                           batch_size=1, shuffle=False, **{})\n",
    "\n",
    "for batch_idx, (data, _) in enumerate(train_loader_plot):\n",
    "    x_hat, mu, logvar = VAE_MNIST(data)\n",
    "    plt.imshow(x_hat.view(1,28,28).squeeze().data.numpy(), cmap='gray')\n",
    "    plt.title('%i' % train_data.train_labels[batch_idx])\n",
    "    plt.show()\n",
    "    if batch_idx == 3:\n",
    "        break\n"
   ]
  },
  {
   "cell_type": "markdown",
   "metadata": {
    "deletable": false,
    "editable": false,
    "nbgrader": {
     "checksum": "7f559122b150f5f1228d6b66b62f462c",
     "grade": false,
     "grade_id": "cell-76649d51fdf133dc",
     "locked": true,
     "schema_version": 1,
     "solution": false
    }
   },
   "source": [
    "### 2.8 Visualize latent space (20 points)\n",
    "Now, implement the auto-encoder now with a 2-dimensional latent space, and train again over the MNIST data. Make a visualization of the learned manifold by using a linearly spaced coordinate grid as input for the latent space, as seen in  https://arxiv.org/abs/1312.6114 Figure 4."
   ]
  },
  {
   "cell_type": "code",
   "execution_count": 42,
   "metadata": {
    "scrolled": true
   },
   "outputs": [
    {
     "name": "stdout",
     "output_type": "stream",
     "text": [
      "Train Epoch: 1 [0/60000 (0%)]\tLoss: 554.592590\n",
      "Train Epoch: 1 [12800/60000 (21%)]\tLoss: 209.523148\n",
      "Train Epoch: 1 [25600/60000 (43%)]\tLoss: 191.917328\n",
      "Train Epoch: 1 [38400/60000 (64%)]\tLoss: 182.557785\n",
      "Train Epoch: 1 [51200/60000 (85%)]\tLoss: 172.512238\n",
      "====> Epoch: 1 Average loss: 204.5454\n",
      "Train Epoch: 2 [0/60000 (0%)]\tLoss: 175.624649\n",
      "Train Epoch: 2 [12800/60000 (21%)]\tLoss: 175.830200\n",
      "Train Epoch: 2 [25600/60000 (43%)]\tLoss: 173.224213\n",
      "Train Epoch: 2 [38400/60000 (64%)]\tLoss: 179.612778\n",
      "Train Epoch: 2 [51200/60000 (85%)]\tLoss: 163.673264\n",
      "====> Epoch: 2 Average loss: 174.6481\n",
      "Train Epoch: 3 [0/60000 (0%)]\tLoss: 173.196152\n",
      "Train Epoch: 3 [12800/60000 (21%)]\tLoss: 170.953735\n",
      "Train Epoch: 3 [25600/60000 (43%)]\tLoss: 168.407883\n",
      "Train Epoch: 3 [38400/60000 (64%)]\tLoss: 172.898041\n",
      "Train Epoch: 3 [51200/60000 (85%)]\tLoss: 162.724609\n",
      "====> Epoch: 3 Average loss: 169.6187\n",
      "Train Epoch: 4 [0/60000 (0%)]\tLoss: 170.613419\n",
      "Train Epoch: 4 [12800/60000 (21%)]\tLoss: 171.693802\n",
      "Train Epoch: 4 [25600/60000 (43%)]\tLoss: 161.662735\n",
      "Train Epoch: 4 [38400/60000 (64%)]\tLoss: 173.998764\n",
      "Train Epoch: 4 [51200/60000 (85%)]\tLoss: 171.696518\n",
      "====> Epoch: 4 Average loss: 167.0996\n",
      "Train Epoch: 5 [0/60000 (0%)]\tLoss: 173.357925\n",
      "Train Epoch: 5 [12800/60000 (21%)]\tLoss: 166.839691\n",
      "Train Epoch: 5 [25600/60000 (43%)]\tLoss: 165.224075\n",
      "Train Epoch: 5 [38400/60000 (64%)]\tLoss: 164.336548\n",
      "Train Epoch: 5 [51200/60000 (85%)]\tLoss: 162.352249\n",
      "====> Epoch: 5 Average loss: 165.2963\n",
      "Train Epoch: 6 [0/60000 (0%)]\tLoss: 165.943710\n",
      "Train Epoch: 6 [12800/60000 (21%)]\tLoss: 159.297073\n",
      "Train Epoch: 6 [25600/60000 (43%)]\tLoss: 173.495605\n",
      "Train Epoch: 6 [38400/60000 (64%)]\tLoss: 166.114929\n",
      "Train Epoch: 6 [51200/60000 (85%)]\tLoss: 165.138397\n",
      "====> Epoch: 6 Average loss: 163.8681\n",
      "Train Epoch: 7 [0/60000 (0%)]\tLoss: 162.566574\n",
      "Train Epoch: 7 [12800/60000 (21%)]\tLoss: 157.133743\n",
      "Train Epoch: 7 [25600/60000 (43%)]\tLoss: 153.186249\n",
      "Train Epoch: 7 [38400/60000 (64%)]\tLoss: 163.335892\n",
      "Train Epoch: 7 [51200/60000 (85%)]\tLoss: 155.955399\n",
      "====> Epoch: 7 Average loss: 162.7057\n",
      "Train Epoch: 8 [0/60000 (0%)]\tLoss: 165.971115\n",
      "Train Epoch: 8 [12800/60000 (21%)]\tLoss: 159.792908\n",
      "Train Epoch: 8 [25600/60000 (43%)]\tLoss: 166.989883\n",
      "Train Epoch: 8 [38400/60000 (64%)]\tLoss: 154.912811\n",
      "Train Epoch: 8 [51200/60000 (85%)]\tLoss: 152.962387\n",
      "====> Epoch: 8 Average loss: 161.8131\n",
      "Train Epoch: 9 [0/60000 (0%)]\tLoss: 162.158325\n",
      "Train Epoch: 9 [12800/60000 (21%)]\tLoss: 163.304291\n",
      "Train Epoch: 9 [25600/60000 (43%)]\tLoss: 155.977036\n",
      "Train Epoch: 9 [38400/60000 (64%)]\tLoss: 165.142883\n",
      "Train Epoch: 9 [51200/60000 (85%)]\tLoss: 163.008133\n",
      "====> Epoch: 9 Average loss: 160.9316\n",
      "Train Epoch: 10 [0/60000 (0%)]\tLoss: 167.036621\n",
      "Train Epoch: 10 [12800/60000 (21%)]\tLoss: 160.614624\n",
      "Train Epoch: 10 [25600/60000 (43%)]\tLoss: 153.307800\n",
      "Train Epoch: 10 [38400/60000 (64%)]\tLoss: 156.478821\n",
      "Train Epoch: 10 [51200/60000 (85%)]\tLoss: 156.564377\n",
      "====> Epoch: 10 Average loss: 160.3051\n"
     ]
    }
   ],
   "source": [
    "fc1_dims = (784, 128)\n",
    "fc21_dims = (128, 2)\n",
    "fc22_dims = (128, 2)\n",
    "fc3_dims = (2, 128)\n",
    "fc4_dims = (128, 784)\n",
    "lr = 0.001\n",
    "batch_size = 128\n",
    "epochs = 10\n",
    "\n",
    "# Load data\n",
    "train_data = datasets.MNIST('../data', train=True, download=True,\n",
    "                   transform=transforms.ToTensor())\n",
    "\n",
    "train_loader = torch.utils.data.DataLoader(train_data,\n",
    "                                           batch_size=batch_size, shuffle=True, **{})\n",
    "\n",
    "# Init model\n",
    "VAE_MNIST = VAE(fc1_dims=fc1_dims, fc21_dims=fc21_dims, fc22_dims=fc22_dims, fc3_dims=fc3_dims, fc4_dims=fc4_dims)\n",
    "\n",
    "# Init optimizer\n",
    "optimizer = optim.Adam(VAE_MNIST.parameters(), lr=lr)\n",
    "\n",
    "# Train\n",
    "for epoch in range(1, epochs + 1):\n",
    "    train(epoch, train_loader, VAE_MNIST, optimizer)"
   ]
  },
  {
   "cell_type": "code",
   "execution_count": 43,
   "metadata": {
    "deletable": false,
    "nbgrader": {
     "checksum": "c879ffdb0d355349d7144a33d16ca93a",
     "grade": true,
     "grade_id": "cell-4a0af6d08d055bee",
     "locked": false,
     "points": 20,
     "schema_version": 1,
     "solution": true
    }
   },
   "outputs": [
    {
     "data": {
      "image/png": "[encoded data removed]",
      "text/plain": [
       "<Figure size 720x720 with 1 Axes>"
      ]
     },
     "metadata": {},
     "output_type": "display_data"
    }
   ],
   "source": [
    "from scipy.stats import norm\n",
    "\n",
    "# Display a 2D manifold of the digits\n",
    "grid_size = 20  # figure with 20x20 digits\n",
    "digit_size = 28\n",
    "figure = np.zeros((digit_size * grid_size, digit_size * grid_size))\n",
    "\n",
    "# Construct grid of latent variable values\n",
    "grid_x = norm.ppf(np.linspace(0, 1, grid_size))\n",
    "grid_y = norm.ppf(np.linspace(0, 1, grid_size))\n",
    "\n",
    "# # decode for each square in the grid\n",
    "for i, yi in enumerate(grid_x):\n",
    "    for j, xi in enumerate(grid_y):\n",
    "        z_sample = np.array([[xi, yi]])\n",
    "        z_sample = np.tile(z_sample, batch_size).reshape(batch_size, 2)\n",
    "        x_decoded = VAE_MNIST.decode(torch.FloatTensor(z_sample))\n",
    "        digit = x_decoded[0].reshape(digit_size, digit_size)\n",
    "        figure[i * digit_size: (i + 1) * digit_size,\n",
    "               j * digit_size: (j + 1) * digit_size] = digit.data.numpy()\n",
    "\n",
    "plt.figure(figsize=(10, 10))\n",
    "plt.axis('off')\n",
    "plt.imshow(figure, cmap='Greys')\n",
    "plt.show()  "
   ]
  },
  {
   "cell_type": "markdown",
   "metadata": {
    "deletable": false,
    "editable": false,
    "nbgrader": {
     "checksum": "b9eb1684d646eea84a25638d184bfbda",
     "grade": false,
     "grade_id": "cell-dc5e1247a1e21009",
     "locked": true,
     "schema_version": 1,
     "solution": false
    }
   },
   "source": [
    "### 2.8 Amortized inference (10 points)\n",
    "What is amortized inference? Where in the code of Part 2 is it used? What is the benefit of using it?\n"
   ]
  },
  {
   "cell_type": "markdown",
   "metadata": {
    "deletable": false,
    "nbgrader": {
     "checksum": "364ed922da59070f319d0bdfb0e41d92",
     "grade": true,
     "grade_id": "cell-6f7808a9b0098dbf",
     "locked": false,
     "points": 10,
     "schema_version": 1,
     "solution": true
    }
   },
   "source": [
    "Amortized inference refers to using past inferences as a base for future computations. In our case, we have that instead of approximating separate variables for each datapoint, we assume that latent variables can be predicted by a parametrized function of the data. This function is estimated using neural networks, so that latent variables can be obtained by passing new data points through the network.\n",
    "\n",
    "In our code, it is used in the encoder $q_{\\phi}(z | x)$, because the modeled distribution does not depend on local parameters, but is conditioned on the data and parametrized by global parameters $\\phi$. This has the advantage of allowing the generation (sampling) of new datapoints starting from the latent variables."
   ]
  },
  {
   "cell_type": "code",
   "execution_count": null,
   "metadata": {
    "collapsed": true
   },
   "outputs": [],
   "source": []
  }
 ],
 "metadata": {
  "kernelspec": {
   "display_name": "Python [conda env:ml2labs]",
   "language": "python",
   "name": "conda-env-ml2labs-py"
  },
  "language_info": {
   "codemirror_mode": {
    "name": "ipython",
    "version": 3
   },
   "file_extension": ".py",
   "mimetype": "text/x-python",
   "name": "python",
   "nbconvert_exporter": "python",
   "pygments_lexer": "ipython3",
   "version": "3.6.4"
  }
 },
 "nbformat": 4,
 "nbformat_minor": 2
}
